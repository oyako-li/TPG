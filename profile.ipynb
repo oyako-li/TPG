{
 "cells": [
  {
   "cell_type": "markdown",
   "metadata": {},
   "source": [
    "# Pre"
   ]
  },
  {
   "cell_type": "code",
   "execution_count": 86,
   "metadata": {},
   "outputs": [],
   "source": [
    "%matplotlib inline\n",
    "import numpy as np\n",
    "import _tpg.tpg as tp\n",
    "import matplotlib.pyplot as plt\n",
    "import os\n",
    "import gym\n",
    "import random\n",
    "from datetime import datetime"
   ]
  },
  {
   "cell_type": "code",
   "execution_count": 6,
   "metadata": {},
   "outputs": [],
   "source": [
    "def log_load(title , task, renge, _step=5):\n",
    "    l =[]\n",
    "\n",
    "    with open(f\"{title}.log\", \"r\") as file:\n",
    "        lines = file.readlines()\n",
    "        for line in lines:\n",
    "            results = line.replace('\\n','').split(', ')[2:]\n",
    "            # breakpoint(results)\n",
    "            if len(results)<2: continue\n",
    "            if f'{task}' in results[0] and 'generation:' in results[1]:\n",
    "                l.append([float(re.split(':')[1]) for re in results[2:]])\n",
    "                end = int(results[1].split(':')[1])\n",
    "\n",
    "    __min = []\n",
    "    __mi = 0.\n",
    "    __max = []\n",
    "    __ma = 0.\n",
    "    __ave = []\n",
    "    __av = 0.\n",
    "    for i, item in enumerate(l):\n",
    "        _min, _max, _ave = item\n",
    "        __mi+=_min\n",
    "        __ma+=_max\n",
    "        __av+=_ave\n",
    "        # if i==0: continue\n",
    "        if i%_step==_step-1:\n",
    "            __min.append(__mi/float(_step))\n",
    "            __mi=0.\n",
    "            __max.append(__ma/float(_step))\n",
    "            __ma=0.\n",
    "            __ave.append(__av/float(_step))\n",
    "            __av=0.\n",
    "        if i == renge: break\n",
    "    mi = np.array(__min)\n",
    "    ma = np.array(__max)\n",
    "    av = np.array(__ave)\n",
    "    \n",
    "    return mi, ma, av, end"
   ]
  },
  {
   "cell_type": "code",
   "execution_count": 15,
   "metadata": {},
   "outputs": [],
   "source": [
    "def log_accumlation(title, task, _renge=100, _step=5):\n",
    "    l =[]\n",
    "\n",
    "    with open(f\"{title}.log\", \"r\") as file:\n",
    "        lines = file.readlines()\n",
    "        for line in lines:\n",
    "            results = line.replace('\\n','').split(', ')[2:]\n",
    "            # breakpoint(results)\n",
    "            if len(results)<2: continue\n",
    "            if (f'{task}' in results[0] or f'{task}' == 'any') and 'generation:' in results[1]:\n",
    "                l.append([float(re.split(':')[1]) for re in results[2:]])\n",
    "                end = int(results[1].split(':')[1])\n",
    "\n",
    "    __min = [0.]\n",
    "    __mi = 0.\n",
    "    __max = [0.]\n",
    "    __ma = 0.\n",
    "    __ave = [0.]\n",
    "    __av = 0.\n",
    "    for i, item in enumerate(l):\n",
    "        _min, _max, _ave = item\n",
    "        __mi+=_min\n",
    "        __ma+=_max\n",
    "        __av+=_ave\n",
    "        # if i==0: continue\n",
    "        if i%_step==_step-1:\n",
    "            __mi/=float(_step)\n",
    "            __mi+=__min[-1]\n",
    "            __min.append(__mi)\n",
    "            __mi=0.\n",
    "            __ma/=float(_step)\n",
    "            __ma+=__max[-1]\n",
    "            __max.append(__ma)\n",
    "            __ma=0.\n",
    "            __av/=float(_step)\n",
    "            __av+=__ave[-1]\n",
    "            __ave.append(__av)\n",
    "            __av=0.\n",
    "        if i == _renge: break\n",
    "\n",
    "    mi = np.array(__min)\n",
    "    ma = np.array(__max)\n",
    "    av = np.array(__ave)\n",
    "    \n",
    "    return mi, ma, av, end\n"
   ]
  },
  {
   "cell_type": "code",
   "execution_count": 90,
   "metadata": {},
   "outputs": [],
   "source": [
    "def test_multi_elite(tpg, _title=None):\n",
    "    \"\"\" マルチタスク学習に対応できるように、改良。\n",
    "    \"\"\"\n",
    "    tasks=[]\n",
    "    archive = []\n",
    "\n",
    "    if os.path.exists('./.tasks'):\n",
    "        with open('./.tasks', 'r') as task_file:\n",
    "            tasks = task_file.read().splitlines()\n",
    "            random.seed(datetime.now().strftime('%Y%m%d%H%M%S'))\n",
    "            random.shuffle(tasks)\n",
    "            print(tasks, type(tasks))\n",
    "    else:\n",
    "        raise Exception('tasksDoesntExist')\n",
    "\n",
    "    if _title:\n",
    "        if os.path.exists(_title):\n",
    "            tpg.load_story(_title)\n",
    "        else:\n",
    "            raise Exception('titleDoesntExist')\n",
    "    \n",
    "    try:\n",
    "        for task in tasks:\n",
    "            # tpg.setEnv()\n",
    "            title = tpg.success_story(_task=gym.make(task))\n",
    "            archive.append(title)\n",
    "    except Exception as e:\n",
    "        print(e)\n",
    "        # os.remove('./tasks.txt')\n",
    "    return archive\n"
   ]
  },
  {
   "cell_type": "markdown",
   "metadata": {},
   "source": [
    "# chaos"
   ]
  },
  {
   "cell_type": "markdown",
   "metadata": {},
   "source": [
    "### TPG"
   ]
  },
  {
   "cell_type": "code",
   "execution_count": null,
   "metadata": {},
   "outputs": [],
   "source": [
    "prefix = '../../../Downloads/test/'\n",
    "files = [\n",
    "    f'{prefix}2022-12-04/',\n",
    "    f'{prefix}2022-12-05/',\n",
    "    f'{prefix}2022-12-05/',\n",
    "    f'{prefix}2022-12-05/',\n",
    "    f'{prefix}2022-12-05/',\n",
    "    f'{prefix}2022-12-05/',\n",
    "    f'{prefix}2022-12-05/',\n",
    "    f'{prefix}2022-12-05/',\n",
    "    f'{prefix}2022-12-05/',\n",
    "    f'{prefix}2022-12-05/'\n",
    "]"
   ]
  },
  {
   "cell_type": "markdown",
   "metadata": {},
   "source": [
    "### MHTPG"
   ]
  },
  {
   "cell_type": "code",
   "execution_count": 32,
   "metadata": {},
   "outputs": [],
   "source": [
    "prefix = '../../../Downloads/test/'\n",
    "files = [\n",
    "    f'{prefix}2022-12-04/22-12-45',\n",
    "    f'{prefix}2022-12-05/10-02-26',\n",
    "    f'{prefix}2022-12-05/10-26-46',\n",
    "    f'{prefix}2022-12-05/10-56-46',\n",
    "    f'{prefix}2022-12-05/11-20-13',\n",
    "    f'{prefix}2022-12-05/11-48-00',\n",
    "    f'{prefix}2022-12-05/12-19-21',\n",
    "    f'{prefix}2022-12-05/12-40-11',\n",
    "    f'{prefix}2022-12-05/13-06-28',\n",
    "    f'{prefix}2022-12-05/13-30-22'\n",
    "]"
   ]
  },
  {
   "cell_type": "markdown",
   "metadata": {},
   "source": [
    "### Actor1"
   ]
  },
  {
   "cell_type": "code",
   "execution_count": 35,
   "metadata": {},
   "outputs": [],
   "source": [
    "prefix = 'log/test/'\n",
    "files = [\n",
    "    f'{prefix}2022-12-05/07-20-22',\n",
    "    f'{prefix}2022-12-05/10-03-30',\n",
    "    f'{prefix}2022-12-05/10-21-47',\n",
    "    f'{prefix}2022-12-05/10-41-03',\n",
    "    f'{prefix}2022-12-05/11-00-45',\n",
    "    f'{prefix}2022-12-05/11-18-39',\n",
    "    f'{prefix}2022-12-05/11-35-38',\n",
    "    f'{prefix}2022-12-05/11-55-13',\n",
    "    f'{prefix}2022-12-05/12-16-18',\n",
    "    f'{prefix}2022-12-05/12-36-15',\n",
    "]"
   ]
  },
  {
   "cell_type": "markdown",
   "metadata": {},
   "source": [
    "### Show"
   ]
  },
  {
   "cell_type": "code",
   "execution_count": 36,
   "metadata": {},
   "outputs": [],
   "source": [
    "renge=100\n",
    "step=5\n",
    "ends = (renge//step)\n",
    "\n",
    "mi = np.zeros(ends+1)\n",
    "ma = np.zeros(ends+1)\n",
    "av = np.zeros(ends+1)\n",
    "end=0\n",
    "for file in files:\n",
    "    _mi, _ma, _av, end = log_accumlation(file,'any', _renge=renge, _step=step)\n",
    "    assert _mi.size==mi.size, f'{file} {_mi.size} dont match'\n",
    "    mi=np.add(mi,_mi)\n",
    "    ma=np.add(ma,_ma)\n",
    "    av=np.add(av,_av)\n",
    "mi=np.divide(mi,10)\n",
    "ma=np.divide(ma,10)\n",
    "av=np.divide(av,10)\n",
    "ge = np.arange((ends-mi.size)*step, ends*step, step)\n",
    "\n",
    "plt.plot(ge, mi, label='min')\n",
    "plt.plot(ge, ma, label='max')\n",
    "plt.plot(ge, av, label='ave')\n",
    "\n",
    "plt.ylabel('Score')\n",
    "plt.xlabel('Generation')\n",
    "plt.legend()\n",
    "plt.show()"
   ]
  },
  {
   "cell_type": "markdown",
   "metadata": {},
   "source": [
    "# single each"
   ]
  },
  {
   "cell_type": "markdown",
   "metadata": {},
   "source": [
    "### TPG"
   ]
  },
  {
   "cell_type": "markdown",
   "metadata": {},
   "source": [
    "#### ALE/Pitfall-ram-v5"
   ]
  },
  {
   "cell_type": "code",
   "execution_count": 53,
   "metadata": {},
   "outputs": [],
   "source": [
    "prefix = '../../../Downloads/test/'\n",
    "files = [\n",
    "    f'{prefix}2022-12-06/00-27-30',\n",
    "    f'{prefix}2022-12-06/01-13-37',\n",
    "    f'{prefix}2022-12-05/18-12-27',\n",
    "    f'{prefix}2022-12-05/18-55-45',\n",
    "    f'{prefix}2022-12-05/19-43-00',\n",
    "    f'{prefix}2022-12-05/20-32-31',\n",
    "    f'{prefix}2022-12-05/21-21-33',\n",
    "    f'{prefix}2022-12-05/22-10-14',\n",
    "    f'{prefix}2022-12-05/22-54-57',\n",
    "    f'{prefix}2022-12-05/23-40-53'\n",
    "]\n",
    "task=\"ALE/Pitfall-ram-v5\""
   ]
  },
  {
   "cell_type": "markdown",
   "metadata": {},
   "source": [
    "#### SpaceInvaders-v0"
   ]
  },
  {
   "cell_type": "code",
   "execution_count": 44,
   "metadata": {},
   "outputs": [],
   "source": [
    "prefix = '../../../Downloads/test/'\n",
    "files = [\n",
    "    f'{prefix}2022-12-06/00-32-30',\n",
    "    f'{prefix}2022-12-06/01-18-41',\n",
    "    f'{prefix}2022-12-05/18-16-57',\n",
    "    f'{prefix}2022-12-05/19-00-08',\n",
    "    f'{prefix}2022-12-05/19-48-13',\n",
    "    f'{prefix}2022-12-05/20-37-43',\n",
    "    f'{prefix}2022-12-05/21-26-49',\n",
    "    f'{prefix}2022-12-05/22-15-06',\n",
    "    f'{prefix}2022-12-05/22-59-12',\n",
    "    f'{prefix}2022-12-05/23-45-09'\n",
    "]\n",
    "task=\"SpaceInvaders-v0\"\n"
   ]
  },
  {
   "cell_type": "markdown",
   "metadata": {},
   "source": [
    "#### Hero-ramDeterministic-v4"
   ]
  },
  {
   "cell_type": "code",
   "execution_count": 55,
   "metadata": {},
   "outputs": [],
   "source": [
    "prefix = '../../../Downloads/test/'\n",
    "files = [\n",
    "    f'{prefix}2022-12-06/00-11-55',\n",
    "    f'{prefix}2022-12-06/00-58-12',\n",
    "    f'{prefix}2022-12-06/01-42-18',\n",
    "    f'{prefix}2022-12-05/18-40-53',\n",
    "    f'{prefix}2022-12-05/19-26-12',\n",
    "    f'{prefix}2022-12-05/20-14-39',\n",
    "    f'{prefix}2022-12-05/21-02-29',\n",
    "    f'{prefix}2022-12-05/21-52-21',\n",
    "    f'{prefix}2022-12-05/22-39-00',\n",
    "    f'{prefix}2022-12-05/23-23-55'\n",
    "]\n",
    "task=\"Hero-ramDeterministic-v4\""
   ]
  },
  {
   "cell_type": "markdown",
   "metadata": {},
   "source": [
    "#### MontezumaRevengeDeterministic-v0"
   ]
  },
  {
   "cell_type": "code",
   "execution_count": 57,
   "metadata": {},
   "outputs": [],
   "source": [
    "prefix = '../../../Downloads/test/'\n",
    "files = [\n",
    "    f'{prefix}2022-12-06/00-42-45',\n",
    "    f'{prefix}2022-12-06/01-28-22',\n",
    "    f'{prefix}2022-12-05/18-27-30',\n",
    "    f'{prefix}2022-12-05/19-10-51',\n",
    "    f'{prefix}2022-12-05/19-59-25',\n",
    "    f'{prefix}2022-12-05/20-47-27',\n",
    "    f'{prefix}2022-12-05/21-36-45',\n",
    "    f'{prefix}2022-12-05/22-25-28',\n",
    "    f'{prefix}2022-12-05/23-08-50',\n",
    "    f'{prefix}2022-12-05/23-55-52'\n",
    "]\n",
    "task=\"MontezumaRevengeDeterministic-v0\"\n"
   ]
  },
  {
   "cell_type": "markdown",
   "metadata": {},
   "source": [
    "#### Hero-v4"
   ]
  },
  {
   "cell_type": "code",
   "execution_count": 60,
   "metadata": {},
   "outputs": [],
   "source": [
    "prefix = '../../../Downloads/test/'\n",
    "files = [\n",
    "    f'{prefix}2022-12-06/00-00-25',\n",
    "    f'{prefix}2022-12-06/00-46-24',\n",
    "    f'{prefix}2022-12-06/01-31-23',\n",
    "    f'{prefix}2022-12-05/18-30-02',\n",
    "    f'{prefix}2022-12-05/19-14-45',\n",
    "    f'{prefix}2022-12-05/20-03-36',\n",
    "    f'{prefix}2022-12-05/20-50-41',\n",
    "    f'{prefix}2022-12-05/21-42-13',\n",
    "    f'{prefix}2022-12-05/22-28-36',\n",
    "    f'{prefix}2022-12-05/23-12-35'\n",
    "]\n",
    "task=\"Hero-v4\"\n"
   ]
  },
  {
   "cell_type": "markdown",
   "metadata": {},
   "source": [
    "#### PrivateEye-ramDeterministic-v0"
   ]
  },
  {
   "cell_type": "code",
   "execution_count": 62,
   "metadata": {},
   "outputs": [],
   "source": [
    "prefix = '../../../Downloads/test/'\n",
    "files = [\n",
    "    f'{prefix}2022-12-06/00-37-30',\n",
    "    f'{prefix}2022-12-06/01-23-24',\n",
    "    f'{prefix}2022-12-05/18-22-02',\n",
    "    f'{prefix}2022-12-05/19-04-50',\n",
    "    f'{prefix}2022-12-05/19-53-40',\n",
    "    f'{prefix}2022-12-05/20-42-27',\n",
    "    f'{prefix}2022-12-05/21-30-50',\n",
    "    f'{prefix}2022-12-05/22-20-03',\n",
    "    f'{prefix}2022-12-05/23-03-47',\n",
    "    f'{prefix}2022-12-05/23-49-02'\n",
    "]\n",
    "task=\"PrivateEye-ramDeterministic-v0\"\n"
   ]
  },
  {
   "cell_type": "markdown",
   "metadata": {},
   "source": [
    "#### ALE/Jamesbond-ram-v5"
   ]
  },
  {
   "cell_type": "code",
   "execution_count": 64,
   "metadata": {},
   "outputs": [],
   "source": [
    "prefix = '../../../Downloads/test/'\n",
    "files = [\n",
    "    f'{prefix}2022-12-06/00-19-22',\n",
    "    f'{prefix}2022-12-06/01-06-06',\n",
    "    f'{prefix}2022-12-06/01-49-49',\n",
    "    f'{prefix}2022-12-05/18-47-53',\n",
    "    f'{prefix}2022-12-05/19-34-28',\n",
    "    f'{prefix}2022-12-05/20-22-35',\n",
    "    f'{prefix}2022-12-05/21-10-58',\n",
    "    f'{prefix}2022-12-05/22-00-52',\n",
    "    f'{prefix}2022-12-05/22-45-37',\n",
    "    f'{prefix}2022-12-05/23-32-06'\n",
    "]\n",
    "task=\"ALE/Jamesbond-ram-v5\"\n"
   ]
  },
  {
   "cell_type": "markdown",
   "metadata": {},
   "source": [
    "#### ALE/WizardOfWor-v5"
   ]
  },
  {
   "cell_type": "code",
   "execution_count": 66,
   "metadata": {},
   "outputs": [],
   "source": [
    "prefix = '../../../Downloads/test/'\n",
    "files = [\n",
    "    f'{prefix}2022-12-06/00-23-08',\n",
    "    f'{prefix}2022-12-06/01-09-33',\n",
    "    f'{prefix}2022-12-06/01-54-12',\n",
    "    f'{prefix}2022-12-05/18-50-59',\n",
    "    f'{prefix}2022-12-05/19-38-05',\n",
    "    f'{prefix}2022-12-05/20-26-57',\n",
    "    f'{prefix}2022-12-05/21-16-27',\n",
    "    f'{prefix}2022-12-05/22-04-56',\n",
    "    f'{prefix}2022-12-05/22-49-14',\n",
    "    f'{prefix}2022-12-05/23-35-35'\n",
    "]\n",
    "task=\"ALE/WizardOfWor-v5\"\n"
   ]
  },
  {
   "cell_type": "markdown",
   "metadata": {},
   "source": [
    "#### DoubleDunk-ramNoFrameskip-v4"
   ]
  },
  {
   "cell_type": "code",
   "execution_count": 68,
   "metadata": {},
   "outputs": [],
   "source": [
    "prefix = '../../../Downloads/test/'\n",
    "files = [\n",
    "    f'{prefix}2022-12-06/00-16-51',\n",
    "    f'{prefix}2022-12-06/01-04-15',\n",
    "    f'{prefix}2022-12-06/01-47-30',\n",
    "    f'{prefix}2022-12-05/18-46-02',\n",
    "    f'{prefix}2022-12-05/19-32-14',\n",
    "    f'{prefix}2022-12-05/20-20-28',\n",
    "    f'{prefix}2022-12-05/21-08-43',\n",
    "    f'{prefix}2022-12-05/21-57-55',\n",
    "    f'{prefix}2022-12-05/22-43-21',\n",
    "    f'{prefix}2022-12-05/23-29-18'\n",
    "]\n",
    "task=\"DoubleDunk-ramNoFrameskip-v4\"\n"
   ]
  },
  {
   "cell_type": "markdown",
   "metadata": {},
   "source": [
    "#### PitfallDeterministic-v4"
   ]
  },
  {
   "cell_type": "code",
   "execution_count": 70,
   "metadata": {},
   "outputs": [],
   "source": [
    "prefix = '../../../Downloads/test/'\n",
    "files = [\n",
    "    f'{prefix}2022-12-06/00-05-48',\n",
    "    f'{prefix}2022-12-06/00-51-54',\n",
    "    f'{prefix}2022-12-06/01-36-39',\n",
    "    f'{prefix}2022-12-05/18-35-06',\n",
    "    f'{prefix}2022-12-05/19-20-43',\n",
    "    f'{prefix}2022-12-05/20-08-39',\n",
    "    f'{prefix}2022-12-05/20-55-44',\n",
    "    f'{prefix}2022-12-05/21-47-05',\n",
    "    f'{prefix}2022-12-05/22-33-58',\n",
    "    f'{prefix}2022-12-05/23-17-36'\n",
    "]\n",
    "task=\"PitfallDeterministic-v4\"\n"
   ]
  },
  {
   "cell_type": "markdown",
   "metadata": {},
   "source": [
    "#### Show"
   ]
  },
  {
   "cell_type": "code",
   "execution_count": 71,
   "metadata": {},
   "outputs": [
    {
     "data": {
      "image/png": "[encoded data removed]",
      "text/plain": [
       "<Figure size 432x288 with 1 Axes>"
      ]
     },
     "metadata": {
      "needs_background": "light"
     },
     "output_type": "display_data"
    }
   ],
   "source": [
    "renge=100\n",
    "step=5\n",
    "ends = (renge//step)\n",
    "\n",
    "mi = np.zeros(ends)\n",
    "ma = np.zeros(ends)\n",
    "av = np.zeros(ends)\n",
    "end=0\n",
    "for file in files:\n",
    "    _mi, _ma, _av, end = log_load(file,task, renge=renge, _step=step)\n",
    "    assert _mi.size==mi.size, f'{file} {_mi.size} dont match'\n",
    "    mi=np.add(mi,_mi)\n",
    "    ma=np.add(ma,_ma)\n",
    "    av=np.add(av,_av)\n",
    "mi=np.divide(mi,10)\n",
    "ma=np.divide(ma,10)\n",
    "av=np.divide(av,10)\n",
    "ge = np.arange((ends-mi.size)*step, ends*step, step)\n",
    "\n",
    "title = f\"./results/tpg-{task.replace('/','-')}\"\n",
    "plt.plot(ge, mi, label='min')\n",
    "plt.plot(ge, ma, label='max')\n",
    "plt.plot(ge, av, label='ave')\n",
    "\n",
    "plt.ylabel('Score')\n",
    "plt.xlabel('Generation')\n",
    "plt.legend()\n",
    "plt.savefig(f\"{title}.png\")\n",
    "plt.show()\n",
    "with open(f'{title}.txt','w') as f:\n",
    "    f.write(f'min-min:{min(mi)}, max-min:{min(ma)}, ave-min:{min(av)}, ')\n",
    "    f.write(f'min-max:{max(mi)}, max-max:{max(ma)}, ave-max:{max(av)}, ')\n",
    "    f.write(f'min-ave:{sum(mi)/len(mi)}, max-ave:{sum(ma)/len(ma)}, ave-ave:{sum(av)/len(av)}')\n"
   ]
  },
  {
   "cell_type": "markdown",
   "metadata": {},
   "source": [
    "### MHTPG"
   ]
  },
  {
   "cell_type": "code",
   "execution_count": null,
   "metadata": {},
   "outputs": [],
   "source": []
  },
  {
   "cell_type": "markdown",
   "metadata": {},
   "source": [
    "# multi elite"
   ]
  },
  {
   "cell_type": "markdown",
   "metadata": {},
   "source": [
    "### TPG"
   ]
  },
  {
   "cell_type": "code",
   "execution_count": 91,
   "metadata": {},
   "outputs": [],
   "source": [
    "prefix = '../../../Downloads/test/'\n",
    "graphs = [\n",
    "    f'{prefix}2022-12-06/16-20-12',\n",
    "    f'{prefix}2022-12-06/17-02-25',\n",
    "    f'{prefix}2022-12-06/17-44-30',\n",
    "    f'{prefix}2022-12-06/18-58-52',\n",
    "    f'{prefix}2022-12-06/19-52-11',\n",
    "    f'{prefix}2022-12-06/20-29-42',\n",
    "    f'{prefix}2022-12-06/21-29-47',\n",
    "    f'{prefix}2022-12-06/22-21-45',\n",
    "    f'{prefix}2022-12-06/23-10-06',\n",
    "    f'{prefix}2022-12-06/23-55-21'\n",
    "]\n",
    "tpg = tp._TPG()"
   ]
  },
  {
   "cell_type": "markdown",
   "metadata": {},
   "source": [
    "### MHTPG"
   ]
  },
  {
   "cell_type": "code",
   "execution_count": 80,
   "metadata": {},
   "outputs": [],
   "source": [
    "prefix = '../../../Downloads/test/'\n",
    "graphs = [\n",
    "    f'{prefix}2022-12-06/',\n",
    "    f'{prefix}2022-12-06/',\n",
    "    f'{prefix}2022-12-06/',\n",
    "    f'{prefix}2022-12-06/',\n",
    "    f'{prefix}2022-12-06/',\n",
    "    f'{prefix}2022-12-06/',\n",
    "    f'{prefix}2022-12-06/',\n",
    "    f'{prefix}2022-12-06/',\n",
    "    f'{prefix}2022-12-06/',\n",
    "    f'{prefix}2022-12-06/'\n",
    "]\n",
    "tpg = tp.MHTPG()"
   ]
  },
  {
   "cell_type": "markdown",
   "metadata": {},
   "source": [
    "### Actor1"
   ]
  },
  {
   "cell_type": "code",
   "execution_count": 82,
   "metadata": {},
   "outputs": [],
   "source": [
    "prefix = '../../../Downloads/test/'\n",
    "graphs = [\n",
    "    f'{prefix}2022-12-06/',\n",
    "    f'{prefix}2022-12-06/',\n",
    "    f'{prefix}2022-12-06/',\n",
    "    f'{prefix}2022-12-06/',\n",
    "    f'{prefix}2022-12-06/',\n",
    "    f'{prefix}2022-12-06/',\n",
    "    f'{prefix}2022-12-06/',\n",
    "    f'{prefix}2022-12-06/',\n",
    "    f'{prefix}2022-12-06/',\n",
    "    f'{prefix}2022-12-06/'\n",
    "]\n",
    "tpg = tp.Actor1()"
   ]
  },
  {
   "cell_type": "markdown",
   "metadata": {},
   "source": [
    "### Actor2"
   ]
  },
  {
   "cell_type": "code",
   "execution_count": 83,
   "metadata": {},
   "outputs": [],
   "source": [
    "prefix = '../../../Downloads/test/'\n",
    "graphs = [\n",
    "    f'{prefix}2022-12-06/',\n",
    "    f'{prefix}2022-12-06/',\n",
    "    f'{prefix}2022-12-06/',\n",
    "    f'{prefix}2022-12-06/',\n",
    "    f'{prefix}2022-12-06/',\n",
    "    f'{prefix}2022-12-06/',\n",
    "    f'{prefix}2022-12-06/',\n",
    "    f'{prefix}2022-12-06/',\n",
    "    f'{prefix}2022-12-06/',\n",
    "    f'{prefix}2022-12-06/'\n",
    "]\n",
    "tpg = tp.Actor2()"
   ]
  },
  {
   "cell_type": "markdown",
   "metadata": {},
   "source": [
    "### Show"
   ]
  },
  {
   "cell_type": "code",
   "execution_count": 92,
   "metadata": {},
   "outputs": [
    {
     "name": "stdout",
     "output_type": "stream",
     "text": [
      "['PrivateEye-ramDeterministic-v0', 'Hero-ramDeterministic-v4', 'ALE/Jamesbond-ram-v5', 'DoubleDunk-ramNoFrameskip-v4', 'PitfallDeterministic-v4', 'MontezumaRevengeDeterministic-v0', 'ALE/Pitfall-ram-v5', 'ALE/WizardOfWor-v5', 'Hero-v4', 'SpaceInvaders-v0'] <class 'list'>\n",
      "argument of type 'TimeLimit' is not iterable\n",
      "['ALE/WizardOfWor-v5', 'PrivateEye-ramDeterministic-v0', 'ALE/Pitfall-ram-v5', 'DoubleDunk-ramNoFrameskip-v4', 'ALE/Jamesbond-ram-v5', 'SpaceInvaders-v0', 'Hero-ramDeterministic-v4', 'PitfallDeterministic-v4', 'Hero-v4', 'MontezumaRevengeDeterministic-v0'] <class 'list'>\n",
      "argument of type 'TimeLimit' is not iterable\n",
      "['ALE/WizardOfWor-v5', 'PrivateEye-ramDeterministic-v0', 'ALE/Pitfall-ram-v5', 'DoubleDunk-ramNoFrameskip-v4', 'ALE/Jamesbond-ram-v5', 'SpaceInvaders-v0', 'Hero-ramDeterministic-v4', 'PitfallDeterministic-v4', 'Hero-v4', 'MontezumaRevengeDeterministic-v0'] <class 'list'>\n",
      "argument of type 'TimeLimit' is not iterable\n",
      "['ALE/WizardOfWor-v5', 'PrivateEye-ramDeterministic-v0', 'ALE/Pitfall-ram-v5', 'DoubleDunk-ramNoFrameskip-v4', 'ALE/Jamesbond-ram-v5', 'SpaceInvaders-v0', 'Hero-ramDeterministic-v4', 'PitfallDeterministic-v4', 'Hero-v4', 'MontezumaRevengeDeterministic-v0'] <class 'list'>\n",
      "argument of type 'TimeLimit' is not iterable\n",
      "['ALE/WizardOfWor-v5', 'PrivateEye-ramDeterministic-v0', 'ALE/Pitfall-ram-v5', 'DoubleDunk-ramNoFrameskip-v4', 'ALE/Jamesbond-ram-v5', 'SpaceInvaders-v0', 'Hero-ramDeterministic-v4', 'PitfallDeterministic-v4', 'Hero-v4', 'MontezumaRevengeDeterministic-v0'] <class 'list'>\n"
     ]
    },
    {
     "name": "stderr",
     "output_type": "stream",
     "text": [
      "A.L.E: Arcade Learning Environment (version 0.7.5+db37282)\n",
      "[Powered by Stella]\n"
     ]
    },
    {
     "name": "stdout",
     "output_type": "stream",
     "text": [
      "argument of type 'TimeLimit' is not iterable\n",
      "['ALE/WizardOfWor-v5', 'PrivateEye-ramDeterministic-v0', 'ALE/Pitfall-ram-v5', 'DoubleDunk-ramNoFrameskip-v4', 'ALE/Jamesbond-ram-v5', 'SpaceInvaders-v0', 'Hero-ramDeterministic-v4', 'PitfallDeterministic-v4', 'Hero-v4', 'MontezumaRevengeDeterministic-v0'] <class 'list'>\n",
      "argument of type 'TimeLimit' is not iterable\n",
      "['ALE/WizardOfWor-v5', 'PrivateEye-ramDeterministic-v0', 'ALE/Pitfall-ram-v5', 'DoubleDunk-ramNoFrameskip-v4', 'ALE/Jamesbond-ram-v5', 'SpaceInvaders-v0', 'Hero-ramDeterministic-v4', 'PitfallDeterministic-v4', 'Hero-v4', 'MontezumaRevengeDeterministic-v0'] <class 'list'>\n",
      "argument of type 'TimeLimit' is not iterable\n",
      "['ALE/WizardOfWor-v5', 'PrivateEye-ramDeterministic-v0', 'ALE/Pitfall-ram-v5', 'DoubleDunk-ramNoFrameskip-v4', 'ALE/Jamesbond-ram-v5', 'SpaceInvaders-v0', 'Hero-ramDeterministic-v4', 'PitfallDeterministic-v4', 'Hero-v4', 'MontezumaRevengeDeterministic-v0'] <class 'list'>\n",
      "argument of type 'TimeLimit' is not iterable\n",
      "['ALE/WizardOfWor-v5', 'PrivateEye-ramDeterministic-v0', 'ALE/Pitfall-ram-v5', 'DoubleDunk-ramNoFrameskip-v4', 'ALE/Jamesbond-ram-v5', 'SpaceInvaders-v0', 'Hero-ramDeterministic-v4', 'PitfallDeterministic-v4', 'Hero-v4', 'MontezumaRevengeDeterministic-v0'] <class 'list'>\n",
      "argument of type 'TimeLimit' is not iterable\n",
      "['ALE/WizardOfWor-v5', 'PrivateEye-ramDeterministic-v0', 'ALE/Pitfall-ram-v5', 'DoubleDunk-ramNoFrameskip-v4', 'ALE/Jamesbond-ram-v5', 'SpaceInvaders-v0', 'Hero-ramDeterministic-v4', 'PitfallDeterministic-v4', 'Hero-v4', 'MontezumaRevengeDeterministic-v0'] <class 'list'>\n",
      "argument of type 'TimeLimit' is not iterable\n"
     ]
    }
   ],
   "source": [
    "\n",
    "for graph in graphs:\n",
    "    archive = test_multi_elite(tpg)"
   ]
  },
  {
   "cell_type": "code",
   "execution_count": null,
   "metadata": {},
   "outputs": [],
   "source": []
  }
 ],
 "metadata": {
  "kernelspec": {
   "display_name": "Python 3.10.4 ('.tpg')",
   "language": "python",
   "name": "python3"
  },
  "language_info": {
   "codemirror_mode": {
    "name": "ipython",
    "version": 3
   },
   "file_extension": ".py",
   "mimetype": "text/x-python",
   "name": "python",
   "nbconvert_exporter": "python",
   "pygments_lexer": "ipython3",
   "version": "3.10.4"
  },
  "orig_nbformat": 4,
  "vscode": {
   "interpreter": {
    "hash": "f0b70de59f0c76375dd083d289dabd6fda51a40bd7c4cd5f7e42ddbd15b707d9"
   }
  }
 },
 "nbformat": 4,
 "nbformat_minor": 2
}
