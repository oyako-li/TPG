{
 "cells": [
  {
   "cell_type": "markdown",
   "metadata": {},
   "source": [
    "# Pre"
   ]
  },
  {
   "cell_type": "code",
   "execution_count": 5,
   "metadata": {},
   "outputs": [],
   "source": [
    "%matplotlib inline\n",
    "import numpy as np\n",
    "import _tpg.tpg as tp\n",
    "import matplotlib.pyplot as plt\n",
    "import os\n",
    "import gym\n",
    "import random\n",
    "from _tpg.utils import *\n",
    "from datetime import datetime"
   ]
  },
  {
   "cell_type": "code",
   "execution_count": 6,
   "metadata": {},
   "outputs": [],
   "source": [
    "def log_load(title , task, renge, _step=5):\n",
    "    l =[]\n",
    "\n",
    "    with open(f\"{title}.log\", \"r\") as file:\n",
    "        lines = file.readlines()\n",
    "        for line in lines:\n",
    "            results = line.replace('\\n','').split(', ')[2:]\n",
    "            # breakpoint(results)\n",
    "            if len(results)<2: continue\n",
    "            if f'{task}' in results[0] and 'generation:' in results[1]:\n",
    "                l.append([float(re.split(':')[1]) for re in results[2:]])\n",
    "                end = int(results[1].split(':')[1])\n",
    "\n",
    "    __min = []\n",
    "    __mi = 0.\n",
    "    __max = []\n",
    "    __ma = 0.\n",
    "    __ave = []\n",
    "    __av = 0.\n",
    "    for i, item in enumerate(l):\n",
    "        _min, _max, _ave = item\n",
    "        __mi+=_min\n",
    "        __ma+=_max\n",
    "        __av+=_ave\n",
    "        # if i==0: continue\n",
    "        if i%_step==_step-1:\n",
    "            __min.append(__mi/float(_step))\n",
    "            __mi=0.\n",
    "            __max.append(__ma/float(_step))\n",
    "            __ma=0.\n",
    "            __ave.append(__av/float(_step))\n",
    "            __av=0.\n",
    "        if i == renge: break\n",
    "    mi = np.array(__min)\n",
    "    ma = np.array(__max)\n",
    "    av = np.array(__ave)\n",
    "    \n",
    "    return mi, ma, av, end"
   ]
  },
  {
   "cell_type": "code",
   "execution_count": 7,
   "metadata": {},
   "outputs": [],
   "source": [
    "def log_accumlation(title, task, _renge=100, _step=5):\n",
    "    l =[]\n",
    "\n",
    "    with open(f\"{title}.log\", \"r\") as file:\n",
    "        lines = file.readlines()\n",
    "        for line in lines:\n",
    "            results = line.replace('\\n','').split(', ')[2:]\n",
    "            # breakpoint(results)\n",
    "            if len(results)<2: continue\n",
    "            if (f'{task}' in results[0] or f'{task}' == 'any') and 'generation:' in results[1]:\n",
    "                l.append([float(re.split(':')[1]) for re in results[2:]])\n",
    "                end = int(results[1].split(':')[1])\n",
    "\n",
    "    __min = [0.]\n",
    "    __mi = 0.\n",
    "    __max = [0.]\n",
    "    __ma = 0.\n",
    "    __ave = [0.]\n",
    "    __av = 0.\n",
    "    for i, item in enumerate(l):\n",
    "        _min, _max, _ave = item\n",
    "        __mi+=_min\n",
    "        __ma+=_max\n",
    "        __av+=_ave\n",
    "        # if i==0: continue\n",
    "        if i%_step==_step-1:\n",
    "            __mi/=float(_step)\n",
    "            __mi+=__min[-1]\n",
    "            __min.append(__mi)\n",
    "            __mi=0.\n",
    "            __ma/=float(_step)\n",
    "            __ma+=__max[-1]\n",
    "            __max.append(__ma)\n",
    "            __ma=0.\n",
    "            __av/=float(_step)\n",
    "            __av+=__ave[-1]\n",
    "            __ave.append(__av)\n",
    "            __av=0.\n",
    "        if i == _renge: break\n",
    "\n",
    "    mi = np.array(__min)\n",
    "    ma = np.array(__max)\n",
    "    av = np.array(__ave)\n",
    "    \n",
    "    return mi, ma, av, end\n"
   ]
  },
  {
   "cell_type": "code",
   "execution_count": 8,
   "metadata": {},
   "outputs": [],
   "source": [
    "def log_elite(title, _scores):\n",
    "    with open(f\"{title}.log\", \"r\") as file:\n",
    "        lines = file.readlines()\n",
    "        for line in lines:\n",
    "            results = line.replace('\\n','').split(', ')[2:]\n",
    "            # breakpoint(results)\n",
    "            if len(results)<3: continue\n",
    "            if 'task:' in results[0] and 'elite_score:' in results[2]:\n",
    "                if not _scores.get(results[0].split(':')[1]): _scores[results[0].split(':')[1]]=0.\n",
    "                _scores[results[0].split(':')[1]]+=float(results[2].split(':')[1])\n",
    "    return _scores"
   ]
  },
  {
   "cell_type": "code",
   "execution_count": 329,
   "metadata": {},
   "outputs": [],
   "source": [
    "def log_normalize(title, _min_type='ave', _max_type='ave'):\n",
    "    _normalize = [0.,0.]\n",
    "    with open(f\"{title}.txt\", \"r\") as file:\n",
    "        lines = file.readlines()\n",
    "        _results = lines[0].replace('\\n','').split(', ')\n",
    "        for _result in _results:\n",
    "            if f'min-{_min_type}:' in _result: _normalize[0]=float(_result.split(':')[1])\n",
    "            if f'max-{_max_type}:' in _result: _normalize[1]=float(_result.split(':')[1])\n",
    "\n",
    "    return _normalize\n"
   ]
  },
  {
   "cell_type": "code",
   "execution_count": 10,
   "metadata": {},
   "outputs": [],
   "source": [
    "def test_multi_elite(tpg, _title=None):\n",
    "    \"\"\" マルチタスク学習に対応できるように、改良。\n",
    "    \"\"\"\n",
    "    tasks=[]\n",
    "    archive = []\n",
    "\n",
    "    if os.path.exists('./.tasks'):\n",
    "        with open('./.tasks', 'r') as task_file:\n",
    "            tasks = task_file.read().splitlines()\n",
    "            random.seed(datetime.now().strftime('%Y%m%d%H%M%S'))\n",
    "            random.shuffle(tasks)\n",
    "    else:\n",
    "        raise Exception('tasksDoesntExist')\n",
    "\n",
    "    if _title:\n",
    "        if os.path.exists(f'{_title}.pickle'):\n",
    "            tpg.load_story(_title)\n",
    "        else:\n",
    "            raise Exception('titleDoesntExist', repr(_title))\n",
    "    \n",
    "    try:\n",
    "        for task in tasks:\n",
    "            title = tpg.success_story(_task=task)\n",
    "            archive.append(title)\n",
    "    except Exception as e:\n",
    "        print(e)\n",
    "        # os.remove('./tasks.txt')\n",
    "    return archive\n"
   ]
  },
  {
   "cell_type": "markdown",
   "metadata": {},
   "source": [
    "# chaos"
   ]
  },
  {
   "cell_type": "markdown",
   "metadata": {},
   "source": [
    "### TPG"
   ]
  },
  {
   "cell_type": "code",
   "execution_count": 284,
   "metadata": {},
   "outputs": [],
   "source": [
    "prefix = '../../../Downloads/2022-12-08/'\n",
    "files = [\n",
    "    f'{prefix}20-15-55',\n",
    "    f'{prefix}20-24-49',\n",
    "    f'{prefix}20-33-22',\n",
    "    f'{prefix}20-40-42',\n",
    "    f'{prefix}20-49-53',\n",
    "    f'{prefix}20-57-54',\n",
    "    f'{prefix}21-06-35',\n",
    "    f'{prefix}21-14-43',\n",
    "    f'{prefix}21-21-27',\n",
    "    f'{prefix}21-29-11'\n",
    "]\n",
    "renge=100\n",
    "step=5\n",
    "ends = (renge//step)\n",
    "\n",
    "mi = np.zeros(ends+1)\n",
    "ma = np.zeros(ends+1)\n",
    "av = np.zeros(ends+1)\n",
    "end=0\n",
    "for file in files:\n",
    "    _mi, _ma, _av, end = log_accumlation(file,'any', _renge=renge, _step=step)\n",
    "    assert _mi.size==mi.size, f'{file} {_mi.size} dont match'\n",
    "    mi=np.add(mi,_mi)\n",
    "    ma=np.add(ma,_ma)\n",
    "    av=np.add(av,_av)\n",
    "mi_tpg=np.divide(mi,10)\n",
    "ma_tpg=np.divide(ma,10)\n",
    "av_tpg=np.divide(av,10)"
   ]
  },
  {
   "cell_type": "markdown",
   "metadata": {},
   "source": [
    "### MHTPG"
   ]
  },
  {
   "cell_type": "code",
   "execution_count": 285,
   "metadata": {},
   "outputs": [],
   "source": [
    "prefix = '../../../Downloads/test/'\n",
    "files = [\n",
    "    f'{prefix}2022-12-04/22-12-45',\n",
    "    f'{prefix}2022-12-05/10-02-26',\n",
    "    f'{prefix}2022-12-05/10-26-46',\n",
    "    f'{prefix}2022-12-05/10-56-46',\n",
    "    f'{prefix}2022-12-05/11-20-13',\n",
    "    f'{prefix}2022-12-05/11-48-00',\n",
    "    f'{prefix}2022-12-05/12-19-21',\n",
    "    f'{prefix}2022-12-05/12-40-11',\n",
    "    f'{prefix}2022-12-05/13-06-28',\n",
    "    f'{prefix}2022-12-05/13-30-22'\n",
    "]\n",
    "renge=100\n",
    "step=5\n",
    "ends = (renge//step)\n",
    "\n",
    "mi = np.zeros(ends+1)\n",
    "ma = np.zeros(ends+1)\n",
    "av = np.zeros(ends+1)\n",
    "end=0\n",
    "for file in files:\n",
    "    _mi, _ma, _av, end = log_accumlation(file,'any', _renge=renge, _step=step)\n",
    "    assert _mi.size==mi.size, f'{file} {_mi.size} dont match'\n",
    "    mi=np.add(mi,_mi)\n",
    "    ma=np.add(ma,_ma)\n",
    "    av=np.add(av,_av)\n",
    "mi_tpg_mh=np.divide(mi,10)\n",
    "ma_tpg_mh=np.divide(ma,10)\n",
    "av_tpg_mh=np.divide(av,10)"
   ]
  },
  {
   "cell_type": "markdown",
   "metadata": {},
   "source": [
    "### Actor1"
   ]
  },
  {
   "cell_type": "code",
   "execution_count": 286,
   "metadata": {},
   "outputs": [],
   "source": [
    "prefix = 'log/test/'\n",
    "files = [\n",
    "    f'{prefix}2022-12-05/07-20-22',\n",
    "    f'{prefix}2022-12-05/10-03-30',\n",
    "    f'{prefix}2022-12-05/10-21-47',\n",
    "    f'{prefix}2022-12-05/10-41-03',\n",
    "    f'{prefix}2022-12-05/11-00-45',\n",
    "    f'{prefix}2022-12-05/11-18-39',\n",
    "    f'{prefix}2022-12-05/11-35-38',\n",
    "    f'{prefix}2022-12-05/11-55-13',\n",
    "    f'{prefix}2022-12-05/12-16-18',\n",
    "    f'{prefix}2022-12-05/12-36-15',\n",
    "]\n",
    "renge=100\n",
    "step=5\n",
    "ends = (renge//step)\n",
    "\n",
    "mi = np.zeros(ends+1)\n",
    "ma = np.zeros(ends+1)\n",
    "av = np.zeros(ends+1)\n",
    "end=0\n",
    "for file in files:\n",
    "    _mi, _ma, _av, end = log_accumlation(file,'any', _renge=renge, _step=step)\n",
    "    assert _mi.size==mi.size, f'{file} {_mi.size} dont match'\n",
    "    mi=np.add(mi,_mi)\n",
    "    ma=np.add(ma,_ma)\n",
    "    av=np.add(av,_av)\n",
    "mi_tpg_actor1=np.divide(mi,10)\n",
    "ma_tpg_actor1=np.divide(ma,10)\n",
    "av_tpg_actor1=np.divide(av,10)"
   ]
  },
  {
   "cell_type": "markdown",
   "metadata": {},
   "source": [
    "### Actor2"
   ]
  },
  {
   "cell_type": "code",
   "execution_count": 287,
   "metadata": {},
   "outputs": [],
   "source": [
    "prefix = 'log/test/'\n",
    "files = [\n",
    "    f'{prefix}2022-12-06/21-31-59',\n",
    "    f'{prefix}2022-12-06/21-50-01',\n",
    "    f'{prefix}2022-12-06/22-10-50',\n",
    "    f'{prefix}2022-12-06/22-28-11',\n",
    "    f'{prefix}2022-12-06/22-50-55',\n",
    "    f'{prefix}2022-12-06/23-08-05',\n",
    "    f'{prefix}2022-12-06/23-25-26',\n",
    "    f'{prefix}2022-12-06/23-51-32',\n",
    "    f'{prefix}2022-12-07/00-08-46',\n",
    "    f'{prefix}2022-12-07/00-24-57',\n",
    "]\n",
    "renge=100\n",
    "step=5\n",
    "ends = (renge//step)\n",
    "\n",
    "mi = np.zeros(ends+1)\n",
    "ma = np.zeros(ends+1)\n",
    "av = np.zeros(ends+1)\n",
    "end=0\n",
    "for file in files:\n",
    "    _mi, _ma, _av, end = log_accumlation(file,'any', _renge=renge, _step=step)\n",
    "    assert _mi.size==mi.size, f'{file} {_mi.size} dont match'\n",
    "    mi=np.add(mi,_mi)\n",
    "    ma=np.add(ma,_ma)\n",
    "    av=np.add(av,_av)\n",
    "mi_tpg_actor2=np.divide(mi,10)\n",
    "ma_tpg_actor2=np.divide(ma,10)\n",
    "av_tpg_actor2=np.divide(av,10)"
   ]
  },
  {
   "cell_type": "markdown",
   "metadata": {},
   "source": [
    "### Show"
   ]
  },
  {
   "cell_type": "code",
   "execution_count": 288,
   "metadata": {},
   "outputs": [
    {
     "data": {
      "image/png": "[encoded data removed]",
      "text/plain": [
       "<Figure size 432x288 with 1 Axes>"
      ]
     },
     "metadata": {
      "needs_background": "light"
     },
     "output_type": "display_data"
    }
   ],
   "source": [
    "renge=100\n",
    "step=5\n",
    "ends = (renge//step)\n",
    "\n",
    "# mi = np.zeros(ends+1)\n",
    "# ma = np.zeros(ends+1)\n",
    "# av = np.zeros(ends+1)\n",
    "# end=0\n",
    "# for file in files:\n",
    "#     _mi, _ma, _av, end = log_accumlation(file,'any', _renge=renge, _step=step)\n",
    "#     assert _mi.size==mi.size, f'{file} {_mi.size} dont match'\n",
    "#     mi=np.add(mi,_mi)\n",
    "#     ma=np.add(ma,_ma)\n",
    "#     av=np.add(av,_av)\n",
    "# mi=np.divide(mi,10)\n",
    "# ma=np.divide(ma,10)\n",
    "# av=np.divide(av,10)\n",
    "ge = np.arange((ends-mi.size)*step, ends*step, step)\n",
    "\n",
    "plt.plot(ge, mi_tpg, label='tpg_min')\n",
    "plt.plot(ge, ma_tpg, label='tpg_max')\n",
    "plt.plot(ge, av_tpg, label='tpg_ave')\n",
    "plt.plot(ge, mi_tpg_mh, label='tpg_mh_min')\n",
    "plt.plot(ge, ma_tpg_mh, label='tpg_mh_max')\n",
    "plt.plot(ge, av_tpg_mh, label='tpg_mh_ave')\n",
    "plt.plot(ge, mi_tpg_actor2, label='tpg_actor2_min')\n",
    "plt.plot(ge, ma_tpg_actor2, label='tpg_actor2_max')\n",
    "plt.plot(ge, av_tpg_actor2, label='tpg_actor2_ave')\n",
    "\n",
    "plt.ylabel('Score')\n",
    "plt.xlabel('Generation')\n",
    "# plt.legend()\n",
    "plt.legend(bbox_to_anchor=(1.05, 1), loc='upper left', borderaxespad=0, fontsize=10.5)\n",
    "plt.show()"
   ]
  },
  {
   "cell_type": "markdown",
   "metadata": {},
   "source": [
    "# single each"
   ]
  },
  {
   "cell_type": "markdown",
   "metadata": {},
   "source": [
    "### TPG"
   ]
  },
  {
   "cell_type": "markdown",
   "metadata": {},
   "source": [
    "#### ALE/Pitfall-ram-v5"
   ]
  },
  {
   "cell_type": "code",
   "execution_count": 193,
   "metadata": {},
   "outputs": [],
   "source": [
    "prefix = '../../../Downloads/test/'\n",
    "files = [\n",
    "    f'{prefix}2022-12-06/00-27-30',\n",
    "    f'{prefix}2022-12-06/01-13-37',\n",
    "    f'{prefix}2022-12-05/18-12-27',\n",
    "    f'{prefix}2022-12-05/18-55-45',\n",
    "    f'{prefix}2022-12-05/19-43-00',\n",
    "    f'{prefix}2022-12-05/20-32-31',\n",
    "    f'{prefix}2022-12-05/21-21-33',\n",
    "    f'{prefix}2022-12-05/22-10-14',\n",
    "    f'{prefix}2022-12-05/22-54-57',\n",
    "    f'{prefix}2022-12-05/23-40-53'\n",
    "]\n",
    "task=\"ALE/Pitfall-ram-v5\""
   ]
  },
  {
   "cell_type": "markdown",
   "metadata": {},
   "source": [
    "#### SpaceInvaders-v0"
   ]
  },
  {
   "cell_type": "code",
   "execution_count": 194,
   "metadata": {},
   "outputs": [],
   "source": [
    "prefix = '../../../Downloads/test/'\n",
    "files = [\n",
    "    f'{prefix}2022-12-06/00-32-30',\n",
    "    f'{prefix}2022-12-06/01-18-41',\n",
    "    f'{prefix}2022-12-05/18-16-57',\n",
    "    f'{prefix}2022-12-05/19-00-08',\n",
    "    f'{prefix}2022-12-05/19-48-13',\n",
    "    f'{prefix}2022-12-05/20-37-43',\n",
    "    f'{prefix}2022-12-05/21-26-49',\n",
    "    f'{prefix}2022-12-05/22-15-06',\n",
    "    f'{prefix}2022-12-05/22-59-12',\n",
    "    f'{prefix}2022-12-05/23-45-09'\n",
    "]\n",
    "task=\"SpaceInvaders-v0\"\n"
   ]
  },
  {
   "cell_type": "markdown",
   "metadata": {},
   "source": [
    "#### Hero-ramDeterministic-v4"
   ]
  },
  {
   "cell_type": "code",
   "execution_count": 195,
   "metadata": {},
   "outputs": [],
   "source": [
    "prefix = '../../../Downloads/test/'\n",
    "files = [\n",
    "    f'{prefix}2022-12-06/00-11-55',\n",
    "    f'{prefix}2022-12-06/00-58-12',\n",
    "    f'{prefix}2022-12-06/01-42-18',\n",
    "    f'{prefix}2022-12-05/18-40-53',\n",
    "    f'{prefix}2022-12-05/19-26-12',\n",
    "    f'{prefix}2022-12-05/20-14-39',\n",
    "    f'{prefix}2022-12-05/21-02-29',\n",
    "    f'{prefix}2022-12-05/21-52-21',\n",
    "    f'{prefix}2022-12-05/22-39-00',\n",
    "    f'{prefix}2022-12-05/23-23-55'\n",
    "]\n",
    "task=\"Hero-ramDeterministic-v4\""
   ]
  },
  {
   "cell_type": "markdown",
   "metadata": {},
   "source": [
    "#### MontezumaRevengeDeterministic-v0"
   ]
  },
  {
   "cell_type": "code",
   "execution_count": 196,
   "metadata": {},
   "outputs": [],
   "source": [
    "prefix = '../../../Downloads/test/'\n",
    "files = [\n",
    "    f'{prefix}2022-12-06/00-42-45',\n",
    "    f'{prefix}2022-12-06/01-28-22',\n",
    "    f'{prefix}2022-12-05/18-27-30',\n",
    "    f'{prefix}2022-12-05/19-10-51',\n",
    "    f'{prefix}2022-12-05/19-59-25',\n",
    "    f'{prefix}2022-12-05/20-47-27',\n",
    "    f'{prefix}2022-12-05/21-36-45',\n",
    "    f'{prefix}2022-12-05/22-25-28',\n",
    "    f'{prefix}2022-12-05/23-08-50',\n",
    "    f'{prefix}2022-12-05/23-55-52'\n",
    "]\n",
    "task=\"MontezumaRevengeDeterministic-v0\"\n"
   ]
  },
  {
   "cell_type": "markdown",
   "metadata": {},
   "source": [
    "#### Hero-v4"
   ]
  },
  {
   "cell_type": "code",
   "execution_count": 197,
   "metadata": {},
   "outputs": [],
   "source": [
    "prefix = '../../../Downloads/test/'\n",
    "files = [\n",
    "    f'{prefix}2022-12-06/00-00-25',\n",
    "    f'{prefix}2022-12-06/00-46-24',\n",
    "    f'{prefix}2022-12-06/01-31-23',\n",
    "    f'{prefix}2022-12-05/18-30-02',\n",
    "    f'{prefix}2022-12-05/19-14-45',\n",
    "    f'{prefix}2022-12-05/20-03-36',\n",
    "    f'{prefix}2022-12-05/20-50-41',\n",
    "    f'{prefix}2022-12-05/21-42-13',\n",
    "    f'{prefix}2022-12-05/22-28-36',\n",
    "    f'{prefix}2022-12-05/23-12-35'\n",
    "]\n",
    "task=\"Hero-v4\"\n"
   ]
  },
  {
   "cell_type": "markdown",
   "metadata": {},
   "source": [
    "#### PrivateEye-ramDeterministic-v0"
   ]
  },
  {
   "cell_type": "code",
   "execution_count": 198,
   "metadata": {},
   "outputs": [],
   "source": [
    "prefix = '../../../Downloads/test/'\n",
    "files = [\n",
    "    f'{prefix}2022-12-06/00-37-30',\n",
    "    f'{prefix}2022-12-06/01-23-24',\n",
    "    f'{prefix}2022-12-05/18-22-02',\n",
    "    f'{prefix}2022-12-05/19-04-50',\n",
    "    f'{prefix}2022-12-05/19-53-40',\n",
    "    f'{prefix}2022-12-05/20-42-27',\n",
    "    f'{prefix}2022-12-05/21-30-50',\n",
    "    f'{prefix}2022-12-05/22-20-03',\n",
    "    f'{prefix}2022-12-05/23-03-47',\n",
    "    f'{prefix}2022-12-05/23-49-02'\n",
    "]\n",
    "task=\"PrivateEye-ramDeterministic-v0\"\n"
   ]
  },
  {
   "cell_type": "markdown",
   "metadata": {},
   "source": [
    "#### ALE/Jamesbond-ram-v5"
   ]
  },
  {
   "cell_type": "code",
   "execution_count": 199,
   "metadata": {},
   "outputs": [],
   "source": [
    "prefix = '/Users/matsuzawakazuki/Downloads/test/'\n",
    "files = [\n",
    "    f'{prefix}2022-12-06/00-19-22',\n",
    "    f'{prefix}2022-12-06/01-06-06',\n",
    "    f'{prefix}2022-12-06/01-49-49',\n",
    "    f'{prefix}2022-12-05/18-47-53',\n",
    "    f'{prefix}2022-12-05/19-34-28',\n",
    "    f'{prefix}2022-12-05/20-22-35',\n",
    "    f'{prefix}2022-12-05/21-10-58',\n",
    "    f'{prefix}2022-12-05/22-00-52',\n",
    "    f'{prefix}2022-12-05/22-45-37',\n",
    "    f'{prefix}2022-12-05/23-32-06'\n",
    "]\n",
    "task=\"ALE/Jamesbond-ram-v5\"\n"
   ]
  },
  {
   "cell_type": "markdown",
   "metadata": {},
   "source": [
    "#### ALE/WizardOfWor-v5"
   ]
  },
  {
   "cell_type": "code",
   "execution_count": 200,
   "metadata": {},
   "outputs": [],
   "source": [
    "prefix = '../../../Downloads/test/'\n",
    "files = [\n",
    "    f'{prefix}2022-12-06/00-23-08',\n",
    "    f'{prefix}2022-12-06/01-09-33',\n",
    "    f'{prefix}2022-12-06/01-54-12',\n",
    "    f'{prefix}2022-12-05/18-50-59',\n",
    "    f'{prefix}2022-12-05/19-38-05',\n",
    "    f'{prefix}2022-12-05/20-26-57',\n",
    "    f'{prefix}2022-12-05/21-16-27',\n",
    "    f'{prefix}2022-12-05/22-04-56',\n",
    "    f'{prefix}2022-12-05/22-49-14',\n",
    "    f'{prefix}2022-12-05/23-35-35'\n",
    "]\n",
    "task=\"ALE/WizardOfWor-v5\"\n"
   ]
  },
  {
   "cell_type": "markdown",
   "metadata": {},
   "source": [
    "#### DoubleDunk-ramNoFrameskip-v4"
   ]
  },
  {
   "cell_type": "code",
   "execution_count": 201,
   "metadata": {},
   "outputs": [],
   "source": [
    "prefix = '../../../Downloads/test/'\n",
    "files = [\n",
    "    f'{prefix}2022-12-06/00-16-51',\n",
    "    f'{prefix}2022-12-06/01-04-15',\n",
    "    f'{prefix}2022-12-06/01-47-30',\n",
    "    f'{prefix}2022-12-05/18-46-02',\n",
    "    f'{prefix}2022-12-05/19-32-14',\n",
    "    f'{prefix}2022-12-05/20-20-28',\n",
    "    f'{prefix}2022-12-05/21-08-43',\n",
    "    f'{prefix}2022-12-05/21-57-55',\n",
    "    f'{prefix}2022-12-05/22-43-21',\n",
    "    f'{prefix}2022-12-05/23-29-18'\n",
    "]\n",
    "task=\"DoubleDunk-ramNoFrameskip-v4\"\n"
   ]
  },
  {
   "cell_type": "markdown",
   "metadata": {},
   "source": [
    "#### PitfallDeterministic-v4"
   ]
  },
  {
   "cell_type": "code",
   "execution_count": 202,
   "metadata": {},
   "outputs": [],
   "source": [
    "prefix = '../../../Downloads/test/'\n",
    "files = [\n",
    "    f'{prefix}2022-12-06/00-05-48',\n",
    "    f'{prefix}2022-12-06/00-51-54',\n",
    "    f'{prefix}2022-12-06/01-36-39',\n",
    "    f'{prefix}2022-12-05/18-35-06',\n",
    "    f'{prefix}2022-12-05/19-20-43',\n",
    "    f'{prefix}2022-12-05/20-08-39',\n",
    "    f'{prefix}2022-12-05/20-55-44',\n",
    "    f'{prefix}2022-12-05/21-47-05',\n",
    "    f'{prefix}2022-12-05/22-33-58',\n",
    "    f'{prefix}2022-12-05/23-17-36'\n",
    "]\n",
    "task=\"PitfallDeterministic-v4\"\n"
   ]
  },
  {
   "cell_type": "markdown",
   "metadata": {},
   "source": [
    "#### Show"
   ]
  },
  {
   "cell_type": "code",
   "execution_count": 203,
   "metadata": {},
   "outputs": [
    {
     "data": {
      "image/png": "[encoded data removed]",
      "text/plain": [
       "<Figure size 432x288 with 1 Axes>"
      ]
     },
     "metadata": {
      "needs_background": "light"
     },
     "output_type": "display_data"
    }
   ],
   "source": [
    "renge=100\n",
    "step=5\n",
    "ends = (renge//step)\n",
    "\n",
    "mi = np.zeros(ends)\n",
    "ma = np.zeros(ends)\n",
    "av = np.zeros(ends)\n",
    "end=0\n",
    "for file in files:\n",
    "    _mi, _ma, _av, end = log_load(file,task, renge=renge, _step=step)\n",
    "    assert _mi.size==mi.size, f'{file} {_mi.size} dont match'\n",
    "    mi=np.add(mi,_mi)\n",
    "    ma=np.add(ma,_ma)\n",
    "    av=np.add(av,_av)\n",
    "mi=np.divide(mi,10)\n",
    "ma=np.divide(ma,10)\n",
    "av=np.divide(av,10)\n",
    "ge = np.arange((ends-mi.size)*step, ends*step, step)\n",
    "\n",
    "title = f\"./results/tpg-{task.replace('/','-')}\"\n",
    "plt.plot(ge, mi, label='min')\n",
    "plt.plot(ge, ma, label='max')\n",
    "plt.plot(ge, av, label='ave')\n",
    "\n",
    "plt.ylabel('Score')\n",
    "plt.xlabel('Generation')\n",
    "plt.legend()\n",
    "plt.savefig(f\"{title}.png\")\n",
    "plt.show()\n",
    "with open(f'{title}.txt','w') as f:\n",
    "    f.write(f'min-min:{min(mi)}, max-min:{min(ma)}, ave-min:{min(av)}, min-max:{max(mi)}, max-max:{max(ma)}, ave-max:{max(av)}, min-ave:{sum(mi)/len(mi)}, max-ave:{sum(ma)/len(ma)}, ave-ave:{sum(av)/len(av)}')\n"
   ]
  },
  {
   "cell_type": "markdown",
   "metadata": {},
   "source": [
    "### MHTPG"
   ]
  },
  {
   "cell_type": "markdown",
   "metadata": {},
   "source": [
    "#### ALE/Jamesbond-ram-v5"
   ]
  },
  {
   "cell_type": "code",
   "execution_count": 407,
   "metadata": {},
   "outputs": [],
   "source": [
    "prefix = '../../../Downloads/test/'\n",
    "files = [\n",
    "    f'{prefix}2022-12-01/15-21-35',\n",
    "    f'{prefix}2022-12-01/17-53-45',\n",
    "    f'{prefix}2022-12-01/19-37-35',\n",
    "    f'{prefix}2022-12-01/21-47-14',\n",
    "    f'{prefix}2022-12-01/23-54-38',\n",
    "    f'{prefix}2022-12-02/02-21-42',\n",
    "    f'{prefix}2022-12-02/05-11-35',\n",
    "    f'{prefix}2022-12-02/07-28-27',\n",
    "    f'{prefix}2022-12-02/09-54-26',\n",
    "    f'{prefix}2022-12-02/11-55-50'\n",
    "]\n",
    "task=\"ALE/Jamesbond-ram-v5\""
   ]
  },
  {
   "cell_type": "markdown",
   "metadata": {},
   "source": [
    "#### ALE/Pitfall-ram-v5"
   ]
  },
  {
   "cell_type": "code",
   "execution_count": 409,
   "metadata": {},
   "outputs": [],
   "source": [
    "prefix = '../../../Downloads/test/'\n",
    "files = [\n",
    "    f'{prefix}2022-12-01/17-07-42',\n",
    "    f'{prefix}2022-12-01/18-03-36',\n",
    "    f'{prefix}2022-12-01/19-48-26',\n",
    "    f'{prefix}2022-12-01/21-56-07',\n",
    "    f'{prefix}2022-12-02/00-12-18',\n",
    "    f'{prefix}2022-12-02/02-34-31',\n",
    "    f'{prefix}2022-12-02/05-28-13',\n",
    "    f'{prefix}2022-12-02/07-36-27',\n",
    "    f'{prefix}2022-12-02/10-05-33',\n",
    "    f'{prefix}2022-12-02/12-04-18'\n",
    "]\n",
    "task=\"ALE/Pitfall-ram-v5\""
   ]
  },
  {
   "cell_type": "markdown",
   "metadata": {},
   "source": [
    "#### ALE/WizardOfWor-v5"
   ]
  },
  {
   "cell_type": "code",
   "execution_count": 411,
   "metadata": {},
   "outputs": [],
   "source": [
    "prefix = '../../../Downloads/test/'\n",
    "files = [\n",
    "    f'{prefix}2022-12-01/15-36-21',\n",
    "    f'{prefix}2022-12-01/18-21-17',\n",
    "    f'{prefix}2022-12-01/19-58-06',\n",
    "    f'{prefix}2022-12-01/22-12-25',\n",
    "    f'{prefix}2022-12-02/00-28-29',\n",
    "    f'{prefix}2022-12-02/02-51-40',\n",
    "    f'{prefix}2022-12-02/05-48-46',\n",
    "    f'{prefix}2022-12-02/07-52-39',\n",
    "    f'{prefix}2022-12-02/10-21-19',\n",
    "    f'{prefix}2022-12-02/12-15-11'\n",
    "]\n",
    "task=\"ALE/WizardOfWor-v5\""
   ]
  },
  {
   "cell_type": "markdown",
   "metadata": {},
   "source": [
    "#### DoubleDunk-ramNoFrameskip-v4"
   ]
  },
  {
   "cell_type": "code",
   "execution_count": 414,
   "metadata": {},
   "outputs": [],
   "source": [
    "prefix = '../../../Downloads/test/'\n",
    "files = [\n",
    "    f'{prefix}2022-12-01/16-53-49',\n",
    "    f'{prefix}2022-12-01/17-06-43',\n",
    "    f'{prefix}2022-12-01/18-54-00',\n",
    "    f'{prefix}2022-12-01/20-53-27',\n",
    "    f'{prefix}2022-12-01/23-05-33',\n",
    "    f'{prefix}2022-12-02/01-15-23',\n",
    "    f'{prefix}2022-12-02/03-44-09',\n",
    "    f'{prefix}2022-12-02/06-41-08',\n",
    "    f'{prefix}2022-12-02/08-59-55',\n",
    "    f'{prefix}2022-12-02/11-09-28'\n",
    "]\n",
    "task=\"DoubleDunk-ramNoFrameskip-v4\""
   ]
  },
  {
   "cell_type": "markdown",
   "metadata": {},
   "source": [
    "#### Hero-ramDeterministic-v4"
   ]
  },
  {
   "cell_type": "code",
   "execution_count": 416,
   "metadata": {},
   "outputs": [],
   "source": [
    "prefix = '../../../Downloads/test/'\n",
    "files = [\n",
    "    f'{prefix}2022-12-01/17-13-58',\n",
    "    f'{prefix}2022-12-01/17-21-16',\n",
    "    f'{prefix}2022-12-01/19-02-20',\n",
    "    f'{prefix}2022-12-01/21-06-14',\n",
    "    f'{prefix}2022-12-01/23-10-13',\n",
    "    f'{prefix}2022-12-02/01-33-13',\n",
    "    f'{prefix}2022-12-02/03-59-50',\n",
    "    f'{prefix}2022-12-02/06-48-13',\n",
    "    f'{prefix}2022-12-02/09-08-15',\n",
    "    f'{prefix}2022-12-02/11-19-51'\n",
    "]\n",
    "task=\"Hero-ramDeterministic-v4\""
   ]
  },
  {
   "cell_type": "markdown",
   "metadata": {},
   "source": [
    "#### Hero-v4"
   ]
  },
  {
   "cell_type": "code",
   "execution_count": 418,
   "metadata": {},
   "outputs": [],
   "source": [
    "prefix = '../../../Downloads/test/'\n",
    "files = [\n",
    "    f'{prefix}2022-12-01/16-37-46',\n",
    "    f'{prefix}2022-12-01/17-40-20',\n",
    "    f'{prefix}2022-12-01/19-26-00',\n",
    "    f'{prefix}2022-12-01/21-32-29',\n",
    "    f'{prefix}2022-12-01/23-38-38',\n",
    "    f'{prefix}2022-12-02/02-08-38',\n",
    "    f'{prefix}2022-12-02/04-48-27',\n",
    "    f'{prefix}2022-12-02/07-12-09',\n",
    "    f'{prefix}2022-12-02/09-44-26',\n",
    "    f'{prefix}2022-12-02/11-42-35'\n",
    "]\n",
    "task=\"Hero-v4\""
   ]
  },
  {
   "cell_type": "markdown",
   "metadata": {},
   "source": [
    "#### MontezumaRevengeDeterministic-v0"
   ]
  },
  {
   "cell_type": "code",
   "execution_count": 420,
   "metadata": {},
   "outputs": [],
   "source": [
    "prefix = '../../../Downloads/test/'\n",
    "files = [\n",
    "    f'{prefix}2022-12-01/16-03-11',\n",
    "    f'{prefix}2022-12-01/18-35-45',\n",
    "    f'{prefix}2022-12-01/20-34-49',\n",
    "    f'{prefix}2022-12-01/22-45-19',\n",
    "    f'{prefix}2022-12-02/00-48-55',\n",
    "    f'{prefix}2022-12-02/03-20-12',\n",
    "    f'{prefix}2022-12-02/06-21-44',\n",
    "    f'{prefix}2022-12-02/08-15-57',\n",
    "    f'{prefix}2022-12-02/10-53-58',\n",
    "    f'{prefix}2022-12-02/12-55-49'\n",
    "]\n",
    "task=\"MontezumaRevengeDeterministic-v0\""
   ]
  },
  {
   "cell_type": "markdown",
   "metadata": {},
   "source": [
    "#### PitfallDeterministic-v4"
   ]
  },
  {
   "cell_type": "code",
   "execution_count": 422,
   "metadata": {},
   "outputs": [],
   "source": [
    "prefix = '../../../Downloads/test/'\n",
    "files = [\n",
    "    f'{prefix}2022-12-01/15-08-43',\n",
    "    f'{prefix}2022-12-01/18-26-19',\n",
    "    f'{prefix}2022-12-01/20-14-01',\n",
    "    f'{prefix}2022-12-01/22-25-56',\n",
    "    f'{prefix}2022-12-02/00-37-27',\n",
    "    f'{prefix}2022-12-02/03-05-58',\n",
    "    f'{prefix}2022-12-02/06-04-26',\n",
    "    f'{prefix}2022-12-02/08-06-46',\n",
    "    f'{prefix}2022-12-02/10-39-31',\n",
    "    f'{prefix}2022-12-02/12-31-59'\n",
    "]\n",
    "task=\"PitfallDeterministic-v4\""
   ]
  },
  {
   "cell_type": "markdown",
   "metadata": {},
   "source": [
    "#### PrivateEye-ramDeterministic-v0"
   ]
  },
  {
   "cell_type": "code",
   "execution_count": 424,
   "metadata": {},
   "outputs": [],
   "source": [
    "prefix = '../../../Downloads/test/'\n",
    "files = [\n",
    "    f'{prefix}2022-12-01/16-11-31',\n",
    "    f'{prefix}2022-12-01/17-24-31',\n",
    "    f'{prefix}2022-12-01/19-12-22',\n",
    "    f'{prefix}2022-12-01/21-12-04',\n",
    "    f'{prefix}2022-12-01/23-25-26',\n",
    "    f'{prefix}2022-12-02/01-51-34',\n",
    "    f'{prefix}2022-12-02/04-23-31',\n",
    "    f'{prefix}2022-12-02/07-04-46',\n",
    "    f'{prefix}2022-12-02/09-30-36',\n",
    "    f'{prefix}2022-12-02/11-32-40'\n",
    "]\n",
    "task=\"PrivateEye-ramDeterministic-v0\""
   ]
  },
  {
   "cell_type": "markdown",
   "metadata": {},
   "source": [
    "#### SpaceInvaders-v0"
   ]
  },
  {
   "cell_type": "code",
   "execution_count": 431,
   "metadata": {},
   "outputs": [],
   "source": [
    "prefix = '../../../Downloads/test/'\n",
    "files = [\n",
    "    f'{prefix}2022-12-01/15-49-58',\n",
    "    f'{prefix}2022-12-01/18-45-04',\n",
    "    f'{prefix}2022-12-01/20-44-53',\n",
    "    f'{prefix}2022-12-01/22-52-36',\n",
    "    f'{prefix}2022-12-02/00-53-07',\n",
    "    f'{prefix}2022-12-02/03-29-18',\n",
    "    f'{prefix}2022-12-02/06-26-15',\n",
    "    f'{prefix}2022-12-02/08-21-25',\n",
    "    f'{prefix}2022-12-02/10-59-35',\n",
    "    f'{prefix}2022-12-02/13-07-35'\n",
    "]\n",
    "task=\"SpaceInvaders-v0\""
   ]
  },
  {
   "cell_type": "code",
   "execution_count": 432,
   "metadata": {},
   "outputs": [
    {
     "name": "stdout",
     "output_type": "stream",
     "text": [
      "../../../Downloads/test/2022-12-01/15-49-58\n",
      "../../../Downloads/test/2022-12-01/18-45-04\n",
      "../../../Downloads/test/2022-12-01/20-44-53\n",
      "../../../Downloads/test/2022-12-01/22-52-36\n",
      "../../../Downloads/test/2022-12-02/00-53-07\n",
      "../../../Downloads/test/2022-12-02/03-29-18\n",
      "../../../Downloads/test/2022-12-02/06-26-15\n",
      "../../../Downloads/test/2022-12-02/08-21-25\n",
      "../../../Downloads/test/2022-12-02/10-59-35\n",
      "../../../Downloads/test/2022-12-02/13-07-35\n"
     ]
    },
    {
     "data": {
      "image/png": "[encoded data removed]",
      "text/plain": [
       "<Figure size 432x288 with 1 Axes>"
      ]
     },
     "metadata": {
      "needs_background": "light"
     },
     "output_type": "display_data"
    }
   ],
   "source": [
    "renge=100\n",
    "step=5\n",
    "ends = (renge//step)\n",
    "\n",
    "mi = np.zeros(ends)\n",
    "ma = np.zeros(ends)\n",
    "av = np.zeros(ends)\n",
    "end=0\n",
    "for file in files:\n",
    "    _mi, _ma, _av, end = log_load(file,task, renge=renge, _step=step)\n",
    "    assert _mi.size==mi.size, f'{file} {_mi.size} dont match'\n",
    "    mi=np.add(mi,_mi)\n",
    "    ma=np.add(ma,_ma)\n",
    "    av=np.add(av,_av)\n",
    "mi=np.divide(mi,10)\n",
    "ma=np.divide(ma,10)\n",
    "av=np.divide(av,10)\n",
    "ge = np.arange((ends-mi.size)*step, ends*step, step)\n",
    "\n",
    "title = f\"./results/tpg-mh-{task.replace('/','-')}\"\n",
    "plt.plot(ge, mi, label='min')\n",
    "plt.plot(ge, ma, label='max')\n",
    "plt.plot(ge, av, label='ave')\n",
    "\n",
    "plt.ylabel('Score')\n",
    "plt.xlabel('Generation')\n",
    "plt.legend()\n",
    "plt.savefig(f\"{title}.png\")\n",
    "plt.show()\n",
    "with open(f'{title}.txt','w') as f:\n",
    "    f.write(f'min-min:{min(mi)}, max-min:{min(ma)}, ave-min:{min(av)}, min-max:{max(mi)}, max-max:{max(ma)}, ave-max:{max(av)}, min-ave:{sum(mi)/len(mi)}, max-ave:{sum(ma)/len(ma)}, ave-ave:{sum(av)/len(av)}')\n"
   ]
  },
  {
   "cell_type": "markdown",
   "metadata": {},
   "source": [
    "# multi elite"
   ]
  },
  {
   "cell_type": "code",
   "execution_count": null,
   "metadata": {},
   "outputs": [],
   "source": [
    "prefix_results = './results/'\n",
    "normalize_file = {\n",
    "    'ALE/Jamesbond-ram-v5': f'{prefix_results}tpg-ALE-Jamesbond-ram-v5', \n",
    "    'ALE/Pitfall-ram-v5': f'{prefix_results}tpg-ALE-Pitfall-ram-v5', \n",
    "    'ALE/WizardOfWor-v5': f'{prefix_results}tpg-ALE-WizardOfWor-v5', \n",
    "    'DoubleDunk-ramNoFrameskip-v4': f'{prefix_results}tpg-DoubleDunk-ramNoFrameskip-v4', \n",
    "    'Hero-ramDeterministic-v4': f'{prefix_results}tpg-Hero-ramDeterministic-v4', \n",
    "    'Hero-v4': f'{prefix_results}tpg-Hero-v4', \n",
    "    'MontezumaRevengeDeterministic-v0': f'{prefix_results}tpg-MontezumaRevengeDeterministic-v0', \n",
    "    'PitfallDeterministic-v4': f'{prefix_results}tpg-PitfallDeterministic-v4',\n",
    "    'PrivateEye-ramDeterministic-v0': f'{prefix_results}tpg-PrivateEye-ramDeterministic-v0', \n",
    "    'SpaceInvaders-v0': f'{prefix_results}tpg-SpaceInvaders-v0'\n",
    "}\n",
    "ignores = [\n",
    "    'Hero-v4', \n",
    "    # 'Hero-ramDeterministic-v4'\n",
    "]\n",
    "normalize = {}\n",
    "scores_tpg = {}\n",
    "scores_tpg_mh = {}\n",
    "scores_tpg_actor2 = {}\n",
    "\n",
    "# _type='ave'\n",
    "for task, file in normalize_file.items():\n",
    "    normal = log_normalize(file, _min_type='min', _max_type='max')\n",
    "    scores_tpg[task]=0.\n",
    "    scores_tpg_mh[task]=0.\n",
    "    scores_tpg_actor2[task]=0.\n",
    "    # print(task, normalize)\n",
    "    normalize[task]=normal\n",
    "normalize\n"
   ]
  },
  {
   "cell_type": "code",
   "execution_count": 455,
   "metadata": {},
   "outputs": [],
   "source": [
    "prefix_results = './results/'\n",
    "normalize_file = {\n",
    "    'ALE/Jamesbond-ram-v5': f'{prefix_results}tpg-mh-ALE-Jamesbond-ram-v5', \n",
    "    'ALE/Pitfall-ram-v5': f'{prefix_results}tpg-mh-ALE-Pitfall-ram-v5', \n",
    "    'ALE/WizardOfWor-v5': f'{prefix_results}tpg-mh-ALE-WizardOfWor-v5', \n",
    "    'DoubleDunk-ramNoFrameskip-v4': f'{prefix_results}tpg-mh-DoubleDunk-ramNoFrameskip-v4', \n",
    "    'Hero-ramDeterministic-v4': f'{prefix_results}tpg-mh-Hero-ramDeterministic-v4', \n",
    "    'Hero-v4': f'{prefix_results}tpg-mh-Hero-v4', \n",
    "    'MontezumaRevengeDeterministic-v0': f'{prefix_results}tpg-mh-MontezumaRevengeDeterministic-v0', \n",
    "    'PitfallDeterministic-v4': f'{prefix_results}tpg-mh-PitfallDeterministic-v4',\n",
    "    'PrivateEye-ramDeterministic-v0': f'{prefix_results}tpg-mh-PrivateEye-ramDeterministic-v0', \n",
    "    'SpaceInvaders-v0': f'{prefix_results}tpg-mh-SpaceInvaders-v0'\n",
    "}\n"
   ]
  },
  {
   "cell_type": "code",
   "execution_count": 458,
   "metadata": {},
   "outputs": [
    {
     "data": {
      "text/plain": [
       "{'ALE/Jamesbond-ram-v5': [0.0, 106.0],\n",
       " 'ALE/Pitfall-ram-v5': [-88.14, 0.0],\n",
       " 'ALE/WizardOfWor-v5': [32.0, 200.0],\n",
       " 'DoubleDunk-ramNoFrameskip-v4': [-0.4800000000000001, 0.2],\n",
       " 'Hero-ramDeterministic-v4': [0.0, 346.9],\n",
       " 'Hero-v4': [0.0, 7.5],\n",
       " 'MontezumaRevengeDeterministic-v0': [0.0, 0.0],\n",
       " 'PitfallDeterministic-v4': [-122.64000000000001, 0.0],\n",
       " 'PrivateEye-ramDeterministic-v0': [-713.4600000000002, 43.72],\n",
       " 'SpaceInvaders-v0': [29.9, 250.0]}"
      ]
     },
     "execution_count": 458,
     "metadata": {},
     "output_type": "execute_result"
    }
   ],
   "source": [
    "ignores = [\n",
    "    # 'Hero-v4', \n",
    "    # 'Hero-ramDeterministic-v4'\n",
    "]\n",
    "normalize = {}\n",
    "scores_tpg = {}\n",
    "scores_tpg_mh = {}\n",
    "scores_tpg_actor2 = {}\n",
    "\n",
    "# _type='ave'\n",
    "for task, file in normalize_file.items():\n",
    "    normal = log_normalize(file, _min_type='min', _max_type='max')\n",
    "    scores_tpg[task]=0.\n",
    "    scores_tpg_mh[task]=0.\n",
    "    scores_tpg_actor2[task]=0.\n",
    "    # print(task, normalize)\n",
    "    normalize[task]=normal\n",
    "normalize"
   ]
  },
  {
   "cell_type": "markdown",
   "metadata": {},
   "source": [
    "### TPG"
   ]
  },
  {
   "cell_type": "code",
   "execution_count": 265,
   "metadata": {},
   "outputs": [],
   "source": [
    "import _tpg.tpg as tp\n",
    "prefix = '/Users/matsuzawakazuki/Downloads/test/'\n",
    "graphs = [\n",
    "    f'{prefix}2022-12-06/16-20-12',\n",
    "    f'{prefix}2022-12-06/17-02-25',\n",
    "    f'{prefix}2022-12-06/17-44-30',\n",
    "    f'{prefix}2022-12-06/18-58-52',\n",
    "    f'{prefix}2022-12-06/19-52-11',\n",
    "    f'{prefix}2022-12-06/20-29-42',\n",
    "    f'{prefix}2022-12-06/21-29-47',\n",
    "    f'{prefix}2022-12-06/22-21-45',\n",
    "    f'{prefix}2022-12-06/23-10-06',\n",
    "    f'{prefix}2022-12-06/23-55-21'\n",
    "]\n",
    "tpg = tp._TPG()"
   ]
  },
  {
   "cell_type": "code",
   "execution_count": 459,
   "metadata": {},
   "outputs": [],
   "source": [
    "prefix = './log/test/'\n",
    "titles = [\n",
    "    f'{prefix}2022-12-09/19-34-29',\n",
    "    f'{prefix}2022-12-09/19-36-00',\n",
    "    f'{prefix}2022-12-09/19-36-15',\n",
    "    f'{prefix}2022-12-09/19-36-35',\n",
    "    f'{prefix}2022-12-09/19-37-07',\n",
    "    f'{prefix}2022-12-09/19-37-22',\n",
    "    f'{prefix}2022-12-09/19-37-38',\n",
    "    f'{prefix}2022-12-09/19-38-06',\n",
    "    f'{prefix}2022-12-09/19-38-25',\n",
    "    f'{prefix}2022-12-09/19-38-41'\n",
    "]"
   ]
  },
  {
   "cell_type": "markdown",
   "metadata": {},
   "source": [
    "#### random"
   ]
  },
  {
   "cell_type": "code",
   "execution_count": null,
   "metadata": {},
   "outputs": [],
   "source": [
    "prefix = '../../../Downloads/test/'\n",
    "graphs = [\n",
    "    f'{prefix}2022-12-02/20-51-19'\n",
    "]\n",
    "tpg = tp.MHTPG()\n",
    "\n",
    "for graph in graphs:\n",
    "    title = test_multi_elite()"
   ]
  },
  {
   "cell_type": "markdown",
   "metadata": {},
   "source": [
    "#### chaos"
   ]
  },
  {
   "cell_type": "code",
   "execution_count": 378,
   "metadata": {},
   "outputs": [],
   "source": [
    "prefix = './log/test/'\n",
    "titles = [\n",
    "    f'{prefix}2022-12-11/19-58-55',\n",
    "    f'{prefix}2022-12-11/19-59-12',\n",
    "    f'{prefix}2022-12-11/19-59-27',\n",
    "    f'{prefix}2022-12-11/19-59-41',\n",
    "    f'{prefix}2022-12-11/20-00-23',\n",
    "    f'{prefix}2022-12-11/20-00-50',\n",
    "    f'{prefix}2022-12-11/20-01-10',\n",
    "    f'{prefix}2022-12-11/20-01-24',\n",
    "    f'{prefix}2022-12-11/20-03-00',\n",
    "    f'{prefix}2022-12-11/20-03-14'\n",
    "]"
   ]
  },
  {
   "cell_type": "code",
   "execution_count": 460,
   "metadata": {},
   "outputs": [
    {
     "name": "stdout",
     "output_type": "stream",
     "text": [
      "{'ALE/Jamesbond-ram-v5': 200.0, 'ALE/Pitfall-ram-v5': 0.0, 'ALE/WizardOfWor-v5': 2000.0, 'DoubleDunk-ramNoFrameskip-v4': 2.0, 'Hero-ramDeterministic-v4': 5490.0, 'Hero-v4': 0.0, 'MontezumaRevengeDeterministic-v0': 0.0, 'PitfallDeterministic-v4': 0.0, 'PrivateEye-ramDeterministic-v0': -1000.0, 'SpaceInvaders-v0': 2500.0}\n"
     ]
    },
    {
     "data": {
      "text/plain": [
       "{'ALE/Jamesbond-ram-v5': 18.867922748309173,\n",
       " 'ALE/Pitfall-ram-v5': 9.999998865441471,\n",
       " 'ALE/WizardOfWor-v5': 117.14285017006844,\n",
       " 'DoubleDunk-ramNoFrameskip-v4': 36.470051911001306,\n",
       " 'Hero-ramDeterministic-v4': 158.25885966391297,\n",
       " 'Hero-v4': 0.0,\n",
       " 'MontezumaRevengeDeterministic-v0': 0.0,\n",
       " 'PitfallDeterministic-v4': 9.999999184605414,\n",
       " 'PrivateEye-ramDeterministic-v0': -3.784304870911737,\n",
       " 'SpaceInvaders-v0': 112.22625569167398}"
      ]
     },
     "execution_count": 460,
     "metadata": {},
     "output_type": "execute_result"
    }
   ],
   "source": [
    "\n",
    "for title in titles:\n",
    "    scores_tpg = log_elite(title, _scores=scores_tpg)\n",
    "print(repr(scores_tpg))\n",
    "for ignore in ignores:\n",
    "    del scores_tpg[ignore]\n",
    "for task in scores_tpg:\n",
    "    # normalize = log_normalize(normalize_file[task])\n",
    "    scores_tpg[task]= (scores_tpg[task]-normalize[task][0])/(normalize[task][1]-normalize[task][0]+0.00001)*10.0\n",
    "scores_tpg"
   ]
  },
  {
   "cell_type": "markdown",
   "metadata": {},
   "source": [
    "### MHTPG"
   ]
  },
  {
   "cell_type": "code",
   "execution_count": 267,
   "metadata": {},
   "outputs": [],
   "source": [
    "prefix = '../../../Downloads/test/'\n",
    "graphs = [\n",
    "    f'{prefix}2022-12-05/13-33-02',\n",
    "    f'{prefix}2022-12-04/03-06-27',\n",
    "    f'{prefix}2022-12-04/07-02-08',\n",
    "    f'{prefix}2022-12-04/10-01-16',\n",
    "    f'{prefix}2022-12-04/13-43-48',\n",
    "    f'{prefix}2022-12-04/14-57-20',\n",
    "    f'{prefix}2022-12-04/17-12-37',\n",
    "    f'{prefix}2022-12-04/20-56-58',\n",
    "    f'{prefix}2022-12-04/20-59-14',\n",
    "    f'{prefix}2022-12-04/23-32-04'\n",
    "]\n",
    "tpg = tp.MHTPG()"
   ]
  },
  {
   "cell_type": "code",
   "execution_count": 461,
   "metadata": {},
   "outputs": [],
   "source": [
    "prefix = './log/test/'\n",
    "titles = [\n",
    "    f'{prefix}2022-12-09/19-43-07',\n",
    "    f'{prefix}2022-12-09/19-43-32',\n",
    "    f'{prefix}2022-12-09/19-43-54',\n",
    "    f'{prefix}2022-12-09/19-44-11',\n",
    "    f'{prefix}2022-12-09/19-44-31',\n",
    "    f'{prefix}2022-12-09/19-44-47',\n",
    "    f'{prefix}2022-12-09/19-45-01',\n",
    "    f'{prefix}2022-12-09/19-45-16',\n",
    "    f'{prefix}2022-12-09/19-45-31',\n",
    "    f'{prefix}2022-12-09/19-45-45'\n",
    "]"
   ]
  },
  {
   "cell_type": "markdown",
   "metadata": {},
   "source": [
    "#### random"
   ]
  },
  {
   "cell_type": "code",
   "execution_count": null,
   "metadata": {},
   "outputs": [],
   "source": [
    "prefix = '../../../Downloads/test/'\n",
    "graphs = [\n",
    "    f'{prefix}2022-12-02/20-51-19'\n",
    "]\n",
    "tpg = tp.MHTPG()\n",
    "\n",
    "for graph in graphs:\n",
    "    title = test_multi_elite()"
   ]
  },
  {
   "cell_type": "markdown",
   "metadata": {},
   "source": [
    "#### chaos"
   ]
  },
  {
   "cell_type": "code",
   "execution_count": 372,
   "metadata": {},
   "outputs": [],
   "source": [
    "prefix = './log/test/'\n",
    "titles = [\n",
    "    f'{prefix}2022-12-11/20-04-02',\n",
    "    f'{prefix}2022-12-11/20-04-19',\n",
    "    f'{prefix}2022-12-11/20-04-41',\n",
    "    f'{prefix}2022-12-11/20-05-00',\n",
    "    f'{prefix}2022-12-11/20-05-19',\n",
    "    f'{prefix}2022-12-11/20-05-38',\n",
    "    f'{prefix}2022-12-11/20-05-57',\n",
    "    f'{prefix}2022-12-11/20-06-13',\n",
    "    f'{prefix}2022-12-11/20-06-32',\n",
    "    f'{prefix}2022-12-11/20-07-26'\n",
    "]"
   ]
  },
  {
   "cell_type": "code",
   "execution_count": 462,
   "metadata": {},
   "outputs": [
    {
     "name": "stdout",
     "output_type": "stream",
     "text": [
      "{'ALE/Jamesbond-ram-v5': 4.716980687077293, 'ALE/Pitfall-ram-v5': 9.999998865441471, 'ALE/WizardOfWor-v5': 117.14285017006844, 'DoubleDunk-ramNoFrameskip-v4': 36.470051911001306, 'Hero-ramDeterministic-v4': 82.7327736312259, 'Hero-v4': 99.99986666684444, 'MontezumaRevengeDeterministic-v0': 0.0, 'PitfallDeterministic-v4': 9.999999184605414, 'PrivateEye-ramDeterministic-v0': 2.502179105335865, 'SpaceInvaders-v0': 112.22625569167398}\n"
     ]
    },
    {
     "data": {
      "text/plain": [
       "{'ALE/Jamesbond-ram-v5': 4.716980687077293,\n",
       " 'ALE/Pitfall-ram-v5': 9.999998865441471,\n",
       " 'ALE/WizardOfWor-v5': 117.14285017006844,\n",
       " 'DoubleDunk-ramNoFrameskip-v4': 36.470051911001306,\n",
       " 'Hero-ramDeterministic-v4': 82.7327736312259,\n",
       " 'Hero-v4': 99.99986666684444,\n",
       " 'MontezumaRevengeDeterministic-v0': 0.0,\n",
       " 'PitfallDeterministic-v4': 9.999999184605414,\n",
       " 'PrivateEye-ramDeterministic-v0': 2.502179105335865,\n",
       " 'SpaceInvaders-v0': 112.22625569167398}"
      ]
     },
     "execution_count": 462,
     "metadata": {},
     "output_type": "execute_result"
    }
   ],
   "source": [
    "\n",
    "for title in titles:\n",
    "    scores_tpg_mh = log_elite(title, _scores=scores_tpg_mh)\n",
    "\n",
    "for task in scores_tpg_mh:\n",
    "    # normalize = log_normalize(normalize_file[task])\n",
    "    scores_tpg_mh[task]= (scores_tpg_mh[task]-normalize[task][0])/(normalize[task][1]-normalize[task][0]+0.00001)*10.0\n",
    "print(scores_tpg_mh)\n",
    "for ignore in ignores:\n",
    "    del scores_tpg_mh[ignore]\n",
    "scores_tpg_mh"
   ]
  },
  {
   "cell_type": "markdown",
   "metadata": {},
   "source": [
    "### Actor1"
   ]
  },
  {
   "cell_type": "code",
   "execution_count": 269,
   "metadata": {},
   "outputs": [],
   "source": [
    "prefix = '../../../Downloads/test/'\n",
    "graphs = [\n",
    "    f'{prefix}2022-12-06/',\n",
    "    f'{prefix}2022-12-06/',\n",
    "    f'{prefix}2022-12-06/',\n",
    "    f'{prefix}2022-12-06/',\n",
    "    f'{prefix}2022-12-06/',\n",
    "    f'{prefix}2022-12-06/',\n",
    "    f'{prefix}2022-12-06/',\n",
    "    f'{prefix}2022-12-06/',\n",
    "    f'{prefix}2022-12-06/',\n",
    "    f'{prefix}2022-12-06/'\n",
    "]\n",
    "tpg = tp.Actor1()"
   ]
  },
  {
   "cell_type": "markdown",
   "metadata": {},
   "source": [
    "### Actor2"
   ]
  },
  {
   "cell_type": "code",
   "execution_count": 270,
   "metadata": {},
   "outputs": [],
   "source": [
    "prefix = './log/test/'\n",
    "graphs = [\n",
    "    f'{prefix}2022-12-06/20-31-12',\n",
    "    f'{prefix}2022-12-06/23-15-46',\n",
    "    f'{prefix}2022-12-07/02-15-56',\n",
    "    f'{prefix}2022-12-07/04-24-40',\n",
    "    f'{prefix}2022-12-07/07-25-56',\n",
    "    f'{prefix}2022-12-07/09-08-15',\n",
    "    f'{prefix}2022-12-07/12-13-30',\n",
    "    f'{prefix}2022-12-07/23-08-26',\n",
    "    f'{prefix}2022-12-08/02-16-43',\n",
    "    f'{prefix}2022-12-08/04-13-09'\n",
    "]\n",
    "tpg = tp.Actor2()"
   ]
  },
  {
   "cell_type": "code",
   "execution_count": 463,
   "metadata": {},
   "outputs": [],
   "source": [
    "prefix = './log/test/'\n",
    "titles = [\n",
    "    f'{prefix}2022-12-09/19-55-51',\n",
    "    f'{prefix}2022-12-09/19-56-15',\n",
    "    f'{prefix}2022-12-09/19-56-35',\n",
    "    f'{prefix}2022-12-09/19-56-53',\n",
    "    f'{prefix}2022-12-09/19-57-13',\n",
    "    f'{prefix}2022-12-09/19-57-30',\n",
    "    f'{prefix}2022-12-09/19-57-52',\n",
    "    f'{prefix}2022-12-09/19-58-23',\n",
    "    f'{prefix}2022-12-09/19-59-05',\n",
    "    f'{prefix}2022-12-09/19-59-24'\n",
    "]"
   ]
  },
  {
   "cell_type": "markdown",
   "metadata": {},
   "source": [
    "#### chaos"
   ]
  },
  {
   "cell_type": "code",
   "execution_count": 374,
   "metadata": {},
   "outputs": [],
   "source": [
    "prefix = './log/test/'\n",
    "titles = [\n",
    "    f'{prefix}2022-12-11/20-15-07',\n",
    "    f'{prefix}2022-12-11/20-15-23',\n",
    "    f'{prefix}2022-12-11/20-15-43',\n",
    "    f'{prefix}2022-12-11/20-16-00',\n",
    "    f'{prefix}2022-12-11/20-16-16',\n",
    "    f'{prefix}2022-12-11/20-16-32',\n",
    "    f'{prefix}2022-12-11/20-16-53',\n",
    "    f'{prefix}2022-12-11/20-17-13',\n",
    "    f'{prefix}2022-12-11/20-17-44',\n",
    "    f'{prefix}2022-12-11/20-17-59'\n",
    "]"
   ]
  },
  {
   "cell_type": "code",
   "execution_count": 464,
   "metadata": {},
   "outputs": [
    {
     "name": "stdout",
     "output_type": "stream",
     "text": [
      "{'ALE/Jamesbond-ram-v5': 23.584903435386465, 'ALE/Pitfall-ram-v5': 9.999998865441471, 'ALE/WizardOfWor-v5': 99.28570837585069, 'DoubleDunk-ramNoFrameskip-v4': 95.29271628358404, 'Hero-ramDeterministic-v4': 174.40183988464, 'Hero-v4': 7286.656951124065, 'MontezumaRevengeDeterministic-v0': 0.0, 'PitfallDeterministic-v4': 9.999999184605414, 'PrivateEye-ramDeterministic-v0': 12.063974060804908, 'SpaceInvaders-v0': 94.27986850159616}\n"
     ]
    },
    {
     "data": {
      "text/plain": [
       "{'ALE/Jamesbond-ram-v5': 23.584903435386465,\n",
       " 'ALE/Pitfall-ram-v5': 9.999998865441471,\n",
       " 'ALE/WizardOfWor-v5': 99.28570837585069,\n",
       " 'DoubleDunk-ramNoFrameskip-v4': 95.29271628358404,\n",
       " 'Hero-ramDeterministic-v4': 174.40183988464,\n",
       " 'Hero-v4': 7286.656951124065,\n",
       " 'MontezumaRevengeDeterministic-v0': 0.0,\n",
       " 'PitfallDeterministic-v4': 9.999999184605414,\n",
       " 'PrivateEye-ramDeterministic-v0': 12.063974060804908,\n",
       " 'SpaceInvaders-v0': 94.27986850159616}"
      ]
     },
     "execution_count": 464,
     "metadata": {},
     "output_type": "execute_result"
    }
   ],
   "source": [
    "\n",
    "for title in titles:\n",
    "    scores_tpg_actor2 = log_elite(title, _scores=scores_tpg_actor2)\n",
    "\n",
    "for task in scores_tpg_actor2:\n",
    "    scores_tpg_actor2[task]= (scores_tpg_actor2[task]-normalize[task][0])/(normalize[task][1]-normalize[task][0]+0.00001)*10.0\n",
    "print(scores_tpg_actor2)\n",
    "for ignore in ignores:\n",
    "    del scores_tpg_actor2[ignore]\n",
    "scores_tpg_actor2"
   ]
  },
  {
   "cell_type": "markdown",
   "metadata": {},
   "source": [
    "### Show"
   ]
  },
  {
   "cell_type": "code",
   "execution_count": 466,
   "metadata": {},
   "outputs": [
    {
     "name": "stdout",
     "output_type": "stream",
     "text": [
      "45.9181633364101 47.57909559132741 780.5565959715974\n"
     ]
    },
    {
     "data": {
      "image/png": "[encoded data removed]",
      "text/plain": [
       "<Figure size 432x288 with 1 Axes>"
      ]
     },
     "metadata": {
      "needs_background": "light"
     },
     "output_type": "display_data"
    }
   ],
   "source": [
    "plt.plot(scores_tpg.keys(), scores_tpg.values(), label='tpg', marker='.', c=\"blue\")\n",
    "plt.plot(scores_tpg.keys(), [sum(scores_tpg.values())/10.]*len(scores_tpg), label='tpg-ave', c=\"royalblue\")\n",
    "plt.plot(scores_tpg_mh.keys(), scores_tpg_mh.values(), label='tpg_mh', marker='.', c=\"green\")\n",
    "plt.plot(scores_tpg_mh.keys(), [sum(scores_tpg_mh.values())/10.]*len(scores_tpg_mh), label='tpg_mh-ave', c=\"lime\")\n",
    "plt.plot(scores_tpg_actor2.keys(), scores_tpg_actor2.values(), label='tpg_actor', marker='.', c=\"red\")\n",
    "plt.plot(scores_tpg_actor2.keys(), [sum(scores_tpg_actor2.values())/10.]*len(scores_tpg_actor2), label='tpg_actor-ave', c=\"tomato\")\n",
    "plt.xticks(rotation=90)\n",
    "# plt.suptitle('Categorical Plotting')\n",
    "plt.xlabel('Tasks')\n",
    "plt.ylabel('Champion Single-Task %')\n",
    "\n",
    "# plt.title('Multi-Task Scores')\n",
    "# plt.legend()\n",
    "plt.legend(bbox_to_anchor=(1.05, 1), loc='upper left', borderaxespad=0, fontsize=10.5)\n",
    "print(sum(scores_tpg.values())/10.,sum(scores_tpg_mh.values())/10.,sum(scores_tpg_actor2.values())/10.)\n",
    "\n",
    "plt.show()\n",
    "# multi-10-tasks: 394.45354363594583 7500218.961637132 546500433.9280788\n",
    "# multi-9-tasks: 394.45354363594583 218.9616371318259 433.92807890293545\n",
    "# multi-8-tasks: 28.453787635783165 27.628431353963087 30.59501445831173\n",
    "# multi-mh-tasks: 45.9181633364101 47.57909559132741 780.5565959715974\n",
    "# multi-mh-9-tasks: 45.9181633364101 37.579108924642966 51.890900859190914"
   ]
  },
  {
   "cell_type": "code",
   "execution_count": null,
   "metadata": {},
   "outputs": [],
   "source": []
  }
 ],
 "metadata": {
  "kernelspec": {
   "display_name": "Python 3.10.4 ('.tpg')",
   "language": "python",
   "name": "python3"
  },
  "language_info": {
   "codemirror_mode": {
    "name": "ipython",
    "version": 3
   },
   "file_extension": ".py",
   "mimetype": "text/x-python",
   "name": "python",
   "nbconvert_exporter": "python",
   "pygments_lexer": "ipython3",
   "version": "3.10.4"
  },
  "orig_nbformat": 4,
  "vscode": {
   "interpreter": {
    "hash": "f0b70de59f0c76375dd083d289dabd6fda51a40bd7c4cd5f7e42ddbd15b707d9"
   }
  }
 },
 "nbformat": 4,
 "nbformat_minor": 2
}
