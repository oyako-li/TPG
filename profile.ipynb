{
 "cells": [
  {
   "cell_type": "code",
   "execution_count": 5,
   "metadata": {},
   "outputs": [],
   "source": [
    "%matplotlib inline\n",
    "import numpy as np\n",
    "import matplotlib.pyplot as plt"
   ]
  },
  {
   "cell_type": "code",
   "execution_count": 6,
   "metadata": {},
   "outputs": [],
   "source": [
    "def log_load(title , task, renge, _step=5):\n",
    "    l =[]\n",
    "\n",
    "    with open(f\"{title}.log\", \"r\") as file:\n",
    "        lines = file.readlines()\n",
    "        for line in lines:\n",
    "            results = line.replace('\\n','').split(', ')[2:]\n",
    "            # breakpoint(results)\n",
    "            if len(results)<2: continue\n",
    "            if f'{task}' in results[0] and 'generation:' in results[1]:\n",
    "                l.append([float(re.split(':')[1]) for re in results[2:]])\n",
    "                end = int(results[1].split(':')[1])\n",
    "\n",
    "    __min = []\n",
    "    __mi = 0.\n",
    "    __max = []\n",
    "    __ma = 0.\n",
    "    __ave = []\n",
    "    __av = 0.\n",
    "    for i, item in enumerate(l):\n",
    "        _min, _max, _ave = item\n",
    "        __mi+=_min\n",
    "        __ma+=_max\n",
    "        __av+=_ave\n",
    "        # if i==0: continue\n",
    "        if i%_step==_step-1:\n",
    "            __min.append(__mi/float(_step))\n",
    "            __mi=0.\n",
    "            __max.append(__ma/float(_step))\n",
    "            __ma=0.\n",
    "            __ave.append(__av/float(_step))\n",
    "            __av=0.\n",
    "        if i == renge: break\n",
    "    mi = np.array(__min)\n",
    "    ma = np.array(__max)\n",
    "    av = np.array(__ave)\n",
    "    \n",
    "    return mi, ma, av, end"
   ]
  },
  {
   "cell_type": "code",
   "execution_count": 7,
   "metadata": {},
   "outputs": [],
   "source": [
    "def log_accumlation(_title, _task, renge=100, step=5):\n",
    "    l =[]\n",
    "\n",
    "    with open(f\"{_title}.log\", \"r\") as file:\n",
    "        lines = file.readlines()\n",
    "        for line in lines:\n",
    "            results = line.replace('\\n','').split(', ')[2:]\n",
    "            # breakpoint(results)\n",
    "            if len(results)<2: continue\n",
    "            if (f'{_task}' in results[0] or f'{_task}' == 'any') and 'generation:' in results[1]:\n",
    "                l.append([float(re.split(':')[1]) for re in results[2:]])\n",
    "                end = int(results[1].split(':')[1])\n",
    "\n",
    "    __min = []\n",
    "    __mi = 0.\n",
    "    __max = []\n",
    "    __ma = 0.\n",
    "    __ave = []\n",
    "    __av = 0.\n",
    "    for i, item in enumerate(l):\n",
    "        _min, _max, _ave = item\n",
    "        __mi+=_min\n",
    "        __ma+=_max\n",
    "        __av+=_ave\n",
    "        # if i==0: continue\n",
    "        if i%step==step-1:\n",
    "            __mi/=float(step)\n",
    "            __mi+=__min[-1]\n",
    "            __min.append(__mi)\n",
    "            __mi=0.\n",
    "            __ma/=float(step)\n",
    "            __ma+=__max[-1]\n",
    "            __max.append(__ma)\n",
    "            __ma=0.\n",
    "            __av/=float(step)\n",
    "            __av+=__ave[-1]\n",
    "            __ave.append(__av)\n",
    "            __av=0.\n",
    "        if i == renge: break\n",
    "\n",
    "    mi = np.array(__min)\n",
    "    ma = np.array(__max)\n",
    "    av = np.array(__ave)\n",
    "    \n",
    "    return mi, ma, av, end\n"
   ]
  },
  {
   "cell_type": "markdown",
   "metadata": {},
   "source": [
    "# chaos"
   ]
  },
  {
   "cell_type": "code",
   "execution_count": null,
   "metadata": {},
   "outputs": [],
   "source": [
    "prefix = './log/test'\n",
    "files = [\n",
    "    f'{prefix}/2022-12-07/'\n",
    "]"
   ]
  },
  {
   "cell_type": "markdown",
   "metadata": {},
   "source": [
    "# single each"
   ]
  },
  {
   "cell_type": "markdown",
   "metadata": {},
   "source": []
  },
  {
   "cell_type": "markdown",
   "metadata": {},
   "source": [
    "# multi elite"
   ]
  },
  {
   "cell_type": "markdown",
   "metadata": {},
   "source": []
  }
 ],
 "metadata": {
  "kernelspec": {
   "display_name": "Python 3.10.4 ('.tpg')",
   "language": "python",
   "name": "python3"
  },
  "language_info": {
   "codemirror_mode": {
    "name": "ipython",
    "version": 3
   },
   "file_extension": ".py",
   "mimetype": "text/x-python",
   "name": "python",
   "nbconvert_exporter": "python",
   "pygments_lexer": "ipython3",
   "version": "3.10.4"
  },
  "orig_nbformat": 4,
  "vscode": {
   "interpreter": {
    "hash": "f0b70de59f0c76375dd083d289dabd6fda51a40bd7c4cd5f7e42ddbd15b707d9"
   }
  }
 },
 "nbformat": 4,
 "nbformat_minor": 2
}
