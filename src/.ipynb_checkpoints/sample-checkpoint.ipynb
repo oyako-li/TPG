{
 "cells": [
  {
   "cell_type": "code",
   "execution_count": null,
   "metadata": {},
   "outputs": [],
   "source": [
    "import numpy as np\n",
    "import random"
   ]
  },
  {
   "cell_type": "code",
   "execution_count": 2,
   "metadata": {},
   "outputs": [
    {
     "data": {
      "text/plain": [
       "array([[ 0, 17,  2, 10]], dtype=int32)"
      ]
     },
     "execution_count": 2,
     "metadata": {},
     "output_type": "execute_result"
    }
   ],
   "source": [
    "instructions = np.array([\n",
    "                (\n",
    "                    random.randint(0,1),\n",
    "                    random.randint(0, 18-1),\n",
    "                    random.randint(0, 8-1),\n",
    "                    random.randint(0, 32-1)\n",
    "                ) for _ in range(random.randint(1, 10))], dtype=np.int32)\n",
    "\n",
    "instructions"
   ]
  },
  {
   "cell_type": "code",
   "execution_count": 3,
   "metadata": {},
   "outputs": [
    {
     "data": {
      "text/plain": [
       "array([17], dtype=int32)"
      ]
     },
     "execution_count": 3,
     "metadata": {},
     "output_type": "execute_result"
    }
   ],
   "source": [
    "instructions[:,1]"
   ]
  },
  {
   "cell_type": "code",
   "execution_count": 4,
   "metadata": {},
   "outputs": [
    {
     "data": {
      "text/plain": [
       "0.0"
      ]
     },
     "execution_count": 4,
     "metadata": {},
     "output_type": "execute_result"
    }
   ],
   "source": [
    "a = np.array([1,2,3,np.nan])\n",
    "b = np.array([1,2,np.nan,np.nan])\n",
    "diff =b-a\n",
    "dif =np.power(diff, 2)\n",
    "dif[dif<np.inf].sum()"
   ]
  },
  {
   "cell_type": "code",
   "execution_count": 5,
   "metadata": {},
   "outputs": [
    {
     "data": {
      "text/plain": [
       "array([ 0.,  0., nan, nan])"
      ]
     },
     "execution_count": 5,
     "metadata": {},
     "output_type": "execute_result"
    }
   ],
   "source": [
    "b-a"
   ]
  },
  {
   "cell_type": "code",
   "execution_count": 23,
   "metadata": {},
   "outputs": [
    {
     "name": "stdout",
     "output_type": "stream",
     "text": [
      "{'sample': 'sample', 'c': <__main__.T object at 0x1161a2710>, 'contain': {'testing': 'sample', 'test1': 0}, 'fragment': array([ 1.,  2.,  3., nan,  4.])}\n",
      "test sampleupdate\n"
     ]
    },
    {
     "data": {
      "text/plain": [
       "'<testing, test1, >'"
      ]
     },
     "execution_count": 23,
     "metadata": {},
     "output_type": "execute_result"
    }
   ],
   "source": [
    "class S:\n",
    "    _s=None\n",
    "    def __init__(self) -> None:\n",
    "        self.s = 'S'\n",
    "    \n",
    "    def load(self, _p):\n",
    "        print(_p)\n",
    "        \n",
    "class T:\n",
    "    _s=None\n",
    "    def __init__(self) -> None:\n",
    "        self.s = 'T'\n",
    "\n",
    "    def load(self, _p):\n",
    "        print(_p)\n",
    "\n",
    "class _Sample:\n",
    "    _test = None\n",
    "    s = None\n",
    "    _instance = None\n",
    "    U=None\n",
    "    _A=None\n",
    "\n",
    "    def __new__(cls, *args, **kwargs):\n",
    "        if cls._instance is None:\n",
    "            cls._instance = True\n",
    "            cls._test = 'test _sample'\n",
    "            cls.s = S\n",
    "            cls.U = S\n",
    "            cls._A = T\n",
    "        return super().__new__(cls)\n",
    "\n",
    "    def __init__(self, _sample='sample', _fragment=[1,2,3, np.nan, 4]):\n",
    "        self.sample = _sample\n",
    "        self.c = self.__class__.s()\n",
    "        self.contain = {'testing':'sample', 'test1':0}\n",
    "        self.fragment = np.array(_fragment)\n",
    "\n",
    "\n",
    "        print(self.__dict__)\n",
    "\n",
    "    def __contains__(self, __o):\n",
    "        return __o in self.contain.keys()\n",
    "\n",
    "    def __repr__(self) -> str:\n",
    "        result = '<'\n",
    "        for i in self.contain.keys():\n",
    "            result+=f'{i}, '\n",
    "        return result+'>'\n",
    "\n",
    "    def __getitem__(self, __key):\n",
    "        return self.fragment[__key]\n",
    "    \n",
    "    # def __iter__(self):\n",
    "    #     # for contain in self.fragment:\n",
    "    #     #     yield contain\n",
    "    #     return self\n",
    "    \n",
    "    # def __next__(self):\n",
    "        \n",
    "\n",
    "    @classmethod\n",
    "    def test(cls):\n",
    "        # print(cls.test, cls.self.sample)\n",
    "        return cls._test\n",
    "\n",
    "    def calling(self):\n",
    "        return self.test()+self.sample\n",
    "    \n",
    "    def printing(self):\n",
    "        return self.__class__._test\n",
    "\n",
    "    def clone(self):\n",
    "        return self.__class__('sample2')\n",
    "    \n",
    "    def callclass(self):\n",
    "        return self.calling()\n",
    "\n",
    "class Sample(_Sample):\n",
    "\n",
    "    def __new__(cls, *args, **kwargs):\n",
    "        if cls._instance is None:\n",
    "            cls._instance = True\n",
    "            cls._test = 'test sample'\n",
    "            cls.s = T\n",
    "            cls.U = S\n",
    "            cls._A = T\n",
    "        return super().__new__(cls, *args, **kwargs)\n",
    "\n",
    "    def calling(self):\n",
    "        print(self.test()+'update')\n",
    "\n",
    "\n",
    "\n",
    "\n",
    "sample = Sample()\n",
    "sample.test()\n",
    "sample.calling()\n",
    "sample.printing()\n",
    "f'{sample}'"
   ]
  },
  {
   "cell_type": "code",
   "execution_count": 26,
   "metadata": {},
   "outputs": [
    {
     "name": "stdout",
     "output_type": "stream",
     "text": [
      "u\n",
      "u\n"
     ]
    }
   ],
   "source": [
    "import re\n",
    "\n",
    "\n",
    "item = [sample.__class__.__dict__[i] for i in sample.__class__.__dict__.keys() if re.match(r'^[A-Z_]?[A-Z]', i)]\n",
    "# _Sample.__dict__\n",
    "# sample.__class__.__dict__\n",
    "for i in item:\n",
    "    i.load(i,_p='u')"
   ]
  },
  {
   "cell_type": "code",
   "execution_count": 13,
   "metadata": {},
   "outputs": [
    {
     "name": "stdout",
     "output_type": "stream",
     "text": [
      "1.0\n",
      "2.0\n",
      "3.0\n",
      "nan\n",
      "4.0\n"
     ]
    }
   ],
   "source": [
    "for co in sample:\n",
    "    print(co)"
   ]
  },
  {
   "cell_type": "code",
   "execution_count": 14,
   "metadata": {},
   "outputs": [
    {
     "name": "stdout",
     "output_type": "stream",
     "text": [
      "{'sample': 'sample', 'c': <__main__.T object at 0x111c3e9e0>, 'contain': {'testing': 'sample', 'test1': 0}, 'fragment': array([nan,  1.,  4.,  5., nan])}\n"
     ]
    }
   ],
   "source": [
    "sample2 = Sample(_fragment=[np.nan, 1, 4, 5, np.nan])"
   ]
  },
  {
   "cell_type": "code",
   "execution_count": 22,
   "metadata": {},
   "outputs": [
    {
     "data": {
      "text/plain": [
       "array([ True,  True,  True, False,  True])"
      ]
     },
     "execution_count": 22,
     "metadata": {},
     "output_type": "execute_result"
    }
   ],
   "source": [
    "sample.fragment < np.inf"
   ]
  },
  {
   "cell_type": "code",
   "execution_count": 20,
   "metadata": {},
   "outputs": [
    {
     "data": {
      "text/plain": [
       "[]"
      ]
     },
     "execution_count": 20,
     "metadata": {},
     "output_type": "execute_result"
    }
   ],
   "source": [
    "[item for i,item in enumerate(sample.fragment) if item is np.nan]"
   ]
  },
  {
   "cell_type": "code",
   "execution_count": 24,
   "metadata": {},
   "outputs": [],
   "source": [
    "a = np.array([1,2,np.nan])\n",
    "b = np.array([np.nan,3,np.nan, np.nan])"
   ]
  },
  {
   "cell_type": "code",
   "execution_count": 45,
   "metadata": {},
   "outputs": [
    {
     "ename": "ValueError",
     "evalue": "operands could not be broadcast together with shapes (3,) (4,) ",
     "output_type": "error",
     "traceback": [
      "\u001b[0;31m---------------------------------------------------------------------------\u001b[0m",
      "\u001b[0;31mValueError\u001b[0m                                Traceback (most recent call last)",
      "\u001b[1;32mセル8 を /Users/matsuzawakazuki/Code/TPG/src/sample.ipynb\u001b[0m in \u001b[0;36m<cell line: 1>\u001b[0;34m()\u001b[0m\n\u001b[0;32m----> <a href='vscode-notebook-cell:/Users/matsuzawakazuki/Code/TPG/src/sample.ipynb#Y134sZmlsZQ%3D%3D?line=0'>1</a>\u001b[0m a\u001b[39m*\u001b[39;49mb\n",
      "\u001b[0;31mValueError\u001b[0m: operands could not be broadcast together with shapes (3,) (4,) "
     ]
    }
   ],
   "source": [
    "a*b"
   ]
  },
  {
   "cell_type": "code",
   "execution_count": 43,
   "metadata": {},
   "outputs": [
    {
     "data": {
      "text/plain": [
       "(array([nan,  3., nan, nan]), array([ 1.,  2., nan]))"
      ]
     },
     "execution_count": 43,
     "metadata": {},
     "output_type": "execute_result"
    }
   ],
   "source": [
    "d = (b,a) if a.size<b.size else (a,b)\n",
    "d"
   ]
  },
  {
   "cell_type": "code",
   "execution_count": 35,
   "metadata": {},
   "outputs": [
    {
     "ename": "ValueError",
     "evalue": "list of cases must be same length as list of conditions",
     "output_type": "error",
     "traceback": [
      "\u001b[0;31m---------------------------------------------------------------------------\u001b[0m",
      "\u001b[0;31mValueError\u001b[0m                                Traceback (most recent call last)",
      "\u001b[1;32mセル8 を /Users/matsuzawakazuki/Code/TPG/src/sample.ipynb\u001b[0m in \u001b[0;36m<cell line: 1>\u001b[0;34m()\u001b[0m\n\u001b[0;32m----> <a href='vscode-notebook-cell:/Users/matsuzawakazuki/Code/TPG/src/sample.ipynb#Y132sZmlsZQ%3D%3D?line=0'>1</a>\u001b[0m np\u001b[39m.\u001b[39;49mselect(a\u001b[39m<\u001b[39;49mnp\u001b[39m.\u001b[39;49minf, [a,b], np\u001b[39m.\u001b[39;49mnan)\n",
      "File \u001b[0;32m<__array_function__ internals>:180\u001b[0m, in \u001b[0;36mselect\u001b[0;34m(*args, **kwargs)\u001b[0m\n",
      "File \u001b[0;32m~/miniforge3/envs/.tpg/lib/python3.10/site-packages/numpy/lib/function_base.py:786\u001b[0m, in \u001b[0;36mselect\u001b[0;34m(condlist, choicelist, default)\u001b[0m\n\u001b[1;32m    784\u001b[0m \u001b[39m# Check the size of condlist and choicelist are the same, or abort.\u001b[39;00m\n\u001b[1;32m    785\u001b[0m \u001b[39mif\u001b[39;00m \u001b[39mlen\u001b[39m(condlist) \u001b[39m!=\u001b[39m \u001b[39mlen\u001b[39m(choicelist):\n\u001b[0;32m--> 786\u001b[0m     \u001b[39mraise\u001b[39;00m \u001b[39mValueError\u001b[39;00m(\n\u001b[1;32m    787\u001b[0m         \u001b[39m'\u001b[39m\u001b[39mlist of cases must be same length as list of conditions\u001b[39m\u001b[39m'\u001b[39m)\n\u001b[1;32m    789\u001b[0m \u001b[39m# Now that the dtype is known, handle the deprecated select([], []) case\u001b[39;00m\n\u001b[1;32m    790\u001b[0m \u001b[39mif\u001b[39;00m \u001b[39mlen\u001b[39m(condlist) \u001b[39m==\u001b[39m \u001b[39m0\u001b[39m:\n",
      "\u001b[0;31mValueError\u001b[0m: list of cases must be same length as list of conditions"
     ]
    }
   ],
   "source": [
    "np.select(a<np.inf, [a,b], np.nan)"
   ]
  },
  {
   "cell_type": "code",
   "execution_count": 34,
   "metadata": {},
   "outputs": [
    {
     "data": {
      "text/plain": [
       "array([], dtype=float64)"
      ]
     },
     "execution_count": 34,
     "metadata": {},
     "output_type": "execute_result"
    }
   ],
   "source": [
    "np.intersect1d(a,b)"
   ]
  },
  {
   "cell_type": "code",
   "execution_count": 46,
   "metadata": {},
   "outputs": [
    {
     "data": {
      "text/plain": [
       "array([nan, nan, nan, nan])"
      ]
     },
     "execution_count": 46,
     "metadata": {},
     "output_type": "execute_result"
    }
   ],
   "source": [
    "d = (b,a) if a.size<b.size else (a,b)\n",
    "c=np.zeros_like(d[0])\n",
    "c[:]=np.nan\n",
    "c"
   ]
  },
  {
   "cell_type": "code",
   "execution_count": 49,
   "metadata": {},
   "outputs": [
    {
     "data": {
      "text/plain": [
       "array([ 1.,  2., nan, nan])"
      ]
     },
     "execution_count": 49,
     "metadata": {},
     "output_type": "execute_result"
    }
   ],
   "source": [
    "c[:d[1].size]=d[1]\n",
    "c"
   ]
  },
  {
   "cell_type": "code",
   "execution_count": 50,
   "metadata": {},
   "outputs": [
    {
     "data": {
      "text/plain": [
       "array([False, False,  True,  True])"
      ]
     },
     "execution_count": 50,
     "metadata": {},
     "output_type": "execute_result"
    }
   ],
   "source": [
    "np.isnan(c)"
   ]
  },
  {
   "cell_type": "code",
   "execution_count": 52,
   "metadata": {},
   "outputs": [
    {
     "data": {
      "text/plain": [
       "array([nan,  3., nan, nan])"
      ]
     },
     "execution_count": 52,
     "metadata": {},
     "output_type": "execute_result"
    }
   ],
   "source": [
    "np.where(np.isnan(c), c,b)"
   ]
  },
  {
   "cell_type": "code",
   "execution_count": 23,
   "metadata": {},
   "outputs": [
    {
     "data": {
      "text/plain": [
       "array([1., 1., 4., 5., 4.])"
      ]
     },
     "execution_count": 23,
     "metadata": {},
     "output_type": "execute_result"
    }
   ],
   "source": [
    "np.where(sample2.fragment < np.inf, sample2.fragment, sample.fragment)"
   ]
  },
  {
   "cell_type": "code",
   "execution_count": 7,
   "metadata": {},
   "outputs": [
    {
     "data": {
      "text/plain": [
       "False"
      ]
     },
     "execution_count": 7,
     "metadata": {},
     "output_type": "execute_result"
    }
   ],
   "source": [
    "'test' in sample"
   ]
  },
  {
   "cell_type": "code",
   "execution_count": 8,
   "metadata": {},
   "outputs": [
    {
     "data": {
      "text/plain": [
       "True"
      ]
     },
     "execution_count": 8,
     "metadata": {},
     "output_type": "execute_result"
    }
   ],
   "source": [
    "'testing' in sample"
   ]
  },
  {
   "cell_type": "code",
   "execution_count": 42,
   "metadata": {},
   "outputs": [
    {
     "name": "stdout",
     "output_type": "stream",
     "text": [
      "{'sample': 'sample', 'c': <__main__.S object at 0x10aaf5960>}\n"
     ]
    }
   ],
   "source": [
    "_sample = _Sample()"
   ]
  },
  {
   "cell_type": "code",
   "execution_count": 43,
   "metadata": {},
   "outputs": [
    {
     "data": {
      "text/plain": [
       "<__main__.S at 0x10a89a8f0>"
      ]
     },
     "execution_count": 43,
     "metadata": {},
     "output_type": "execute_result"
    }
   ],
   "source": [
    "_sample.s()\n"
   ]
  },
  {
   "cell_type": "code",
   "execution_count": 44,
   "metadata": {},
   "outputs": [
    {
     "data": {
      "text/plain": [
       "<__main__.S at 0x10aacde10>"
      ]
     },
     "execution_count": 44,
     "metadata": {},
     "output_type": "execute_result"
    }
   ],
   "source": [
    "_sample.s()"
   ]
  },
  {
   "cell_type": "code",
   "execution_count": 45,
   "metadata": {},
   "outputs": [
    {
     "data": {
      "text/plain": [
       "<__main__.T at 0x10aaf4970>"
      ]
     },
     "execution_count": 45,
     "metadata": {},
     "output_type": "execute_result"
    }
   ],
   "source": [
    "sample.s()"
   ]
  },
  {
   "cell_type": "code",
   "execution_count": 46,
   "metadata": {},
   "outputs": [
    {
     "data": {
      "text/plain": [
       "<__main__.T at 0x10a715b70>"
      ]
     },
     "execution_count": 46,
     "metadata": {},
     "output_type": "execute_result"
    }
   ],
   "source": [
    "sample.s()"
   ]
  },
  {
   "cell_type": "code",
   "execution_count": 51,
   "metadata": {},
   "outputs": [
    {
     "name": "stdout",
     "output_type": "stream",
     "text": [
      "{'sample': 'sample2', 'c': <__main__.T object at 0x10ad228c0>}\n"
     ]
    },
    {
     "data": {
      "text/plain": [
       "'sample2'"
      ]
     },
     "execution_count": 51,
     "metadata": {},
     "output_type": "execute_result"
    }
   ],
   "source": [
    "clone = sample.clone()\n",
    "clone.sample"
   ]
  },
  {
   "cell_type": "code",
   "execution_count": 10,
   "metadata": {},
   "outputs": [
    {
     "data": {
      "text/plain": [
       "'test sample'"
      ]
     },
     "execution_count": 10,
     "metadata": {},
     "output_type": "execute_result"
    }
   ],
   "source": [
    "sample.test()"
   ]
  },
  {
   "cell_type": "code",
   "execution_count": 11,
   "metadata": {},
   "outputs": [
    {
     "data": {
      "text/plain": [
       "'test sample'"
      ]
     },
     "execution_count": 11,
     "metadata": {},
     "output_type": "execute_result"
    }
   ],
   "source": [
    "sample.printing()"
   ]
  },
  {
   "cell_type": "code",
   "execution_count": 12,
   "metadata": {},
   "outputs": [
    {
     "data": {
      "text/plain": [
       "'test _sample'"
      ]
     },
     "execution_count": 12,
     "metadata": {},
     "output_type": "execute_result"
    }
   ],
   "source": [
    "clone.printing()"
   ]
  },
  {
   "cell_type": "code",
   "execution_count": 13,
   "metadata": {},
   "outputs": [
    {
     "data": {
      "text/plain": [
       "<__main__.T at 0x10463e140>"
      ]
     },
     "execution_count": 13,
     "metadata": {},
     "output_type": "execute_result"
    }
   ],
   "source": [
    "sample.c"
   ]
  },
  {
   "cell_type": "code",
   "execution_count": 14,
   "metadata": {},
   "outputs": [
    {
     "name": "stdout",
     "output_type": "stream",
     "text": [
      "test sampleupdate\n"
     ]
    }
   ],
   "source": [
    "sample.callclass()"
   ]
  },
  {
   "cell_type": "code",
   "execution_count": 15,
   "metadata": {},
   "outputs": [
    {
     "data": {
      "text/plain": [
       "<__main__.S at 0x104614130>"
      ]
     },
     "execution_count": 15,
     "metadata": {},
     "output_type": "execute_result"
    }
   ],
   "source": [
    "clone.c"
   ]
  },
  {
   "cell_type": "code",
   "execution_count": 16,
   "metadata": {},
   "outputs": [
    {
     "data": {
      "text/plain": [
       "'test _sample'"
      ]
     },
     "execution_count": 16,
     "metadata": {},
     "output_type": "execute_result"
    }
   ],
   "source": [
    "clone.printing()"
   ]
  },
  {
   "cell_type": "code",
   "execution_count": 54,
   "metadata": {},
   "outputs": [],
   "source": [
    "d = {'a':2}\n",
    "e = dict(d)"
   ]
  },
  {
   "cell_type": "code",
   "execution_count": 55,
   "metadata": {},
   "outputs": [
    {
     "data": {
      "text/plain": [
       "{'a': 2}"
      ]
     },
     "execution_count": 55,
     "metadata": {},
     "output_type": "execute_result"
    }
   ],
   "source": [
    "d['a']=3\n",
    "e"
   ]
  },
  {
   "cell_type": "code",
   "execution_count": 56,
   "metadata": {},
   "outputs": [
    {
     "data": {
      "text/plain": [
       "[<__main__.T at 0x10b8207c0>,\n",
       " <__main__.T at 0x10b821990>,\n",
       " <__main__.T at 0x10b820700>,\n",
       " <__main__.T at 0x10b821360>,\n",
       " <__main__.T at 0x10b8228c0>]"
      ]
     },
     "execution_count": 56,
     "metadata": {},
     "output_type": "execute_result"
    }
   ],
   "source": [
    "samples =[]\n",
    "for _ in range(5):\n",
    "    samples.append(sample.s())\n",
    "samples"
   ]
  },
  {
   "cell_type": "code",
   "execution_count": 57,
   "metadata": {},
   "outputs": [
    {
     "data": {
      "text/plain": [
       "[<__main__.T at 0x10b8207c0>,\n",
       " <__main__.T at 0x10b821990>,\n",
       " <__main__.T at 0x10b820700>,\n",
       " <__main__.T at 0x10b821360>,\n",
       " <__main__.T at 0x10b8228c0>]"
      ]
     },
     "execution_count": 57,
     "metadata": {},
     "output_type": "execute_result"
    }
   ],
   "source": [
    "clone_samples = list(samples)\n",
    "clone_samples"
   ]
  },
  {
   "cell_type": "code",
   "execution_count": 2,
   "metadata": {},
   "outputs": [
    {
     "data": {
      "text/plain": [
       "[3, 5]"
      ]
     },
     "execution_count": 2,
     "metadata": {},
     "output_type": "execute_result"
    }
   ],
   "source": [
    "import random\n",
    "l, n = [1, 2, 3, 4, 5, 6, 7, 8, 9, 10], 2\n",
    "index_list = random.sample(range(len(l)), n)\n",
    "index_list"
   ]
  },
  {
   "cell_type": "code",
   "execution_count": 7,
   "metadata": {},
   "outputs": [],
   "source": [
    "import gym"
   ]
  },
  {
   "cell_type": "code",
   "execution_count": 8,
   "metadata": {},
   "outputs": [],
   "source": [
    "env = gym.make('MountainCar-v0')"
   ]
  },
  {
   "cell_type": "code",
   "execution_count": 9,
   "metadata": {},
   "outputs": [
    {
     "name": "stdout",
     "output_type": "stream",
     "text": [
      "The observation space: Box([-1.2  -0.07], [0.6  0.07], (2,), float32)\n",
      "The action space: Discrete(3)\n"
     ]
    }
   ],
   "source": [
    "# Observation and action space \n",
    "obs_space = env.observation_space\n",
    "action_space = env.action_space\n",
    "print(\"The observation space: {}\".format(obs_space))\n",
    "print(\"The action space: {}\".format(action_space))"
   ]
  },
  {
   "cell_type": "code",
   "execution_count": 10,
   "metadata": {},
   "outputs": [
    {
     "name": "stdout",
     "output_type": "stream",
     "text": [
      "The initial observation is [-0.48127434  0.        ]\n",
      "The new observation is [-0.4805909   0.00068342]\n"
     ]
    }
   ],
   "source": [
    "import matplotlib.pyplot as plt \n",
    "\n",
    "# reset the environment and see the initial observation\n",
    "obs = env.reset()\n",
    "print(\"The initial observation is {}\".format(obs))\n",
    "\n",
    "# Sample a random action from the entire action space\n",
    "random_action = env.action_space.sample()\n",
    "\n",
    "# # Take the action and get the new observation space\n",
    "new_obs, reward, done, info = env.step(random_action)\n",
    "print(\"The new observation is {}\".format(new_obs))"
   ]
  },
  {
   "cell_type": "code",
   "execution_count": 11,
   "metadata": {},
   "outputs": [],
   "source": [
    "env.render(mode = \"human\")\n",
    "env.close()"
   ]
  },
  {
   "cell_type": "code",
   "execution_count": null,
   "metadata": {},
   "outputs": [],
   "source": []
  },
  {
   "cell_type": "code",
   "execution_count": 12,
   "metadata": {},
   "outputs": [
    {
     "data": {
      "text/plain": [
       "<matplotlib.image.AxesImage at 0x28aa26560>"
      ]
     },
     "execution_count": 12,
     "metadata": {},
     "output_type": "execute_result"
    },
    {
     "data": {
      "image/png": "[encoded data removed]",
      "text/plain": [
       "<Figure size 432x288 with 1 Axes>"
      ]
     },
     "metadata": {
      "needs_background": "light"
     },
     "output_type": "display_data"
    }
   ],
   "source": [
    "env_screen = env.render(mode = 'rgb_array')\n",
    "env.close()\n",
    "\n",
    "import matplotlib.pyplot as plt \n",
    "plt.imshow(env_screen)"
   ]
  },
  {
   "cell_type": "code",
   "execution_count": 13,
   "metadata": {},
   "outputs": [],
   "source": [
    "import time \n",
    "\n",
    "# Number of steps you run the agent for \n",
    "num_steps = 1500\n",
    "\n",
    "obs = env.reset()\n",
    "\n",
    "for step in range(num_steps):\n",
    "    # take random action, but you can also do something more intelligent\n",
    "    # action = my_intelligent_agent_fn(obs) \n",
    "    action = env.action_space.sample()\n",
    "    \n",
    "    # apply the action\n",
    "    obs, reward, done, info = env.step(action)\n",
    "    \n",
    "    # Render the env\n",
    "    env.render()\n",
    "\n",
    "    # Wait a bit before the next frame unless you want to see a crazy fast video\n",
    "    time.sleep(0.001)\n",
    "    \n",
    "    # If the epsiode is up, then start another one\n",
    "    if done:\n",
    "        env.reset()\n",
    "\n",
    "# Close the env\n",
    "env.close()"
   ]
  },
  {
   "cell_type": "code",
   "execution_count": 14,
   "metadata": {},
   "outputs": [],
   "source": [
    "G = {} # TPG:= {\"Teams\":, \"Edges\":}\n",
    "LE = {} # Learning environment twin: LE\n",
    "prng_master = []\n",
    "prng_worker = []\n",
    "JobQ = []\n",
    "ResultQ = []\n",
    "import sys\n",
    "from __future__ import division\n",
    "from IPython.display import clear_output\n",
    "import numpy as np\n",
    "import gym\n",
    "import matplotlib.pyplot as plt\n",
    "from IPython import display\n",
    "import random\n",
    "\n",
    "# how to render in Jupyter: \n",
    "# https://stackoverflow.com/questions/40195740/how-to-run-openai-gym-render-over-a-server\n",
    "# https://www.youtube.com/watch?v=O84KgRt6AJI\n",
    "def show_state(env, step=0, name='', info=''):\n",
    "    plt.figure(3)\n",
    "    plt.clf()\n",
    "    plt.imshow(env.render(mode='rgb_array'))\n",
    "    plt.title(\"%s | Step: %d %s\" % (name, step, info))\n",
    "    plt.axis('off')\n",
    "\n",
    "    display.clear_output(wait=True)\n",
    "    display.display(plt.gcf())\n",
    "    \n",
    "# To transform pixel matrix to a single vector.\n",
    "def getState(inState):\n",
    "    # each row is all 1 color\n",
    "    rgbRows = np.reshape(inState,(len(inState[0])*len(inState), 3)).T\n",
    "\n",
    "    # add each with appropriate shifting\n",
    "    # get RRRRRRRR GGGGGGGG BBBBBBBB\n",
    "    return np.add(np.left_shift(rgbRows[0], 16),\n",
    "        np.add(np.left_shift(rgbRows[1], 8), rgbRows[2]))"
   ]
  },
  {
   "cell_type": "code",
   "execution_count": 15,
   "metadata": {},
   "outputs": [
    {
     "name": "stderr",
     "output_type": "stream",
     "text": [
      "A.L.E: Arcade Learning Environment (version 0.7.5+db37282)\n",
      "[Powered by Stella]\n"
     ]
    }
   ],
   "source": [
    "env = gym.make('Assault-v0') # make the environment"
   ]
  },
  {
   "cell_type": "code",
   "execution_count": 16,
   "metadata": {},
   "outputs": [
    {
     "name": "stdout",
     "output_type": "stream",
     "text": [
      "Discrete(7)\n"
     ]
    }
   ],
   "source": [
    "print(env.action_space) # learn size of action space"
   ]
  },
  {
   "cell_type": "code",
   "execution_count": 17,
   "metadata": {},
   "outputs": [
    {
     "ename": "ModuleNotFoundError",
     "evalue": "No module named 'trainer'",
     "output_type": "error",
     "traceback": [
      "\u001b[0;31m---------------------------------------------------------------------------\u001b[0m",
      "\u001b[0;31mModuleNotFoundError\u001b[0m                       Traceback (most recent call last)",
      "\u001b[1;32mセル12 を /Users/matsuzawakazuki/Code/py_code/TPGAgent/src/sample.ipynb\u001b[0m in \u001b[0;36m<cell line: 2>\u001b[0;34m()\u001b[0m\n\u001b[1;32m      <a href='vscode-notebook-cell:/Users/matsuzawakazuki/Code/py_code/TPGAgent/src/sample.ipynb#ch0000011?line=0'>1</a>\u001b[0m \u001b[39m# import to do training\u001b[39;00m\n\u001b[0;32m----> <a href='vscode-notebook-cell:/Users/matsuzawakazuki/Code/py_code/TPGAgent/src/sample.ipynb#ch0000011?line=1'>2</a>\u001b[0m \u001b[39mfrom\u001b[39;00m \u001b[39mtrainer\u001b[39;00m \u001b[39mimport\u001b[39;00m Trainer1\n\u001b[1;32m      <a href='vscode-notebook-cell:/Users/matsuzawakazuki/Code/py_code/TPGAgent/src/sample.ipynb#ch0000011?line=2'>3</a>\u001b[0m \u001b[39m# from trainer import Trainer\u001b[39;00m\n\u001b[1;32m      <a href='vscode-notebook-cell:/Users/matsuzawakazuki/Code/py_code/TPGAgent/src/sample.ipynb#ch0000011?line=3'>4</a>\u001b[0m \u001b[39m# import to run an agent (always needed)\u001b[39;00m\n\u001b[1;32m      <a href='vscode-notebook-cell:/Users/matsuzawakazuki/Code/py_code/TPGAgent/src/sample.ipynb#ch0000011?line=4'>5</a>\u001b[0m \u001b[39mfrom\u001b[39;00m \u001b[39magent\u001b[39;00m \u001b[39mimport\u001b[39;00m Agent1\n",
      "\u001b[0;31mModuleNotFoundError\u001b[0m: No module named 'trainer'"
     ]
    }
   ],
   "source": [
    "# import to do training\n",
    "from trainer import Trainer1\n",
    "# from trainer import Trainer\n",
    "# import to run an agent (always needed)\n",
    "from agent import Agent1"
   ]
  },
  {
   "cell_type": "code",
   "execution_count": null,
   "metadata": {},
   "outputs": [],
   "source": [
    "# %matplotlib inline\n",
    "import time # for tracking time\n",
    "\n",
    "tStart = time.time()\n",
    "\n",
    "# first create an instance of the TpgTrainer\n",
    "# this creates the whole population and everything\n",
    "# teamPopSize should realistically be at-least 100\n",
    "trainer = Trainer(actions=env.action_space.n, teamPopSize=20) \n",
    "\n",
    "\n",
    "# 5 generations isn't much (not even close), but some improvements\n",
    "# should be seen.\n",
    "def learning(_trainer, _generation:int):\n",
    "    # curScores = [] # hold scores in a generation\n",
    "    summaryScores = [] # record score summaries for each gen (min, max, avg)\n",
    "\n",
    "    for gen in range(_generation): # generation loop\n",
    "        curScores = [] # new list per gen\n",
    "        \n",
    "        agents = trainer.getAgents()\n",
    "        \n",
    "        while True: # loop to go through agents\n",
    "            teamNum = len(agents)\n",
    "            agent = agents.pop()\n",
    "            if agent is None: break # no more agents, so proceed to next gen\n",
    "            \n",
    "            state = env.reset() # get initial state and prep environment\n",
    "            score = 0\n",
    "            for i in range(500): # run episodes that last 500 frames\n",
    "                # show_state(env, i, 'Assault', 'Gen #' + str(gen) + \n",
    "                #         ', Team #' + str(teamNum) +\n",
    "                #         ', Score: ' + str(score)) # render env\n",
    "                env.render()\n",
    "                # get action from agent\n",
    "                # must transform to at-least int-32 (for my getState to bitshift correctly)\n",
    "                act = agent.act(getState(np.array(state, dtype=np.int32))) \n",
    "\n",
    "                # feedback from env\n",
    "                state, reward, isDone, debug = env.step(act)\n",
    "                score += reward # accumulate reward in score\n",
    "\n",
    "                if isDone: break # end early if losing state\n",
    "\n",
    "            agent.reward(score) # must reward agent (if didn't already score)\n",
    "                \n",
    "            curScores.append(score) # store score\n",
    "            \n",
    "            if len(agents) == 0: break\n",
    "                \n",
    "        # at end of generation, make summary of scores\n",
    "        summaryScores.append((min(curScores), max(curScores),\n",
    "                        sum(curScores)/len(curScores))) # min, max, avg\n",
    "        trainer.evolve()\n",
    "\n",
    "    return summaryScores\n",
    "\n",
    "#clear_output(wait=True)\n",
    "# print('Time Taken (Hours): ' + str((time.time() - tStart)/3600))\n",
    "# print('Results:\\nMin, Max, Avg')\n",
    "# for result in summaryScores:\n",
    "#     print(result[0],result[1],result[2])"
   ]
  },
  {
   "cell_type": "code",
   "execution_count": null,
   "metadata": {},
   "outputs": [],
   "source": [
    "def evaluate_all_policies(Num_PE:int):\n",
    "    # Preper jobs\n",
    "    idx = 0\n",
    "    for root in G.Teams:\n",
    "        seed = prng_master.getNumber()\n",
    "        job = {idx, seed, root}\n",
    "        JobQ.append(job)\n",
    "        idx += 1\n",
    "    \n",
    "    # Start parallel threads\n",
    "    for i in range(1,Num_PE):\n",
    "        # Spawn thread: Worker(G, JobQ, ResultQ)\n",
    "        print(i)\n",
    "    \n",
    "    # Call Worker(G, JobQ, ResultQ)\n",
    "    # Join all threads\n",
    "    # Post-Propocess Results and Trace\n",
    "    # Sort ResultQ in result.jobId order\n",
    "    for result in ResultQ:\n",
    "        # Post-process result.trace // Archiving [10]\n",
    "        print(result)\n",
    "\n",
    "def worker():\n",
    "    # Poll for job\n",
    "    while JobQ.getNextJob():\n",
    "        # setup for policy evaluation\n",
    "        job = JobQ.getNextJob()\n",
    "        root = job.root\n",
    "        prng_master.reset(job.seed)\n",
    "        LE.reset(prng_master.getNumber())\n",
    "        # Evaluate policy fitness\n",
    "        trace = evaluate_all_policies(G, root, LE, prng_master)\n",
    "        result = {}\n",
    "        result.jobId = job.id\n",
    "        result.trace = trace\n",
    "        ResultQ.append(result)\n",
    "\n",
    "def execute_program(_p, _data):\n",
    "    for line in _p:\n",
    "        instruction = line.instruction\n",
    "        operands = {}\n",
    "        nbOperands = instruction.operandTypes.size()\n",
    "        for i in range(nbOperands):\n",
    "            _type = instruction.dataTypes[i]\n",
    "            _address = line.operandAdress[i]\n",
    "            if _data.canProvide(_type, _address):\n",
    "                operand = _data.getData(_type, _address)\n",
    "                operands.insert(operand)\n",
    "            else :\n",
    "                sys.exit()\n",
    "            \n",
    "            result = instruction.execute(operands)\n",
    "            _data.set(line.register, result)"
   ]
  },
  {
   "cell_type": "code",
   "execution_count": null,
   "metadata": {},
   "outputs": [],
   "source": [
    "import numpy as np"
   ]
  },
  {
   "cell_type": "code",
   "execution_count": null,
   "metadata": {},
   "outputs": [
    {
     "data": {
      "text/plain": [
       "array([1, 2, 3, 4, 5])"
      ]
     },
     "execution_count": 3,
     "metadata": {},
     "output_type": "execute_result"
    }
   ],
   "source": [
    "a = np.array([1,2,3,4,5])\n",
    "a"
   ]
  },
  {
   "cell_type": "code",
   "execution_count": null,
   "metadata": {},
   "outputs": [
    {
     "name": "stdout",
     "output_type": "stream",
     "text": [
      "[1 2 3 4 5]\n"
     ]
    }
   ],
   "source": [
    "print(a)"
   ]
  },
  {
   "cell_type": "code",
   "execution_count": 9,
   "metadata": {},
   "outputs": [
    {
     "name": "stdout",
     "output_type": "stream",
     "text": [
      "[184.0, 184.0, 184.0]\n"
     ]
    }
   ],
   "source": [
    "with open(f'../log/test/CartPole-v1/2022-09-22_06-58-42.log') as file:\n",
    "    # print(file.readlines()[0].replace('\\n','').split(', '))\n",
    "    line = file.readlines()[0]\n",
    "    # for line in lines:\n",
    "    results = line.replace('\\n','').split(', ')[3:]\n",
    "    print([float(re.split(':')[1]) for re in results])"
   ]
  },
  {
   "cell_type": "code",
   "execution_count": 1,
   "metadata": {},
   "outputs": [],
   "source": [
    "%matplotlib inline\n",
    "\n",
    "import numpy as np\n",
    "import matplotlib.pyplot as plt\n",
    "\n",
    "\n",
    "def load(_filename, _renge, _step=5):\n",
    "    l =[]\n",
    "\n",
    "    with open(f\"../log/{_filename}.log\", \"r\") as file:\n",
    "        last_line = file.readlines()[-1]\n",
    "        result = ','.join(last_line.split(',')[7:])\n",
    "        result = result[3:-3].split('), (')\n",
    "        for item in result:\n",
    "            _min, _max, _ave = item.split(', ')\n",
    "            l.append((float(_min), float(_max), float(_ave)))\n",
    "        \n",
    "    __min = []\n",
    "    __mi = 0.\n",
    "    __max = []\n",
    "    __ma = 0.\n",
    "    __ave = []\n",
    "    __av = 0.\n",
    "    for i, item in enumerate(l):\n",
    "        _min, _max, _ave = item\n",
    "        __mi+=_min\n",
    "        __ma+=_max\n",
    "        __av+=_ave\n",
    "        # if i==0: continue\n",
    "        if i%_step==_step-1:\n",
    "            __min.append(__mi/float(_step))\n",
    "            __mi=0.\n",
    "            __max.append(__ma/float(_step))\n",
    "            __ma=0.\n",
    "            __ave.append(__av/float(_step))\n",
    "            __av=0.\n",
    "        if i == _renge: break\n",
    "    mi = np.array(__min)\n",
    "    ma = np.array(__max)\n",
    "    av = np.array(__ave)\n",
    "    \n",
    "    return mi, ma, av\n",
    "dic = {}\n",
    "min_dic = {}"
   ]
  },
  {
   "cell_type": "code",
   "execution_count": 2,
   "metadata": {},
   "outputs": [
    {
     "name": "stdout",
     "output_type": "stream",
     "text": [
      "[]\n"
     ]
    }
   ],
   "source": [
    "import glob\n",
    "import os\n",
    "dir_name = 'log/Acrobot-v1'\n",
    "list_of_files = sorted( filter( os.path.isfile, glob.glob(dir_name + '/**/*', recursive=True) ) )\n",
    "print(list_of_files)"
   ]
  },
  {
   "cell_type": "code",
   "execution_count": 37,
   "metadata": {},
   "outputs": [
    {
     "data": {
      "text/plain": [
       "['../log/single/Boxing-v0',\n",
       " '../log/single/ALE',\n",
       " '../log/single/WizardOfWor-v4',\n",
       " '../log/single/Asterix-v4',\n",
       " '../log/single/RoadRunner-v4',\n",
       " '../log/single/Acrobot-v1',\n",
       " '../log/single/CartPole-v0',\n",
       " '../log/single/CubeCrash-v0']"
      ]
     },
     "execution_count": 37,
     "metadata": {},
     "output_type": "execute_result"
    }
   ],
   "source": [
    "glob.glob('../log/single/*')\n"
   ]
  },
  {
   "cell_type": "code",
   "execution_count": 1,
   "metadata": {},
   "outputs": [
    {
     "ename": "NameError",
     "evalue": "name 'load' is not defined",
     "output_type": "error",
     "traceback": [
      "\u001b[0;31m---------------------------------------------------------------------------\u001b[0m",
      "\u001b[0;31mNameError\u001b[0m                                 Traceback (most recent call last)",
      "\u001b[1;32mセル19 を /Users/matsuzawakazuki/Code/py_code/TPGAgent/src/sample.ipynb\u001b[0m in \u001b[0;36m<cell line: 3>\u001b[0;34m()\u001b[0m\n\u001b[1;32m      <a href='vscode-notebook-cell:/Users/matsuzawakazuki/Code/py_code/TPGAgent/src/sample.ipynb#ch0000018?line=0'>1</a>\u001b[0m title \u001b[39m=\u001b[39m \u001b[39m\"\u001b[39m\u001b[39mAsterix-v4\u001b[39m\u001b[39m\"\u001b[39m\n\u001b[1;32m      <a href='vscode-notebook-cell:/Users/matsuzawakazuki/Code/py_code/TPGAgent/src/sample.ipynb#ch0000018?line=1'>2</a>\u001b[0m renge \u001b[39m=\u001b[39m \u001b[39m1000\u001b[39m\n\u001b[0;32m----> <a href='vscode-notebook-cell:/Users/matsuzawakazuki/Code/py_code/TPGAgent/src/sample.ipynb#ch0000018?line=2'>3</a>\u001b[0m mi1, ma1, av1 \u001b[39m=\u001b[39m load(\u001b[39mf\u001b[39m\u001b[39m'\u001b[39m\u001b[39m{\u001b[39;00mtitle\u001b[39m}\u001b[39;00m\u001b[39m/2022-06-21_13-16-16\u001b[39m\u001b[39m'\u001b[39m, renge)\n\u001b[1;32m      <a href='vscode-notebook-cell:/Users/matsuzawakazuki/Code/py_code/TPGAgent/src/sample.ipynb#ch0000018?line=3'>4</a>\u001b[0m mi2, ma2, av2 \u001b[39m=\u001b[39m load(\u001b[39mf\u001b[39m\u001b[39m'\u001b[39m\u001b[39m{\u001b[39;00mtitle\u001b[39m}\u001b[39;00m\u001b[39m/2022-06-21_13-16-19\u001b[39m\u001b[39m'\u001b[39m, renge)\n\u001b[1;32m      <a href='vscode-notebook-cell:/Users/matsuzawakazuki/Code/py_code/TPGAgent/src/sample.ipynb#ch0000018?line=4'>5</a>\u001b[0m mi3, ma3, av3 \u001b[39m=\u001b[39m load(\u001b[39mf\u001b[39m\u001b[39m'\u001b[39m\u001b[39m{\u001b[39;00mtitle\u001b[39m}\u001b[39;00m\u001b[39m/2022-06-21_13-16-22\u001b[39m\u001b[39m'\u001b[39m, renge)\n",
      "\u001b[0;31mNameError\u001b[0m: name 'load' is not defined"
     ]
    }
   ],
   "source": [
    "title = \"Asterix-v4\"\n",
    "renge = 1000\n",
    "mi1, ma1, av1 = load(f'{title}/2022-06-21_13-16-16', renge)\n",
    "mi2, ma2, av2 = load(f'{title}/2022-06-21_13-16-19', renge)\n",
    "mi3, ma3, av3 = load(f'{title}/2022-06-21_13-16-22', renge)\n",
    "ge = np.linspace(5, renge, mi1.size)\n",
    "min_hi = (mi3+mi2+mi1)/3.\n",
    "max_hi = (ma3+ma2+ma1)/3.\n",
    "ave_hi = (av3+av2+av1)/3.\n",
    "plt.plot(ge, mi1, c='gray')\n",
    "plt.plot(ge, mi2, c='gray')\n",
    "plt.plot(ge, mi3, c='gray')\n",
    "plt.plot(ge, ma1, c='gray')\n",
    "plt.plot(ge, ma2, c='gray')\n",
    "plt.plot(ge, ma3, c='gray')\n",
    "plt.plot(ge, av1, c='gray')\n",
    "plt.plot(ge, av2, c='gray')\n",
    "plt.plot(ge, av3, c='gray')\n",
    "plt.plot(ge, min_hi, label='min')\n",
    "plt.plot(ge, max_hi, label='max')\n",
    "plt.plot(ge, ave_hi, label='ave')\n",
    "plt.title(title)\n",
    "plt.xlabel('generation')\n",
    "plt.ylabel('score')\n",
    "plt.legend()\n",
    "# plt.plot(ge, av)\n",
    "plt.show()\n",
    "# print(filename)"
   ]
  },
  {
   "cell_type": "code",
   "execution_count": null,
   "metadata": {},
   "outputs": [
    {
     "data": {
      "image/png": "[encoded data removed]",
      "text/plain": [
       "<Figure size 432x288 with 1 Axes>"
      ]
     },
     "metadata": {
      "needs_background": "light"
     },
     "output_type": "display_data"
    }
   ],
   "source": [
    "title = \"Asterix-v4\"\n",
    "renge = 1000\n",
    "mi1_na, ma1_na, av1_na = load(f'{title}/2022-06-20_20-03-44', renge)\n",
    "mi2_na, ma2_na, av2_na = load(f'{title}/2022-06-20_20-03-47', renge)\n",
    "mi3_na, ma3_na, av3_na = load(f'{title}/2022-06-20_20-03-50', renge)\n",
    "# ge = np.linspace(5, renge, mi1_na.size)\n",
    "min_na = (mi3_na+mi2_na+mi1_na)/3.\n",
    "max_na = (ma3_na+ma2_na+ma1_na)/3.\n",
    "ave_na = (av3_na+av2_na+av1_na)/3.\n",
    "# plt.plot(ge, mi1_na, c='gray')\n",
    "# plt.plot(ge, mi2_na, c='gray')\n",
    "# plt.plot(ge, mi3_na, c='gray')\n",
    "# plt.plot(ge, ma1_na, c='gray')\n",
    "# plt.plot(ge, ma2_na, c='gray')\n",
    "# plt.plot(ge, ma3_na, c='gray')\n",
    "# plt.plot(ge, av1_na, c='gray')\n",
    "# plt.plot(ge, av2_na, c='gray')\n",
    "# plt.plot(ge, av3_na, c='gray')\n",
    "# plt.plot(ge, min_na, label='min-na')\n",
    "# plt.plot(ge, max_na, label='max-na')\n",
    "plt.plot(ge, ave_na, label='ave-na')\n",
    "# plt.plot(ge, min_hi, label='min-hi')\n",
    "# plt.plot(ge, max_hi, label='max-hi')\n",
    "plt.plot(ge, ave_hi, label='ave-hi')\n",
    "plt.xlabel('generation')\n",
    "plt.ylabel('score')\n",
    "\n",
    "plt.title(title)\n",
    "plt.legend()\n",
    "# plt.plot(ge, av)\n",
    "# plt.savefig(f'../log/{title}/ave-na-hi.png')\n",
    "plt.show()\n"
   ]
  },
  {
   "cell_type": "code",
   "execution_count": 134,
   "metadata": {},
   "outputs": [],
   "source": [
    "%matplotlib inline\n",
    "\n",
    "import numpy as np\n",
    "import matplotlib.pyplot as plt\n",
    "\n",
    "\n",
    "def load1(_filename, _renge, _step=5):\n",
    "    l =[]\n",
    "\n",
    "    with open(f\"../log/{_filename}.log\", \"r\") as file:\n",
    "        last_line = file.readlines()[-1]\n",
    "        result = ','.join(last_line.split(',')[7:])\n",
    "        result = result[3:-2].split(', ')\n",
    "        print(result)\n",
    "        for item in result:\n",
    "            # _min, _max, _ave = item.split(', ')\n",
    "            # l.append((float(_min), float(_max), float(_ave)))\n",
    "            l.append(item)\n",
    "        \n",
    "    __min = []\n",
    "    __mi = 0.\n",
    "    # __max = []\n",
    "    # __ma = 0.\n",
    "    # __ave = []\n",
    "    # __av = 0.\n",
    "    for i, item in enumerate(l):\n",
    "        _min = float(item)\n",
    "        __mi+=_min\n",
    "        # __ma+=_max\n",
    "        # __av+=_ave\n",
    "        # if i==0: continue\n",
    "        if i%_step==_step-1:\n",
    "            __min.append(__mi/float(_step))\n",
    "            __mi=0.\n",
    "            # __max.append(__ma/float(_step))\n",
    "            # __ma=0.\n",
    "            # __ave.append(__av/float(_step))\n",
    "            # __av=0.\n",
    "        if i == _renge: break\n",
    "    mi = np.array(__min)\n",
    "    # av = np.array(__ave)\n",
    "    # ma = np.array(__max)\n",
    "    \n",
    "    return mi\n",
    "dic = {}\n",
    "min_dic = {}"
   ]
  },
  {
   "cell_type": "code",
   "execution_count": 135,
   "metadata": {},
   "outputs": [
    {
     "name": "stdout",
     "output_type": "stream",
     "text": [
      "['0.0', '10.0', '10.0', '10.0', '10.0', '10.0', '9.0', '9.0', '10.0', '10.0', '8.0', '10.0', '11.0', '9.0', '10.0', '9.0', '10.0', '9.0', '9.0', '10.0', '10.0', '24.0', '10.0', '10.0', '12.0', '10.0', '10.0', '13.0', '9.0', '9.0', '10.0', '9.0', '10.0', '9.0', '10.0', '9.0', '10.0', '10.0', '9.0', '10.0', '9.0', '8.0', '11.0', '8.0', '8.0', '10.0', '10.0', '9.0', '9.0', '10.0', '11.0', '10.0', '10.0', '9.0', '9.0', '9.0', '8.0', '10.0', '9.0', '9.0', '10.0', '9.0', '9.0', '10.0', '9.0', '9.0', '11.0', '10.0', '10.0', '10.0', '9.0', '10.0', '10.0', '10.0', '10.0', '9.0', '10.0', '9.0', '9.0', '9.0', '9.0', '10.0', '10.0', '10.0', '12.0', '9.0', '10.0', '9.0', '9.0', '9.0', '9.0', '9.0', '9.0', '13.0', '9.0', '9.0', '9.0', '9.0', '9.0', '9.0']\n"
     ]
    },
    {
     "data": {
      "image/png": "[encoded data removed]",
      "text/plain": [
       "<Figure size 432x288 with 1 Axes>"
      ]
     },
     "metadata": {
      "needs_background": "light"
     },
     "output_type": "display_data"
    }
   ],
   "source": [
    "title = \"CartPole-v0\"\n",
    "renge = 100\n",
    "\n",
    "mi1_na = load1(f'{title}/2022-07-27_14-10-11', renge, 5)\n",
    "# mi2_na, ma2_na, av2_na = load(f'{title}/2022-07-08_21-23-58', renge)\n",
    "ge = np.linspace(5, renge, mi1_na.size)\n",
    "\n",
    "plt.plot(ge, mi1_na, label='emulate')\n",
    "# plt.plot(ge, ma1_na, label='max')\n",
    "# plt.plot(ge, av1_na, label='ave')\n",
    "# plt.plot(ge, mi2_na, label='native-multi-min')\n",
    "# plt.plot(ge, ma2_na, label='native-multi-max')\n",
    "# plt.plot(ge, av2_na, label='native-multi-ave')\n",
    "\n",
    "plt.xlabel('generation')\n",
    "plt.ylabel('score')\n",
    "\n",
    "plt.title(title)\n",
    "plt.legend()\n",
    "\n",
    "plt.show()\n"
   ]
  },
  {
   "cell_type": "code",
   "execution_count": null,
   "metadata": {},
   "outputs": [],
   "source": [
    "title = \"CartPole-v0\"\n",
    "renge = 100\n",
    "\n",
    "mi1_em = load1(f'{title}/2022-07-27_14-10-11', renge, 5)\n",
    "# mi2_na, ma2_na, av2_na = load(f'{title}/2022-07-08_21-23-58', renge)\n",
    "ge = np.linspace(5, renge, mi1_na.size)\n",
    "\n",
    "plt.plot(ge, mi1_em, label='emulate')\n",
    "# plt.plot(ge, ma1_na, label='max')\n",
    "# plt.plot(ge, av1_na, label='ave')\n",
    "# plt.plot(ge, mi2_na, label='native-multi-min')\n",
    "# plt.plot(ge, ma2_na, label='native-multi-max')\n",
    "# plt.plot(ge, av2_na, label='native-multi-ave')\n",
    "\n",
    "plt.xlabel('generation')\n",
    "plt.ylabel('score')\n",
    "\n",
    "plt.title(title)\n",
    "plt.legend()\n",
    "\n",
    "plt.show()\n"
   ]
  },
  {
   "cell_type": "code",
   "execution_count": 158,
   "metadata": {},
   "outputs": [
    {
     "name": "stdout",
     "output_type": "stream",
     "text": [
      "['0.0', '9.0', '10.0', '10.0', '9.0', '10.0', '12.0', '10.0', '10.0', '9.0', '10.0', '9.0', '9.0', '9.0', '9.0', '9.0', '9.0', '9.0', '9.0', '9.0', '10.0', '8.0', '9.0', '10.0', '8.0', '9.0', '11.0', '10.0', '10.0', '10.0', '10.0', '8.0', '9.0', '10.0', '9.0', '9.0', '10.0', '9.0', '10.0', '8.0', '9.0', '9.0', '10.0', '10.0', '12.0', '9.0', '10.0', '9.0', '8.0', '9.0', '8.0', '10.0', '9.0', '9.0', '9.0', '11.0', '10.0', '11.0', '10.0', '8.0', '10.0', '9.0', '10.0', '10.0', '10.0', '10.0', '10.0', '10.0', '9.0', '8.0', '8.0', '10.0', '9.0', '8.0', '9.0', '9.0', '9.0', '10.0', '10.0', '9.0', '10.0', '8.0', '10.0', '10.0', '9.0', '8.0', '10.0', '9.0', '9.0', '10.0', '9.0', '9.0', '9.0', '10.0', '9.0', '10.0', '8.0', '10.0', '9.0', '10.0']\n"
     ]
    },
    {
     "data": {
      "image/png": "[encoded data removed]",
      "text/plain": [
       "<Figure size 432x288 with 1 Axes>"
      ]
     },
     "metadata": {
      "needs_background": "light"
     },
     "output_type": "display_data"
    }
   ],
   "source": [
    "title = \"CartPole-v0\"\n",
    "renge = 100\n",
    "\n",
    "mi4_em = load1(f'{title}/2022-07-27_19-27-04', renge, 5)\n",
    "# mi2_na, ma2_na, av2_na = load(f'{title}/2022-07-08_21-23-58', renge)\n",
    "ge = np.linspace(5, renge, mi4_em.size)\n",
    "\n",
    "plt.plot(ge, mi4_em, label='emulate')\n",
    "# plt.plot(ge, ma1_na, label='max')\n",
    "# plt.plot(ge, av1_na, label='ave')\n",
    "# plt.plot(ge, mi2_na, label='native-multi-min')\n",
    "# plt.plot(ge, ma2_na, label='native-multi-max')\n",
    "# plt.plot(ge, av2_na, label='native-multi-ave')\n",
    "\n",
    "plt.xlabel('generation')\n",
    "plt.ylabel('score')\n",
    "\n",
    "plt.title(title)\n",
    "plt.legend()\n",
    "\n",
    "plt.show()\n"
   ]
  },
  {
   "cell_type": "code",
   "execution_count": 155,
   "metadata": {},
   "outputs": [
    {
     "data": {
      "image/png": "[encoded data removed]",
      "text/plain": [
       "<Figure size 432x288 with 1 Axes>"
      ]
     },
     "metadata": {
      "needs_background": "light"
     },
     "output_type": "display_data"
    }
   ],
   "source": [
    "title = \"CartPole-v0\"\n",
    "renge = 100\n",
    "\n",
    "mi1_na, ma1_na, av1_na = load(f'{title}/2022-07-19_09-29-25', renge, 5)\n",
    "mi2_na, ma2_na, av2_na = load(f'{title}/2022-06-24_14-47-03', renge, 5)\n",
    "ge = np.linspace(5, renge, mi1_na.size)\n",
    "\n",
    "# plt.plot(ge, mi1_na, label='mim')\n",
    "plt.plot(ge, av1_na, label='native-ave')\n",
    "plt.plot(ge, av2_na, label='hierarchy-ave')\n",
    "# plt.plot(ge, mi1_na, label='emulate 1')\n",
    "plt.plot(ge, mi1_em, label='emulate 10')\n",
    "plt.plot(ge, mi3_em, label='emulate 30')\n",
    "# plt.plot(ge, ma1_na, label='emulate 10')\n",
    "# plt.plot(ge, ma2_na, label='emulate 10')\n",
    "\n",
    "\n",
    "# plt.plot(ge, av1_na, label='ave')\n",
    "# plt.plot(ge, mi2_na, label='native-multi-min')\n",
    "# plt.plot(ge, av2_na, label='native-multi-ave')\n",
    "\n",
    "plt.xlabel('generation')\n",
    "plt.ylabel('score')\n",
    "\n",
    "plt.title(title)\n",
    "plt.legend()\n",
    "\n",
    "plt.show()\n"
   ]
  },
  {
   "cell_type": "code",
   "execution_count": 62,
   "metadata": {},
   "outputs": [
    {
     "name": "stdout",
     "output_type": "stream",
     "text": [
      "-500.0 -63.8 -119.19800000000001\n",
      "55.0 5392.2 2698.254\n",
      "0.0 7.0 6.570297029702971\n",
      "0.0 1040.0 977.7425742574258\n",
      "50.0 560.0 309.3\n",
      "-37.8 14.2 -1.076\n",
      "8.0 100.0 85.86336633663366\n",
      "-1.2 1.004 -0.40442\n",
      "0.0 1040.0 471.2871287128713\n",
      "0.0 200.0 187.92079207920793\n"
     ]
    },
    {
     "data": {
      "text/plain": [
       "{'Acrobot-v1': -63.8,\n",
       " 'ALE/Centipede-v5': 5392.2,\n",
       " 'ALE/Freeway-v5': 7.0,\n",
       " 'ALE/Riverraid-v5': 1040.0,\n",
       " 'Asterix-v4': 560.0,\n",
       " 'Boxing-v0': 14.2,\n",
       " 'CartPole-v0': 100.0,\n",
       " 'CubeCrash-v0': 1.004,\n",
       " 'RoadRunner-v4': 1040.0,\n",
       " 'WizardOfWor-v4': 200.0}"
      ]
     },
     "execution_count": 62,
     "metadata": {},
     "output_type": "execute_result"
    }
   ],
   "source": [
    "tasks=[\n",
    "    \"Acrobot-v1\",\n",
    "    \"ALE/Centipede-v5\",\t\n",
    "    \"ALE/Freeway-v5\",\t\t\n",
    "    \"ALE/Riverraid-v5\",\t\t\n",
    "    \"Asterix-v4\",\t\t\n",
    "    \"Boxing-v0\",\t\t\n",
    "    \"CartPole-v0\",\t\t\n",
    "    \"CubeCrash-v0\",\t\t\n",
    "    \"RoadRunner-v4\",\n",
    "    \"WizardOfWor-v4\"\n",
    "]\n",
    "for task in tasks:\n",
    "    title = task\n",
    "    renge = 1000\n",
    "    total = [[],[],[]]\n",
    "    for filepath in sorted( filter( os.path.isfile,  glob.glob(f'../log/single/{title}/*', recursive=True) ) ):\n",
    "        filename = filepath.split('/')[-1]\n",
    "        filename = filename.split('.')[-2]\n",
    "        mi1_na, ma1_na, av1_na = load(f'single/{title}/{filename}', renge, 5)\n",
    "        total[0].append(min(mi1_na))\n",
    "        total[1].append(max(ma1_na))\n",
    "        total[2].append(max(av1_na))\n",
    "    # mi2_na, ma2_na, av2_na = load(f'single/{title}/2022-06-20_20-05-48', renge, 5)\n",
    "    # mi3_na, ma3_na, av3_na = load(f'single/{title}/2022-06-20_20-05-51', renge, 5)\n",
    "    ge = np.linspace(5, renge, mi1_na.size)\n",
    "    # total.append((max(mi1_na), max(mi2_na), max(mi3_na)))\n",
    "    # total.append((max(ma1_na), max(ma2_na), max(ma3_na)))\n",
    "    # total.append((max(av1_na), max(av2_na), max(av3_na)))\n",
    "    print(max(total[0]), max(total[1]), max(total[2]))\n",
    "    # print(total)\n",
    "    dic[title]=max(total[1])\n",
    "    min_dic[title]=min(total[0])\n",
    "dic"
   ]
  },
  {
   "cell_type": "code",
   "execution_count": 63,
   "metadata": {},
   "outputs": [
    {
     "data": {
      "text/plain": [
       "{'Acrobot-v1': -500.0,\n",
       " 'ALE/Centipede-v5': 55.0,\n",
       " 'ALE/Freeway-v5': 0.0,\n",
       " 'ALE/Riverraid-v5': 0.0,\n",
       " 'Asterix-v4': 30.0,\n",
       " 'Boxing-v0': -38.0,\n",
       " 'CartPole-v0': 8.0,\n",
       " 'CubeCrash-v0': -1.206,\n",
       " 'RoadRunner-v4': 0.0,\n",
       " 'WizardOfWor-v4': 0.0}"
      ]
     },
     "execution_count": 63,
     "metadata": {},
     "output_type": "execute_result"
    }
   ],
   "source": [
    "min_dic"
   ]
  },
  {
   "cell_type": "code",
   "execution_count": 64,
   "metadata": {},
   "outputs": [
    {
     "data": {
      "text/plain": [
       "{'Acrobot-v1': -63.8,\n",
       " 'ALE/Centipede-v5': 5392.2,\n",
       " 'ALE/Freeway-v5': 7.0,\n",
       " 'ALE/Riverraid-v5': 1040.0,\n",
       " 'Asterix-v4': 560.0,\n",
       " 'Boxing-v0': 14.2,\n",
       " 'CartPole-v0': 100.0,\n",
       " 'CubeCrash-v0': 1.004,\n",
       " 'RoadRunner-v4': 1040.0,\n",
       " 'WizardOfWor-v4': 200.0}"
      ]
     },
     "execution_count": 64,
     "metadata": {},
     "output_type": "execute_result"
    }
   ],
   "source": [
    "dic"
   ]
  },
  {
   "cell_type": "code",
   "execution_count": 113,
   "metadata": {},
   "outputs": [],
   "source": [
    "elite = {\n",
    "    'Acrobot-v1': -63.8,\n",
    "    'ALE/Centipede-v5': 5392.2,\n",
    "    'ALE/Freeway-v5': 7.0,\n",
    "    'ALE/Riverraid-v5': 1040.0,\n",
    "    'Asterix-v4': 560.0,\n",
    "    'Boxing-v0': 14.2,\n",
    "    'CartPole-v0': 200.0,\n",
    "    'CubeCrash-v0': 1.004,\n",
    "    'RoadRunner-v4': 1040.0,\n",
    "    'WizardOfWor-v4': 200.0\n",
    "}\n",
    "elite_ = {\n",
    "    'Acrobot-v1': -500.0,\n",
    "    'ALE/Centipede-v5': 282.8,\n",
    "    'ALE/Freeway-v5': 0.0,\n",
    "    'ALE/Riverraid-v5': 0.0,\n",
    "    'Asterix-v4': 130.0,\n",
    "    'Boxing-v0': -20.6,\n",
    "    'CartPole-v0': 8.4,\n",
    "    'CubeCrash-v0': -1.1320000000000001,\n",
    "    'RoadRunner-v4': 0.0,\n",
    "    'WizardOfWor-v4': 0.0\n",
    "}"
   ]
  },
  {
   "cell_type": "code",
   "execution_count": 114,
   "metadata": {},
   "outputs": [],
   "source": [
    "elite_hierarchy = {\n",
    "    'Acrobot-v1': -64.0, \n",
    "    'ALE/Centipede-v5': 8461.0, \n",
    "    'ALE/Freeway-v5': 23.0, \n",
    "    'ALE/Riverraid-v5': 1130.0, \n",
    "    'Asterix-v4': 650.0, \n",
    "    'Boxing-v0': -54.0, \n",
    "    'CartPole-v0': 200.0, \n",
    "    'CubeCrash-v0': 1.0,\n",
    "    'RoadRunner-v4': 900.0, \n",
    "    'WizardOfWor-v4': 300.0\n",
    "}\n",
    "elite_native = {\n",
    "    'Acrobot-v1': -72.0, \n",
    "    'ALE/Centipede-v5': 8461.0, \n",
    "    'ALE/Freeway-v5': 0.0, \n",
    "    'ALE/Riverraid-v5': 120.0, \n",
    "    'Asterix-v4': 600.0, \n",
    "    'Boxing-v0': -33.0, \n",
    "    'CartPole-v0': 200.0, \n",
    "    'CubeCrash-v0': 1.0, \n",
    "    'RoadRunner-v4': 0.0, \n",
    "    'WizardOfWor-v4': 500.0\n",
    "}\n",
    "elite_native_1 = {\n",
    "    'Acrobot-v1': -73.0, \n",
    "    'ALE/Centipede-v5': 8461.0, \n",
    "    'ALE/Freeway-v5': 0, \n",
    "    'ALE/Riverraid-v5': 0.0, \n",
    "    'Asterix-v4': 650.0, \n",
    "    'Boxing-v0': -25.0, \n",
    "    'CartPole-v0': 200.0, \n",
    "    'CubeCrash-v0': 1.0, \n",
    "    'RoadRunner-v4': 900.0, \n",
    "    'WizardOfWor-v4': 500.0\n",
    "}"
   ]
  },
  {
   "cell_type": "code",
   "execution_count": 115,
   "metadata": {},
   "outputs": [
    {
     "name": "stdout",
     "output_type": "stream",
     "text": [
      "Acrobot-v1 98.12012838147639\n",
      "ALE/Centipede-v5 160.06184679218697\n",
      "ALE/Freeway-v5 0.0\n",
      "ALE/Riverraid-v5 11.538461538461538\n",
      "Asterix-v4 109.30232558139534\n",
      "Boxing-v0 -35.63218390804598\n",
      "CartPole-v0 100.0\n",
      "CubeCrash-v0 99.812734082397\n",
      "RoadRunner-v4 0.0\n",
      "WizardOfWor-v4 250.0\n"
     ]
    }
   ],
   "source": [
    "native = []\n",
    "hierarchy=[]\n",
    "for key, val in elite.items():\n",
    "    # names.append(key)\n",
    "    score = (elite_native[key]-elite_[key])/(elite[key]-elite_[key])*100\n",
    "    print(key, score)\n",
    "    native.append(score)\n",
    "    score = (elite_hierarchy[key]-elite_[key])/(elite[key]-elite_[key])*100\n",
    "    hierarchy.append(score)\n",
    "    \n"
   ]
  },
  {
   "cell_type": "code",
   "execution_count": 116,
   "metadata": {},
   "outputs": [
    {
     "name": "stdout",
     "output_type": "stream",
     "text": [
      "79.32033124678712 115.85456876749258\n"
     ]
    }
   ],
   "source": [
    "native_mem = np.mean(native)\n",
    "hierarchy_mem = np.mean(hierarchy)\n",
    "print(native_mem, hierarchy_mem)"
   ]
  },
  {
   "cell_type": "code",
   "execution_count": 117,
   "metadata": {},
   "outputs": [
    {
     "data": {
      "image/png": "[encoded data removed]",
      "text/plain": [
       "<Figure size 432x288 with 1 Axes>"
      ]
     },
     "metadata": {
      "needs_background": "light"
     },
     "output_type": "display_data"
    }
   ],
   "source": [
    "\n",
    "plt.plot(tasks, native, label='native', marker='.', c=\"blue\")\n",
    "plt.plot(tasks, [native_mem]*len(tasks), label='native-ave', c=\"royalblue\")\n",
    "plt.plot(tasks, hierarchy, label='hierarchy', marker='.', c=\"red\")\n",
    "plt.plot(tasks, [hierarchy_mem]*len(tasks), label='hierarchy-ave', c=\"tomato\")\n",
    "plt.xticks(rotation=90)\n",
    "# plt.suptitle('Categorical Plotting')\n",
    "plt.xlabel('Tasks')\n",
    "plt.ylabel('Champion Single-Task %')\n",
    "\n",
    "plt.title('Multi-Task Scores')\n",
    "plt.legend()\n",
    "\n",
    "plt.show()"
   ]
  },
  {
   "cell_type": "code",
   "execution_count": 10,
   "metadata": {},
   "outputs": [
    {
     "data": {
      "image/png": "[encoded data removed]",
      "text/plain": [
       "<Figure size 432x288 with 1 Axes>"
      ]
     },
     "metadata": {
      "needs_background": "light"
     },
     "output_type": "display_data"
    }
   ],
   "source": [
    "plt.plot(ge, mi1_na, label='mim-1')\n",
    "plt.plot(ge, ma1_na, label='max-1')\n",
    "plt.plot(ge, av1_na, label='ave-1')\n",
    "plt.plot(ge, mi2_na, label='mim-2')\n",
    "plt.plot(ge, ma2_na, label='max-2')\n",
    "plt.plot(ge, av2_na, label='ave-2')\n",
    "plt.plot(ge, mi3_na, label='mim-3')\n",
    "plt.plot(ge, ma3_na, label='max-3')\n",
    "plt.plot(ge, av3_na, label='ave-3')\n",
    "# plt.plot(ge, mi2_na, label='native-multi-min')\n",
    "# plt.plot(ge, ma2_na, label='native-multi-max')\n",
    "# plt.plot(ge, av2_na, label='native-multi-ave')\n",
    "\n",
    "plt.xlabel('generation')\n",
    "plt.ylabel('score')\n",
    "\n",
    "plt.title(title)\n",
    "plt.legend()\n",
    "\n",
    "plt.show()"
   ]
  },
  {
   "cell_type": "code",
   "execution_count": 4,
   "metadata": {},
   "outputs": [
    {
     "name": "stdout",
     "output_type": "stream",
     "text": [
      "\u001b[33mWARN: gym.spaces.Box autodetected dtype as <class 'numpy.float32'>. Please provide explicit dtype.\u001b[0m\n"
     ]
    },
    {
     "data": {
      "text/plain": [
       "True"
      ]
     },
     "execution_count": 4,
     "metadata": {},
     "output_type": "execute_result"
    },
    {
     "ename": "",
     "evalue": "",
     "output_type": "error",
     "traceback": [
      "\u001b[1;31m現在のセルまたは前のセルでコードを実行中に、カーネルがクラッシュしました。エラーの原因を特定するには、セル内のコードを確認してください。詳細については、<a href='https://aka.ms/vscodeJupyterKernelCrash'>こちら</a> をクリックしてください。さらなる詳細については、Jupyter [log] (command:jupyter.viewOutput) を参照してください。"
     ]
    }
   ],
   "source": [
    "import gym\n",
    "env = gym.make('LunarLander-v2')\n",
    "env.reset()\n",
    "env.render()"
   ]
  },
  {
   "cell_type": "code",
   "execution_count": 3,
   "metadata": {},
   "outputs": [
    {
     "name": "stderr",
     "output_type": "stream",
     "text": [
      "/Users/matsuzawakazuki/miniforge3/envs/.tpg/lib/python3.10/site-packages/gym/envs/registration.py:14: PkgResourcesDeprecationWarning: Parameters to load are deprecated.  Call .resolve and .require separately.\n",
      "  result = entry_point.load(False)\n"
     ]
    },
    {
     "name": "stdout",
     "output_type": "stream",
     "text": [
      "\u001b[33mWARN: gym.spaces.Box autodetected dtype as <class 'numpy.uint8'>. Please provide explicit dtype.\u001b[0m\n",
      "==========\n",
      "action= [0 0 1 0 0 0]\n",
      "observation= [[[ 92 148 252]\n",
      "  [ 92 148 252]\n",
      "  [ 92 148 252]\n",
      "  ...\n",
      "  [ 92 148 252]\n",
      "  [ 92 148 252]\n",
      "  [ 92 148 252]]\n",
      "\n",
      " [[ 92 148 252]\n",
      "  [ 92 148 252]\n",
      "  [ 92 148 252]\n",
      "  ...\n",
      "  [ 92 148 252]\n",
      "  [ 92 148 252]\n",
      "  [ 92 148 252]]\n",
      "\n",
      " [[ 92 148 252]\n",
      "  [ 92 148 252]\n",
      "  [ 92 148 252]\n",
      "  ...\n",
      "  [ 92 148 252]\n",
      "  [ 92 148 252]\n",
      "  [ 92 148 252]]\n",
      "\n",
      " ...\n",
      "\n",
      " [[252 188 176]\n",
      "  [200  76  12]\n",
      "  [200  76  12]\n",
      "  ...\n",
      "  [  0   0   0]\n",
      "  [  0   0   0]\n",
      "  [200  76  12]]\n",
      "\n",
      " [[252 188 176]\n",
      "  [200  76  12]\n",
      "  [200  76  12]\n",
      "  ...\n",
      "  [252 188 176]\n",
      "  [252 188 176]\n",
      "  [  0   0   0]]\n",
      "\n",
      " [[252 188 176]\n",
      "  [200  76  12]\n",
      "  [200  76  12]\n",
      "  ...\n",
      "  [200  76  12]\n",
      "  [200  76  12]\n",
      "  [  0   0   0]]]\n",
      "reward= 40\n",
      "done= False\n",
      "info= {'level': 0, 'distance': 40, 'score': 0, 'coins': 0, 'time': 389, 'player_status': 0, 'life': 3}\n"
     ]
    },
    {
     "ename": "NotImplementedError",
     "evalue": "",
     "output_type": "error",
     "traceback": [
      "\u001b[0;31m---------------------------------------------------------------------------\u001b[0m",
      "\u001b[0;31mNotImplementedError\u001b[0m                       Traceback (most recent call last)",
      "\u001b[1;32mセル45 を /Users/matsuzawakazuki/Code/TPG/src/sample.ipynb\u001b[0m in \u001b[0;36m<cell line: 10>\u001b[0;34m()\u001b[0m\n\u001b[1;32m     <a href='vscode-notebook-cell:/Users/matsuzawakazuki/Code/TPG/src/sample.ipynb#X62sZmlsZQ%3D%3D?line=18'>19</a>\u001b[0m plt\u001b[39m.\u001b[39mfigure(\u001b[39m3\u001b[39m)\n\u001b[1;32m     <a href='vscode-notebook-cell:/Users/matsuzawakazuki/Code/TPG/src/sample.ipynb#X62sZmlsZQ%3D%3D?line=19'>20</a>\u001b[0m plt\u001b[39m.\u001b[39mclf()\n\u001b[0;32m---> <a href='vscode-notebook-cell:/Users/matsuzawakazuki/Code/TPG/src/sample.ipynb#X62sZmlsZQ%3D%3D?line=20'>21</a>\u001b[0m plt\u001b[39m.\u001b[39mimshow(env\u001b[39m.\u001b[39;49mrender(mode\u001b[39m=\u001b[39;49m\u001b[39m'\u001b[39;49m\u001b[39mrgb_array\u001b[39;49m\u001b[39m'\u001b[39;49m))\n\u001b[1;32m     <a href='vscode-notebook-cell:/Users/matsuzawakazuki/Code/TPG/src/sample.ipynb#X62sZmlsZQ%3D%3D?line=21'>22</a>\u001b[0m \u001b[39m# plt.title(\"%s | Step: %d %s\" % (name, step, info))\u001b[39;00m\n\u001b[1;32m     <a href='vscode-notebook-cell:/Users/matsuzawakazuki/Code/TPG/src/sample.ipynb#X62sZmlsZQ%3D%3D?line=22'>23</a>\u001b[0m plt\u001b[39m.\u001b[39maxis(\u001b[39m'\u001b[39m\u001b[39moff\u001b[39m\u001b[39m'\u001b[39m)\n",
      "File \u001b[0;32m~/miniforge3/envs/.tpg/lib/python3.10/site-packages/gym/core.py:284\u001b[0m, in \u001b[0;36mWrapper.render\u001b[0;34m(self, mode)\u001b[0m\n\u001b[1;32m    283\u001b[0m \u001b[39mdef\u001b[39;00m \u001b[39mrender\u001b[39m(\u001b[39mself\u001b[39m, mode\u001b[39m=\u001b[39m\u001b[39m'\u001b[39m\u001b[39mhuman\u001b[39m\u001b[39m'\u001b[39m):\n\u001b[0;32m--> 284\u001b[0m     \u001b[39mreturn\u001b[39;00m \u001b[39mself\u001b[39;49m\u001b[39m.\u001b[39;49menv\u001b[39m.\u001b[39;49mrender(mode)\n",
      "File \u001b[0;32m~/miniforge3/envs/.tpg/lib/python3.10/site-packages/gym/core.py:111\u001b[0m, in \u001b[0;36mEnv.render\u001b[0;34m(self, mode)\u001b[0m\n\u001b[1;32m     73\u001b[0m \u001b[39mdef\u001b[39;00m \u001b[39mrender\u001b[39m(\u001b[39mself\u001b[39m, mode\u001b[39m=\u001b[39m\u001b[39m'\u001b[39m\u001b[39mhuman\u001b[39m\u001b[39m'\u001b[39m):\n\u001b[1;32m     74\u001b[0m     \u001b[39m\"\"\"Renders the environment.\u001b[39;00m\n\u001b[1;32m     75\u001b[0m \n\u001b[1;32m     76\u001b[0m \u001b[39m    The set of supported modes varies per environment. (And some\u001b[39;00m\n\u001b[0;32m   (...)\u001b[0m\n\u001b[1;32m    109\u001b[0m \u001b[39m                super(MyEnv, self).render(mode=mode) # just raise an exception\u001b[39;00m\n\u001b[1;32m    110\u001b[0m \u001b[39m    \"\"\"\u001b[39;00m\n\u001b[0;32m--> 111\u001b[0m     \u001b[39mraise\u001b[39;00m \u001b[39mNotImplementedError\u001b[39;00m\n",
      "\u001b[0;31mNotImplementedError\u001b[0m: "
     ]
    },
    {
     "data": {
      "text/plain": [
       "<Figure size 432x288 with 0 Axes>"
      ]
     },
     "metadata": {},
     "output_type": "display_data"
    }
   ],
   "source": [
    "import gym\n",
    "import ppaquette_gym_super_mario\n",
    "import numpy as np\n",
    "import matplotlib.pyplot as plt\n",
    "\n",
    "env = gym.make('ppaquette/SuperMarioBros-1-1-v0')\n",
    "\n",
    "observation = env.reset()                             # 環境の初期化\n",
    "\n",
    "for _ in range(1000):\n",
    "  action = np.random.randint(0, 1+1, 6)               # 行動の決定\n",
    "  observation, reward, done, info = env.step(action)  # 行動による次の状態の決定\n",
    "  print(\"=\" * 10)\n",
    "  print(\"action=\",action)\n",
    "  print(\"observation=\",observation)\n",
    "  print(\"reward=\",reward)\n",
    "  print(\"done=\",done)\n",
    "  print(\"info=\",info)\n",
    "  plt.figure(3)\n",
    "  plt.clf()\n",
    "  plt.imshow(env.render(mode='rgb_array'))\n",
    "  # plt.title(\"%s | Step: %d %s\" % (name, step, info))\n",
    "  plt.axis('off')   "
   ]
  },
  {
   "cell_type": "code",
   "execution_count": 2,
   "metadata": {},
   "outputs": [],
   "source": [
    "from _tpg.tpg import Automata1\n",
    "automata = Automata1()"
   ]
  },
  {
   "cell_type": "code",
   "execution_count": 3,
   "metadata": {},
   "outputs": [
    {
     "ename": "AttributeError",
     "evalue": "'Automata1' object has no attribute 'eval'",
     "output_type": "error",
     "traceback": [
      "\u001b[1;31m---------------------------------------------------------------------------\u001b[0m",
      "\u001b[1;31mAttributeError\u001b[0m                            Traceback (most recent call last)",
      "\u001b[1;32mセル79 を c:\\Users\\af19109\\Desktop\\TPG\\src\\sample.ipynb\u001b[0m in \u001b[0;36m<cell line: 1>\u001b[1;34m()\u001b[0m\n\u001b[1;32m----> <a href='vscode-notebook-cell:/c%3A/Users/af19109/Desktop/TPG/src/sample.ipynb#Y141sZmlsZQ%3D%3D?line=0'>1</a>\u001b[0m automata\u001b[39m.\u001b[39;49meval()\n",
      "\u001b[1;31mAttributeError\u001b[0m: 'Automata1' object has no attribute 'eval'"
     ]
    }
   ],
   "source": [
    "automata.eval()"
   ]
  },
  {
   "cell_type": "code",
   "execution_count": null,
   "metadata": {},
   "outputs": [],
   "source": []
  }
 ],
 "metadata": {
  "kernelspec": {
   "display_name": "Python 3 (ipykernel)",
   "language": "python",
   "name": "python3"
  },
  "language_info": {
   "codemirror_mode": {
    "name": "ipython",
    "version": 3
   },
   "file_extension": ".py",
   "mimetype": "text/x-python",
   "name": "python",
   "nbconvert_exporter": "python",
   "pygments_lexer": "ipython3",
   "version": "3.10.4"
  },
  "vscode": {
   "interpreter": {
    "hash": "f0b70de59f0c76375dd083d289dabd6fda51a40bd7c4cd5f7e42ddbd15b707d9"
   }
  }
 },
 "nbformat": 4,
 "nbformat_minor": 2
}
