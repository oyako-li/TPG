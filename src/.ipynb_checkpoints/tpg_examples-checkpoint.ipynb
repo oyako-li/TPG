{
 "cells": [
  {
   "cell_type": "markdown",
   "metadata": {},
   "source": [
    "# TPG Examples\n",
    "This document shows how to use the PyTPG API. We make use of OpenAI Gym to run examples, and we assume you already have PyTPG installed, see the readme for installation instructions for PyTPG."
   ]
  },
  {
   "cell_type": "markdown",
   "metadata": {},
   "source": [
    "## General Setup"
   ]
  },
  {
   "cell_type": "code",
   "execution_count": 3,
   "metadata": {},
   "outputs": [],
   "source": [
    "from __future__ import division\n",
    "from IPython.display import clear_output\n",
    "import numpy as np\n",
    "import gym\n",
    "import matplotlib.pyplot as plt\n",
    "from IPython import display\n",
    "import random\n",
    "import time\n",
    "# import to do training\n",
    "import sys\n",
    "sys.path.insert(0, '..')\n",
    "from _tpg.trainer import Trainer\n",
    "\n",
    "# import to run an agent (always needed)\n",
    "# from agent import Agent\n",
    "# env = gym.make('Assault-v0') # make the environment\n"
   ]
  },
  {
   "cell_type": "code",
   "execution_count": 4,
   "metadata": {},
   "outputs": [],
   "source": [
    "# how to render in Jupyter: \n",
    "# https://stackoverflow.com/questions/40195740/how-to-run-openai-gym-render-over-a-server\n",
    "# https://www.youtube.com/watch?v=O84KgRt6AJI\n",
    "def show_state(env, step=0, name='', info=''):\n",
    "    plt.figure(3)\n",
    "    plt.clf()\n",
    "    plt.imshow(env.render(mode='rgb_array'))\n",
    "    plt.title(\"%s | Step: %d %s\" % (name, step, info))\n",
    "    plt.axis('off')\n",
    "\n",
    "    display.clear_output(wait=True)\n",
    "    display.display(plt.gcf())\n",
    "    \n",
    "# To transform pixel matrix to a single vector.\n",
    "def getState(inState):\n",
    "    # each row is all 1 color\n",
    "    rgbRows = np.reshape(inState,(len(inState[0])*len(inState), 3)).T\n",
    "\n",
    "    # add each with appropriate shifting\n",
    "    # get RRRRRRRR GGGGGGGG BBBBBBBB\n",
    "    return np.add(np.left_shift(rgbRows[0], 16), np.add(np.left_shift(rgbRows[1], 8), rgbRows[2]))\n"
   ]
  },
  {
   "cell_type": "code",
   "execution_count": 14,
   "metadata": {
    "scrolled": true
   },
   "outputs": [],
   "source": [
    "env = gym.make('CartPole-v0') # make the environment"
   ]
  },
  {
   "cell_type": "code",
   "execution_count": 15,
   "metadata": {},
   "outputs": [
    {
     "name": "stdout",
     "output_type": "stream",
     "text": [
      "2\n"
     ]
    }
   ],
   "source": [
    "print(env.action_space.n) # learn size of action space"
   ]
  },
  {
   "cell_type": "markdown",
   "metadata": {},
   "source": [
    "## Example: Basic Generational Selection (with graphics)"
   ]
  },
  {
   "cell_type": "code",
   "execution_count": 5,
   "metadata": {
    "scrolled": false
   },
   "outputs": [
    {
     "name": "stderr",
     "output_type": "stream",
     "text": [
      "A.L.E: Arcade Learning Environment (version 0.7.5+db37282)\n",
      "[Powered by Stella]\n"
     ]
    },
    {
     "ename": "NameError",
     "evalue": "name 'time' is not defined",
     "output_type": "error",
     "traceback": [
      "\u001b[0;31m---------------------------------------------------------------------------\u001b[0m",
      "\u001b[0;31mNameError\u001b[0m                                 Traceback (most recent call last)",
      "Input \u001b[0;32mIn [5]\u001b[0m, in \u001b[0;36m<cell line: 7>\u001b[0;34m()\u001b[0m\n\u001b[1;32m      1\u001b[0m \u001b[38;5;66;03m# from src.get_gym_envs import get_space_list, show_state, get_state\u001b[39;00m\n\u001b[1;32m      4\u001b[0m env \u001b[38;5;241m=\u001b[39m gym\u001b[38;5;241m.\u001b[39mmake(\u001b[38;5;124m'\u001b[39m\u001b[38;5;124mCentipede-v0\u001b[39m\u001b[38;5;124m'\u001b[39m) \u001b[38;5;66;03m# make the environment\u001b[39;00m\n\u001b[0;32m----> 7\u001b[0m tStart \u001b[38;5;241m=\u001b[39m \u001b[43mtime\u001b[49m\u001b[38;5;241m.\u001b[39mtime()\n\u001b[1;32m      9\u001b[0m \u001b[38;5;66;03m# first create an instance of the TpgTrainer\u001b[39;00m\n\u001b[1;32m     10\u001b[0m \u001b[38;5;66;03m# this creates the whole population and everything\u001b[39;00m\n\u001b[1;32m     11\u001b[0m \u001b[38;5;66;03m# teamPopSize should realistically be at-least 100\u001b[39;00m\n\u001b[1;32m     12\u001b[0m trainer \u001b[38;5;241m=\u001b[39m Trainer(actions\u001b[38;5;241m=\u001b[39menv\u001b[38;5;241m.\u001b[39maction_space\u001b[38;5;241m.\u001b[39mn, teamPopSize\u001b[38;5;241m=\u001b[39m\u001b[38;5;241m20\u001b[39m) \n",
      "\u001b[0;31mNameError\u001b[0m: name 'time' is not defined"
     ]
    }
   ],
   "source": [
    "# from src.get_gym_envs import get_space_list, show_state, get_state\n",
    "\n",
    "\n",
    "env = gym.make('Centipede-v0') # make the environment\n",
    "\n",
    "\n",
    "tStart = time.time()\n",
    "\n",
    "# first create an instance of the TpgTrainer\n",
    "# this creates the whole population and everything\n",
    "# teamPopSize should realistically be at-least 100\n",
    "trainer = Trainer(actions=env.action_space.n, teamPopSize=20) \n",
    "\n",
    "curScores = [] # hold scores in a generation\n",
    "summaryScores = [] # record score summaries for each gen (min, max, avg)\n",
    "\n",
    "# 5 generations isn't much (not even close), but some improvements\n",
    "# should be seen.\n",
    "for gen in range(5): # generation loop\n",
    "    curScores = [] # new list per gen\n",
    "    \n",
    "    agents = trainer.getAgents()\n",
    "    \n",
    "    while True: # loop to go through agents\n",
    "        teamNum = len(agents)\n",
    "        agent = agents.pop()\n",
    "        if agent is None:\n",
    "            break # no more agents, so proceed to next gen\n",
    "        \n",
    "        state = env.reset() # get initial state and prep environment\n",
    "        score = 0\n",
    "        for i in range(500): # run episodes that last 500 frames\n",
    "            show_state(env, i, 'Assault', 'Gen #' + str(gen) + \n",
    "                       ', Team #' + str(teamNum) +\n",
    "                       ', Score: ' + str(score)) # render env\n",
    "            \n",
    "            # get action from agent\n",
    "            # must transform to at-least int-32 (for my getState to bitshift correctly)\n",
    "            act = agent.act(getState(np.array(state, dtype=np.int32))) # -> int\n",
    "\n",
    "            # feedback from env\n",
    "            state, reward, isDone, debug = env.step(act)\n",
    "            score += reward # accumulate reward in score\n",
    "            if isDone:\n",
    "                break # end early if losing state\n",
    "\n",
    "        agent.reward(score) # must reward agent (if didn't already score)\n",
    "            \n",
    "        curScores.append(score) # store score\n",
    "        \n",
    "        if len(agents) == 0:\n",
    "            break\n",
    "            \n",
    "    # at end of generation, make summary of scores\n",
    "    summaryScores.append((min(curScores), max(curScores),\n",
    "                    sum(curScores)/len(curScores))) # min, max, avg\n",
    "    trainer.evolve()\n",
    "    \n",
    "#clear_output(wait=True)\n",
    "print('Time Taken (Hours): ' + str((time.time() - tStart)/3600))\n",
    "print('Results:\\nMin, Max, Avg')\n",
    "for result in summaryScores:\n",
    "    print(result[0],result[1],result[2])"
   ]
  },
  {
   "cell_type": "code",
   "execution_count": 16,
   "metadata": {},
   "outputs": [
    {
     "data": {
      "image/png": "[encoded data removed]",
      "text/plain": [
       "<Figure size 432x288 with 1 Axes>"
      ]
     },
     "metadata": {},
     "output_type": "display_data"
    },
    {
     "ename": "TypeError",
     "evalue": "object of type 'numpy.int32' has no len()",
     "output_type": "error",
     "traceback": [
      "\u001b[0;31m---------------------------------------------------------------------------\u001b[0m",
      "\u001b[0;31mTypeError\u001b[0m                                 Traceback (most recent call last)",
      "\u001b[1;32m/Users/matsuzawakazuki/Code/py_code/TPGAgent/tpg/tpg_examples.ipynb Cell 8'\u001b[0m in \u001b[0;36m<cell line: 56>\u001b[0;34m()\u001b[0m\n\u001b[1;32m     <a href='vscode-notebook-cell:/Users/matsuzawakazuki/Code/py_code/TPGAgent/tpg/tpg_examples.ipynb#ch0000007?line=52'>53</a>\u001b[0m         trainer\u001b[39m.\u001b[39mevolve()\n\u001b[1;32m     <a href='vscode-notebook-cell:/Users/matsuzawakazuki/Code/py_code/TPGAgent/tpg/tpg_examples.ipynb#ch0000007?line=54'>55</a>\u001b[0m     \u001b[39mreturn\u001b[39;00m summaryScores\n\u001b[0;32m---> <a href='vscode-notebook-cell:/Users/matsuzawakazuki/Code/py_code/TPGAgent/tpg/tpg_examples.ipynb#ch0000007?line=55'>56</a>\u001b[0m result \u001b[39m=\u001b[39m learning(trainer)\n",
      "\u001b[1;32m/Users/matsuzawakazuki/Code/py_code/TPGAgent/tpg/tpg_examples.ipynb Cell 8'\u001b[0m in \u001b[0;36mlearning\u001b[0;34m(_trainer, _generation, _1_episode_frames)\u001b[0m\n\u001b[1;32m     <a href='vscode-notebook-cell:/Users/matsuzawakazuki/Code/py_code/TPGAgent/tpg/tpg_examples.ipynb#ch0000007?line=31'>32</a>\u001b[0m show_state(env, i, \u001b[39m'\u001b[39m\u001b[39mAssault\u001b[39m\u001b[39m'\u001b[39m, \u001b[39m'\u001b[39m\u001b[39mGen #\u001b[39m\u001b[39m'\u001b[39m \u001b[39m+\u001b[39m \u001b[39mstr\u001b[39m(gen) \u001b[39m+\u001b[39m \n\u001b[1;32m     <a href='vscode-notebook-cell:/Users/matsuzawakazuki/Code/py_code/TPGAgent/tpg/tpg_examples.ipynb#ch0000007?line=32'>33</a>\u001b[0m        \u001b[39m'\u001b[39m\u001b[39m, Team #\u001b[39m\u001b[39m'\u001b[39m \u001b[39m+\u001b[39m \u001b[39mstr\u001b[39m(teamNum) \u001b[39m+\u001b[39m\n\u001b[1;32m     <a href='vscode-notebook-cell:/Users/matsuzawakazuki/Code/py_code/TPGAgent/tpg/tpg_examples.ipynb#ch0000007?line=33'>34</a>\u001b[0m        \u001b[39m'\u001b[39m\u001b[39m, Score: \u001b[39m\u001b[39m'\u001b[39m \u001b[39m+\u001b[39m \u001b[39mstr\u001b[39m(score)\u001b[39m+\u001b[39m\n\u001b[1;32m     <a href='vscode-notebook-cell:/Users/matsuzawakazuki/Code/py_code/TPGAgent/tpg/tpg_examples.ipynb#ch0000007?line=34'>35</a>\u001b[0m        \u001b[39m'\u001b[39m\u001b[39m, Agents: \u001b[39m\u001b[39m'\u001b[39m\u001b[39m+\u001b[39m\u001b[39mstr\u001b[39m(teamNum\u001b[39m-\u001b[39mj)) \u001b[39m# render env\u001b[39;00m\n\u001b[1;32m     <a href='vscode-notebook-cell:/Users/matsuzawakazuki/Code/py_code/TPGAgent/tpg/tpg_examples.ipynb#ch0000007?line=35'>36</a>\u001b[0m \u001b[39m# get action from agent\u001b[39;00m\n\u001b[1;32m     <a href='vscode-notebook-cell:/Users/matsuzawakazuki/Code/py_code/TPGAgent/tpg/tpg_examples.ipynb#ch0000007?line=36'>37</a>\u001b[0m \u001b[39m# must transform to at-least int-32 (for my getState to bitshift correctly)\u001b[39;00m\n\u001b[0;32m---> <a href='vscode-notebook-cell:/Users/matsuzawakazuki/Code/py_code/TPGAgent/tpg/tpg_examples.ipynb#ch0000007?line=37'>38</a>\u001b[0m act \u001b[39m=\u001b[39m agent\u001b[39m.\u001b[39mact(getState(np\u001b[39m.\u001b[39;49marray(state, dtype\u001b[39m=\u001b[39;49mnp\u001b[39m.\u001b[39;49mint32)))\n\u001b[1;32m     <a href='vscode-notebook-cell:/Users/matsuzawakazuki/Code/py_code/TPGAgent/tpg/tpg_examples.ipynb#ch0000007?line=40'>41</a>\u001b[0m \u001b[39m# feedback from env\u001b[39;00m\n\u001b[1;32m     <a href='vscode-notebook-cell:/Users/matsuzawakazuki/Code/py_code/TPGAgent/tpg/tpg_examples.ipynb#ch0000007?line=41'>42</a>\u001b[0m state, reward, isDone, debug \u001b[39m=\u001b[39m env\u001b[39m.\u001b[39mstep(act)\n",
      "\u001b[1;32m/Users/matsuzawakazuki/Code/py_code/TPGAgent/tpg/tpg_examples.ipynb Cell 3'\u001b[0m in \u001b[0;36mgetState\u001b[0;34m(inState)\u001b[0m\n\u001b[1;32m     <a href='vscode-notebook-cell:/Users/matsuzawakazuki/Code/py_code/TPGAgent/tpg/tpg_examples.ipynb#ch0000002?line=26'>27</a>\u001b[0m \u001b[39mdef\u001b[39;00m \u001b[39mgetState\u001b[39m(inState):\n\u001b[1;32m     <a href='vscode-notebook-cell:/Users/matsuzawakazuki/Code/py_code/TPGAgent/tpg/tpg_examples.ipynb#ch0000002?line=27'>28</a>\u001b[0m     \u001b[39m# each row is all 1 color\u001b[39;00m\n\u001b[0;32m---> <a href='vscode-notebook-cell:/Users/matsuzawakazuki/Code/py_code/TPGAgent/tpg/tpg_examples.ipynb#ch0000002?line=28'>29</a>\u001b[0m     rgbRows \u001b[39m=\u001b[39m np\u001b[39m.\u001b[39mreshape(inState,(\u001b[39mlen\u001b[39;49m(inState[\u001b[39m0\u001b[39;49m])\u001b[39m*\u001b[39m\u001b[39mlen\u001b[39m(inState), \u001b[39m3\u001b[39m))\u001b[39m.\u001b[39mT\n\u001b[1;32m     <a href='vscode-notebook-cell:/Users/matsuzawakazuki/Code/py_code/TPGAgent/tpg/tpg_examples.ipynb#ch0000002?line=30'>31</a>\u001b[0m     \u001b[39m# add each with appropriate shifting\u001b[39;00m\n\u001b[1;32m     <a href='vscode-notebook-cell:/Users/matsuzawakazuki/Code/py_code/TPGAgent/tpg/tpg_examples.ipynb#ch0000002?line=31'>32</a>\u001b[0m     \u001b[39m# get RRRRRRRR GGGGGGGG BBBBBBBB\u001b[39;00m\n\u001b[1;32m     <a href='vscode-notebook-cell:/Users/matsuzawakazuki/Code/py_code/TPGAgent/tpg/tpg_examples.ipynb#ch0000002?line=32'>33</a>\u001b[0m     \u001b[39mreturn\u001b[39;00m np\u001b[39m.\u001b[39madd(np\u001b[39m.\u001b[39mleft_shift(rgbRows[\u001b[39m0\u001b[39m], \u001b[39m16\u001b[39m), np\u001b[39m.\u001b[39madd(np\u001b[39m.\u001b[39mleft_shift(rgbRows[\u001b[39m1\u001b[39m], \u001b[39m8\u001b[39m), rgbRows[\u001b[39m2\u001b[39m]))\n",
      "\u001b[0;31mTypeError\u001b[0m: object of type 'numpy.int32' has no len()"
     ]
    },
    {
     "data": {
      "image/png": "[encoded data removed]",
      "text/plain": [
       "<Figure size 432x288 with 1 Axes>"
      ]
     },
     "metadata": {
      "needs_background": "light"
     },
     "output_type": "display_data"
    }
   ],
   "source": [
    "%matplotlib inline\n",
    "import time # for tracking time\n",
    "# import tqdm\n",
    "\n",
    "tStart = time.time()\n",
    "\n",
    "# first create an instance of the TpgTrainer\n",
    "# this creates the whole population and everything\n",
    "# teamPopSize should realistically be at-least 100\n",
    "trainer = Trainer(actions=env.action_space.n, teamPopSize=20) \n",
    "\n",
    "\n",
    "# 5 generations isn't much (not even close), but some improvements\n",
    "# should be seen.\n",
    "def learning(_trainer:Trainer, _generation:int=5, _1_episode_frames:int=500)->list:\n",
    "    # curScores = [] # hold scores in a generation\n",
    "    summaryScores = [] # record score summaries for each gen (min, max, avg)\n",
    "\n",
    "    for gen in range(_generation): # generation loop\n",
    "        curScores = [] # new list per gen\n",
    "        \n",
    "        agents = trainer.getAgents()\n",
    "        \n",
    "        teamNum = len(agents)\n",
    "        j=0\n",
    "        for agent in agents:\n",
    "            j+=1\n",
    "            \n",
    "            state = env.reset() # get initial state and prep environment\n",
    "            score = 0\n",
    "            for i in range(_1_episode_frames): # run episodes that last 500 frames\n",
    "                show_state(env, i, 'Assault', 'Gen #' + str(gen) + \n",
    "                       ', Team #' + str(teamNum) +\n",
    "                       ', Score: ' + str(score)+\n",
    "                       ', Agents: '+str(teamNum-j)) # render env\n",
    "                # get action from agent\n",
    "                # must transform to at-least int-32 (for my getState to bitshift correctly)\n",
    "                act = agent.act(getState(np.array(state, dtype=np.int32)))\n",
    "                \n",
    "\n",
    "                # feedback from env\n",
    "                state, reward, isDone, debug = env.step(act)\n",
    "                score += reward # accumulate reward in score\n",
    "\n",
    "                if isDone: break # end early if losing state\n",
    "\n",
    "            agent.reward(score) # must reward agent (if didn't already score)\n",
    "                \n",
    "            curScores.append(score) # store score\n",
    "            \n",
    "        # at end of generation, make summary of scores\n",
    "        summaryScores.append((min(curScores), max(curScores), sum(curScores)/len(curScores))) # min, max, avg\n",
    "        trainer.evolve()\n",
    "\n",
    "    return summaryScores\n",
    "result = learning(trainer)\n",
    "#clear_output(wait=True)\n",
    "# print('Time Taken (Hours): ' + str((time.time() - tStart)/3600))\n",
    "# print('Results:\\nMin, Max, Avg')\n",
    "# for result in summaryScores:\n",
    "#     print(result[0],result[1],result[2])\n",
    "# for i in result:\n",
    "#     print(i[0],i[1],i[2])"
   ]
  },
  {
   "cell_type": "markdown",
   "metadata": {},
   "source": [
    "## Example: Generational Selection with Multiprocessing (no graphics)"
   ]
  },
  {
   "cell_type": "markdown",
   "metadata": {},
   "source": [
    "This example is just to show a different way to run the API, a far superior way. It uses a different method to get the agents, doesn't use graphics (but can), and uses multiprocessing."
   ]
  },
  {
   "cell_type": "code",
   "execution_count": 18,
   "metadata": {},
   "outputs": [],
   "source": [
    "\"\"\"\n",
    "Run each agent in this method for parallization.\n",
    "Args:\n",
    "    args: (TpgAgent, envName, scoreList, numEpisodes, numFrames)\n",
    "\"\"\"\n",
    "\n",
    "def runAgent(args:list[Agent, str, list, int, int]):\n",
    "    agent = args[0]\n",
    "    envName = args[1]\n",
    "    scoreList = args[2]\n",
    "    numEpisodes = args[3] # number of times to repeat game\n",
    "    numFrames = args[4] \n",
    "    \n",
    "    # skip if task already done by agent\n",
    "    if agent.taskDone(envName):\n",
    "        print('Agent #' + str(agent.agentNum) + ' can skip.')\n",
    "        scoreList.append((agent.team.id, agent.team.outcomes))\n",
    "        return\n",
    "    \n",
    "    env = gym.make(envName)\n",
    "    valActs = range(env.action_space.n) # valid actions, some envs are less\n",
    "    \n",
    "    scoreTotal = 0 # score accumulates over all episodes\n",
    "    for ep in range(numEpisodes): # episode loop\n",
    "        state = env.reset()\n",
    "        scoreEp = 0\n",
    "        numRandFrames = 0\n",
    "        if numEpisodes > 1:\n",
    "            numRandFrames = random.randint(0,30)\n",
    "        for i in range(numFrames): # frame loop\n",
    "            if i < numRandFrames:\n",
    "                env.step(env.action_space.sample())\n",
    "                continue\n",
    "\n",
    "            act = agent.act(getState(np.array(state, dtype=np.int32)))\n",
    "\n",
    "            # feedback from env\n",
    "            state, reward, isDone, debug = env.step(act)\n",
    "            scoreEp += reward # accumulate reward in score\n",
    "            if isDone:\n",
    "                break # end early if losing state\n",
    "                \n",
    "        print('Agent #' + str(agent.agentNum) + \n",
    "              ' | Ep #' + str(ep) + ' | Score: ' + str(scoreEp))\n",
    "        scoreTotal += scoreEp\n",
    "       \n",
    "    scoreTotal /= numEpisodes\n",
    "    env.close()\n",
    "    agent.reward(scoreTotal, envName)\n",
    "    scoreList.append((agent.team.id, agent.team.outcomes))"
   ]
  },
  {
   "cell_type": "code",
   "execution_count": 22,
   "metadata": {
    "scrolled": true
   },
   "outputs": [
    {
     "name": "stderr",
     "output_type": "stream",
     "text": [
      "  0%|          | 0/100 [00:00<?, ?it/s]Process SpawnPoolWorker-18:\n",
      "Traceback (most recent call last):\n",
      "  File \"/Users/matsuzawakazuki/miniforge3/envs/tpgenv/lib/python3.10/multiprocessing/process.py\", line 315, in _bootstrap\n",
      "    self.run()\n",
      "  File \"/Users/matsuzawakazuki/miniforge3/envs/tpgenv/lib/python3.10/multiprocessing/process.py\", line 108, in run\n",
      "    self._target(*self._args, **self._kwargs)\n",
      "  File \"/Users/matsuzawakazuki/miniforge3/envs/tpgenv/lib/python3.10/multiprocessing/pool.py\", line 114, in worker\n",
      "    task = get()\n",
      "  File \"/Users/matsuzawakazuki/miniforge3/envs/tpgenv/lib/python3.10/multiprocessing/queues.py\", line 368, in get\n",
      "    return _ForkingPickler.loads(res)\n",
      "AttributeError: Can't get attribute 'runAgent' on <module '__main__' (built-in)>\n",
      "Process SpawnPoolWorker-19:\n",
      "Traceback (most recent call last):\n",
      "  File \"/Users/matsuzawakazuki/miniforge3/envs/tpgenv/lib/python3.10/multiprocessing/process.py\", line 315, in _bootstrap\n",
      "    self.run()\n",
      "  File \"/Users/matsuzawakazuki/miniforge3/envs/tpgenv/lib/python3.10/multiprocessing/process.py\", line 108, in run\n",
      "    self._target(*self._args, **self._kwargs)\n",
      "  File \"/Users/matsuzawakazuki/miniforge3/envs/tpgenv/lib/python3.10/multiprocessing/pool.py\", line 114, in worker\n",
      "    task = get()\n",
      "  File \"/Users/matsuzawakazuki/miniforge3/envs/tpgenv/lib/python3.10/multiprocessing/queues.py\", line 368, in get\n",
      "    return _ForkingPickler.loads(res)\n",
      "AttributeError: Can't get attribute 'runAgent' on <module '__main__' (built-in)>\n",
      "Process SpawnPoolWorker-20:\n",
      "Traceback (most recent call last):\n",
      "  File \"/Users/matsuzawakazuki/miniforge3/envs/tpgenv/lib/python3.10/multiprocessing/process.py\", line 315, in _bootstrap\n",
      "    self.run()\n",
      "  File \"/Users/matsuzawakazuki/miniforge3/envs/tpgenv/lib/python3.10/multiprocessing/process.py\", line 108, in run\n",
      "    self._target(*self._args, **self._kwargs)\n",
      "  File \"/Users/matsuzawakazuki/miniforge3/envs/tpgenv/lib/python3.10/multiprocessing/pool.py\", line 114, in worker\n",
      "    task = get()\n",
      "  File \"/Users/matsuzawakazuki/miniforge3/envs/tpgenv/lib/python3.10/multiprocessing/queues.py\", line 368, in get\n",
      "    return _ForkingPickler.loads(res)\n",
      "AttributeError: Can't get attribute 'runAgent' on <module '__main__' (built-in)>\n",
      "Process SpawnPoolWorker-21:\n",
      "Traceback (most recent call last):\n",
      "  File \"/Users/matsuzawakazuki/miniforge3/envs/tpgenv/lib/python3.10/multiprocessing/process.py\", line 315, in _bootstrap\n",
      "    self.run()\n",
      "  File \"/Users/matsuzawakazuki/miniforge3/envs/tpgenv/lib/python3.10/multiprocessing/process.py\", line 108, in run\n",
      "    self._target(*self._args, **self._kwargs)\n",
      "  File \"/Users/matsuzawakazuki/miniforge3/envs/tpgenv/lib/python3.10/multiprocessing/pool.py\", line 114, in worker\n",
      "    task = get()\n",
      "  File \"/Users/matsuzawakazuki/miniforge3/envs/tpgenv/lib/python3.10/multiprocessing/queues.py\", line 368, in get\n",
      "    return _ForkingPickler.loads(res)\n",
      "AttributeError: Can't get attribute 'runAgent' on <module '__main__' (built-in)>\n",
      "Process SpawnPoolWorker-22:\n",
      "Traceback (most recent call last):\n",
      "  File \"/Users/matsuzawakazuki/miniforge3/envs/tpgenv/lib/python3.10/multiprocessing/process.py\", line 315, in _bootstrap\n",
      "    self.run()\n",
      "  File \"/Users/matsuzawakazuki/miniforge3/envs/tpgenv/lib/python3.10/multiprocessing/process.py\", line 108, in run\n",
      "    self._target(*self._args, **self._kwargs)\n",
      "  File \"/Users/matsuzawakazuki/miniforge3/envs/tpgenv/lib/python3.10/multiprocessing/pool.py\", line 114, in worker\n",
      "    task = get()\n",
      "  File \"/Users/matsuzawakazuki/miniforge3/envs/tpgenv/lib/python3.10/multiprocessing/queues.py\", line 368, in get\n",
      "    return _ForkingPickler.loads(res)\n",
      "AttributeError: Can't get attribute 'runAgent' on <module '__main__' (built-in)>\n",
      "Process SpawnPoolWorker-23:\n",
      "Traceback (most recent call last):\n",
      "  File \"/Users/matsuzawakazuki/miniforge3/envs/tpgenv/lib/python3.10/multiprocessing/process.py\", line 315, in _bootstrap\n",
      "    self.run()\n",
      "  File \"/Users/matsuzawakazuki/miniforge3/envs/tpgenv/lib/python3.10/multiprocessing/process.py\", line 108, in run\n",
      "    self._target(*self._args, **self._kwargs)\n",
      "  File \"/Users/matsuzawakazuki/miniforge3/envs/tpgenv/lib/python3.10/multiprocessing/pool.py\", line 114, in worker\n",
      "    task = get()\n",
      "  File \"/Users/matsuzawakazuki/miniforge3/envs/tpgenv/lib/python3.10/multiprocessing/queues.py\", line 368, in get\n",
      "    return _ForkingPickler.loads(res)\n",
      "AttributeError: Can't get attribute 'runAgent' on <module '__main__' (built-in)>\n",
      "Process SpawnPoolWorker-24:\n",
      "Traceback (most recent call last):\n",
      "  File \"/Users/matsuzawakazuki/miniforge3/envs/tpgenv/lib/python3.10/multiprocessing/process.py\", line 315, in _bootstrap\n",
      "    self.run()\n",
      "  File \"/Users/matsuzawakazuki/miniforge3/envs/tpgenv/lib/python3.10/multiprocessing/process.py\", line 108, in run\n",
      "    self._target(*self._args, **self._kwargs)\n",
      "  File \"/Users/matsuzawakazuki/miniforge3/envs/tpgenv/lib/python3.10/multiprocessing/pool.py\", line 114, in worker\n",
      "    task = get()\n",
      "  File \"/Users/matsuzawakazuki/miniforge3/envs/tpgenv/lib/python3.10/multiprocessing/queues.py\", line 368, in get\n",
      "    return _ForkingPickler.loads(res)\n",
      "AttributeError: Can't get attribute 'runAgent' on <module '__main__' (built-in)>\n",
      "Process SpawnPoolWorker-25:\n",
      "Traceback (most recent call last):\n",
      "  File \"/Users/matsuzawakazuki/miniforge3/envs/tpgenv/lib/python3.10/multiprocessing/process.py\", line 315, in _bootstrap\n",
      "    self.run()\n",
      "  File \"/Users/matsuzawakazuki/miniforge3/envs/tpgenv/lib/python3.10/multiprocessing/process.py\", line 108, in run\n",
      "    self._target(*self._args, **self._kwargs)\n",
      "  File \"/Users/matsuzawakazuki/miniforge3/envs/tpgenv/lib/python3.10/multiprocessing/pool.py\", line 114, in worker\n",
      "    task = get()\n",
      "  File \"/Users/matsuzawakazuki/miniforge3/envs/tpgenv/lib/python3.10/multiprocessing/queues.py\", line 368, in get\n",
      "    return _ForkingPickler.loads(res)\n",
      "AttributeError: Can't get attribute 'runAgent' on <module '__main__' (built-in)>\n",
      "Process SpawnPoolWorker-26:\n",
      "Process SpawnPoolWorker-27:\n",
      "Process SpawnPoolWorker-13:\n",
      "Process SpawnPoolWorker-12:\n",
      "  0%|          | 0/100 [01:26<?, ?it/s]\n",
      "Traceback (most recent call last):\n",
      "Traceback (most recent call last):\n",
      "  File \"/Users/matsuzawakazuki/miniforge3/envs/tpgenv/lib/python3.10/multiprocessing/process.py\", line 315, in _bootstrap\n",
      "    self.run()\n",
      "  File \"/Users/matsuzawakazuki/miniforge3/envs/tpgenv/lib/python3.10/multiprocessing/process.py\", line 108, in run\n",
      "    self._target(*self._args, **self._kwargs)\n",
      "  File \"/Users/matsuzawakazuki/miniforge3/envs/tpgenv/lib/python3.10/multiprocessing/pool.py\", line 114, in worker\n",
      "    task = get()\n",
      "  File \"/Users/matsuzawakazuki/miniforge3/envs/tpgenv/lib/python3.10/multiprocessing/queues.py\", line 365, in get\n",
      "    with self._rlock:\n",
      "  File \"/Users/matsuzawakazuki/miniforge3/envs/tpgenv/lib/python3.10/multiprocessing/synchronize.py\", line 95, in __enter__\n",
      "    return self._semlock.__enter__()\n",
      "KeyboardInterrupt\n",
      "  File \"/Users/matsuzawakazuki/miniforge3/envs/tpgenv/lib/python3.10/multiprocessing/process.py\", line 315, in _bootstrap\n",
      "    self.run()\n",
      "  File \"/Users/matsuzawakazuki/miniforge3/envs/tpgenv/lib/python3.10/multiprocessing/process.py\", line 108, in run\n",
      "    self._target(*self._args, **self._kwargs)\n",
      "  File \"/Users/matsuzawakazuki/miniforge3/envs/tpgenv/lib/python3.10/multiprocessing/pool.py\", line 114, in worker\n",
      "    task = get()\n",
      "  File \"/Users/matsuzawakazuki/miniforge3/envs/tpgenv/lib/python3.10/multiprocessing/queues.py\", line 365, in get\n",
      "    with self._rlock:\n",
      "  File \"/Users/matsuzawakazuki/miniforge3/envs/tpgenv/lib/python3.10/multiprocessing/synchronize.py\", line 95, in __enter__\n",
      "    return self._semlock.__enter__()\n",
      "KeyboardInterrupt\n",
      "Traceback (most recent call last):\n",
      "Traceback (most recent call last):\n",
      "  File \"/Users/matsuzawakazuki/miniforge3/envs/tpgenv/lib/python3.10/multiprocessing/process.py\", line 315, in _bootstrap\n",
      "    self.run()\n",
      "  File \"/Users/matsuzawakazuki/miniforge3/envs/tpgenv/lib/python3.10/multiprocessing/process.py\", line 108, in run\n",
      "    self._target(*self._args, **self._kwargs)\n",
      "  File \"/Users/matsuzawakazuki/miniforge3/envs/tpgenv/lib/python3.10/multiprocessing/pool.py\", line 114, in worker\n",
      "    task = get()\n",
      "  File \"/Users/matsuzawakazuki/miniforge3/envs/tpgenv/lib/python3.10/multiprocessing/queues.py\", line 366, in get\n",
      "    res = self._reader.recv_bytes()\n",
      "  File \"/Users/matsuzawakazuki/miniforge3/envs/tpgenv/lib/python3.10/multiprocessing/connection.py\", line 221, in recv_bytes\n",
      "    buf = self._recv_bytes(maxlength)\n",
      "  File \"/Users/matsuzawakazuki/miniforge3/envs/tpgenv/lib/python3.10/multiprocessing/connection.py\", line 419, in _recv_bytes\n",
      "    buf = self._recv(4)\n",
      "  File \"/Users/matsuzawakazuki/miniforge3/envs/tpgenv/lib/python3.10/multiprocessing/connection.py\", line 384, in _recv\n",
      "    chunk = read(handle, remaining)\n",
      "  File \"/Users/matsuzawakazuki/miniforge3/envs/tpgenv/lib/python3.10/multiprocessing/process.py\", line 315, in _bootstrap\n",
      "    self.run()\n",
      "KeyboardInterrupt\n",
      "  File \"/Users/matsuzawakazuki/miniforge3/envs/tpgenv/lib/python3.10/multiprocessing/process.py\", line 108, in run\n",
      "    self._target(*self._args, **self._kwargs)\n",
      "  File \"/Users/matsuzawakazuki/miniforge3/envs/tpgenv/lib/python3.10/multiprocessing/pool.py\", line 114, in worker\n",
      "    task = get()\n",
      "  File \"/Users/matsuzawakazuki/miniforge3/envs/tpgenv/lib/python3.10/multiprocessing/queues.py\", line 366, in get\n",
      "    res = self._reader.recv_bytes()\n",
      "  File \"/Users/matsuzawakazuki/miniforge3/envs/tpgenv/lib/python3.10/multiprocessing/connection.py\", line 221, in recv_bytes\n",
      "    buf = self._recv_bytes(maxlength)\n",
      "  File \"/Users/matsuzawakazuki/miniforge3/envs/tpgenv/lib/python3.10/multiprocessing/connection.py\", line 419, in _recv_bytes\n",
      "    buf = self._recv(4)\n",
      "  File \"/Users/matsuzawakazuki/miniforge3/envs/tpgenv/lib/python3.10/multiprocessing/connection.py\", line 384, in _recv\n",
      "    chunk = read(handle, remaining)\n",
      "KeyboardInterrupt\n"
     ]
    },
    {
     "ename": "KeyboardInterrupt",
     "evalue": "",
     "output_type": "error",
     "traceback": [
      "\u001b[0;31m---------------------------------------------------------------------------\u001b[0m",
      "\u001b[0;31mKeyboardInterrupt\u001b[0m                         Traceback (most recent call last)",
      "\u001b[1;32m/Users/matsuzawakazuki/Code/py_code/TPGAgent/tpg/tpg_examples.ipynb Cell 12'\u001b[0m in \u001b[0;36m<cell line: 21>\u001b[0;34m()\u001b[0m\n\u001b[1;32m     <a href='vscode-notebook-cell:/Users/matsuzawakazuki/Code/py_code/TPGAgent/tpg/tpg_examples.ipynb#ch0000011?line=27'>28</a>\u001b[0m process_seed \u001b[39m=\u001b[39m [[agent, envName, scoreList, \u001b[39m1\u001b[39m, \u001b[39m18000\u001b[39m] \u001b[39mfor\u001b[39;00m agent \u001b[39min\u001b[39;00m agents]\n\u001b[1;32m     <a href='vscode-notebook-cell:/Users/matsuzawakazuki/Code/py_code/TPGAgent/tpg/tpg_examples.ipynb#ch0000011?line=29'>30</a>\u001b[0m \u001b[39m# run the agents\u001b[39;00m\n\u001b[0;32m---> <a href='vscode-notebook-cell:/Users/matsuzawakazuki/Code/py_code/TPGAgent/tpg/tpg_examples.ipynb#ch0000011?line=30'>31</a>\u001b[0m pool\u001b[39m.\u001b[39;49mmap(runAgent, process_seed)\n\u001b[1;32m     <a href='vscode-notebook-cell:/Users/matsuzawakazuki/Code/py_code/TPGAgent/tpg/tpg_examples.ipynb#ch0000011?line=32'>33</a>\u001b[0m \u001b[39m# apply scores, must do this when multiprocessing\u001b[39;00m\n\u001b[1;32m     <a href='vscode-notebook-cell:/Users/matsuzawakazuki/Code/py_code/TPGAgent/tpg/tpg_examples.ipynb#ch0000011?line=33'>34</a>\u001b[0m \u001b[39m# because agents can't refer to trainer\u001b[39;00m\n\u001b[1;32m     <a href='vscode-notebook-cell:/Users/matsuzawakazuki/Code/py_code/TPGAgent/tpg/tpg_examples.ipynb#ch0000011?line=34'>35</a>\u001b[0m teams \u001b[39m=\u001b[39m trainer\u001b[39m.\u001b[39mapplyScores(scoreList)\n",
      "File \u001b[0;32m~/miniforge3/envs/tpgenv/lib/python3.10/multiprocessing/pool.py:364\u001b[0m, in \u001b[0;36mPool.map\u001b[0;34m(self, func, iterable, chunksize)\u001b[0m\n\u001b[1;32m    <a href='file:///Users/matsuzawakazuki/miniforge3/envs/tpgenv/lib/python3.10/multiprocessing/pool.py?line=358'>359</a>\u001b[0m \u001b[39mdef\u001b[39;00m \u001b[39mmap\u001b[39m(\u001b[39mself\u001b[39m, func, iterable, chunksize\u001b[39m=\u001b[39m\u001b[39mNone\u001b[39;00m):\n\u001b[1;32m    <a href='file:///Users/matsuzawakazuki/miniforge3/envs/tpgenv/lib/python3.10/multiprocessing/pool.py?line=359'>360</a>\u001b[0m     \u001b[39m'''\u001b[39;00m\n\u001b[1;32m    <a href='file:///Users/matsuzawakazuki/miniforge3/envs/tpgenv/lib/python3.10/multiprocessing/pool.py?line=360'>361</a>\u001b[0m \u001b[39m    Apply `func` to each element in `iterable`, collecting the results\u001b[39;00m\n\u001b[1;32m    <a href='file:///Users/matsuzawakazuki/miniforge3/envs/tpgenv/lib/python3.10/multiprocessing/pool.py?line=361'>362</a>\u001b[0m \u001b[39m    in a list that is returned.\u001b[39;00m\n\u001b[1;32m    <a href='file:///Users/matsuzawakazuki/miniforge3/envs/tpgenv/lib/python3.10/multiprocessing/pool.py?line=362'>363</a>\u001b[0m \u001b[39m    '''\u001b[39;00m\n\u001b[0;32m--> <a href='file:///Users/matsuzawakazuki/miniforge3/envs/tpgenv/lib/python3.10/multiprocessing/pool.py?line=363'>364</a>\u001b[0m     \u001b[39mreturn\u001b[39;00m \u001b[39mself\u001b[39;49m\u001b[39m.\u001b[39;49m_map_async(func, iterable, mapstar, chunksize)\u001b[39m.\u001b[39;49mget()\n",
      "File \u001b[0;32m~/miniforge3/envs/tpgenv/lib/python3.10/multiprocessing/pool.py:765\u001b[0m, in \u001b[0;36mApplyResult.get\u001b[0;34m(self, timeout)\u001b[0m\n\u001b[1;32m    <a href='file:///Users/matsuzawakazuki/miniforge3/envs/tpgenv/lib/python3.10/multiprocessing/pool.py?line=763'>764</a>\u001b[0m \u001b[39mdef\u001b[39;00m \u001b[39mget\u001b[39m(\u001b[39mself\u001b[39m, timeout\u001b[39m=\u001b[39m\u001b[39mNone\u001b[39;00m):\n\u001b[0;32m--> <a href='file:///Users/matsuzawakazuki/miniforge3/envs/tpgenv/lib/python3.10/multiprocessing/pool.py?line=764'>765</a>\u001b[0m     \u001b[39mself\u001b[39;49m\u001b[39m.\u001b[39;49mwait(timeout)\n\u001b[1;32m    <a href='file:///Users/matsuzawakazuki/miniforge3/envs/tpgenv/lib/python3.10/multiprocessing/pool.py?line=765'>766</a>\u001b[0m     \u001b[39mif\u001b[39;00m \u001b[39mnot\u001b[39;00m \u001b[39mself\u001b[39m\u001b[39m.\u001b[39mready():\n\u001b[1;32m    <a href='file:///Users/matsuzawakazuki/miniforge3/envs/tpgenv/lib/python3.10/multiprocessing/pool.py?line=766'>767</a>\u001b[0m         \u001b[39mraise\u001b[39;00m \u001b[39mTimeoutError\u001b[39;00m\n",
      "File \u001b[0;32m~/miniforge3/envs/tpgenv/lib/python3.10/multiprocessing/pool.py:762\u001b[0m, in \u001b[0;36mApplyResult.wait\u001b[0;34m(self, timeout)\u001b[0m\n\u001b[1;32m    <a href='file:///Users/matsuzawakazuki/miniforge3/envs/tpgenv/lib/python3.10/multiprocessing/pool.py?line=760'>761</a>\u001b[0m \u001b[39mdef\u001b[39;00m \u001b[39mwait\u001b[39m(\u001b[39mself\u001b[39m, timeout\u001b[39m=\u001b[39m\u001b[39mNone\u001b[39;00m):\n\u001b[0;32m--> <a href='file:///Users/matsuzawakazuki/miniforge3/envs/tpgenv/lib/python3.10/multiprocessing/pool.py?line=761'>762</a>\u001b[0m     \u001b[39mself\u001b[39;49m\u001b[39m.\u001b[39;49m_event\u001b[39m.\u001b[39;49mwait(timeout)\n",
      "File \u001b[0;32m~/miniforge3/envs/tpgenv/lib/python3.10/threading.py:600\u001b[0m, in \u001b[0;36mEvent.wait\u001b[0;34m(self, timeout)\u001b[0m\n\u001b[1;32m    <a href='file:///Users/matsuzawakazuki/miniforge3/envs/tpgenv/lib/python3.10/threading.py?line=597'>598</a>\u001b[0m signaled \u001b[39m=\u001b[39m \u001b[39mself\u001b[39m\u001b[39m.\u001b[39m_flag\n\u001b[1;32m    <a href='file:///Users/matsuzawakazuki/miniforge3/envs/tpgenv/lib/python3.10/threading.py?line=598'>599</a>\u001b[0m \u001b[39mif\u001b[39;00m \u001b[39mnot\u001b[39;00m signaled:\n\u001b[0;32m--> <a href='file:///Users/matsuzawakazuki/miniforge3/envs/tpgenv/lib/python3.10/threading.py?line=599'>600</a>\u001b[0m     signaled \u001b[39m=\u001b[39m \u001b[39mself\u001b[39;49m\u001b[39m.\u001b[39;49m_cond\u001b[39m.\u001b[39;49mwait(timeout)\n\u001b[1;32m    <a href='file:///Users/matsuzawakazuki/miniforge3/envs/tpgenv/lib/python3.10/threading.py?line=600'>601</a>\u001b[0m \u001b[39mreturn\u001b[39;00m signaled\n",
      "File \u001b[0;32m~/miniforge3/envs/tpgenv/lib/python3.10/threading.py:320\u001b[0m, in \u001b[0;36mCondition.wait\u001b[0;34m(self, timeout)\u001b[0m\n\u001b[1;32m    <a href='file:///Users/matsuzawakazuki/miniforge3/envs/tpgenv/lib/python3.10/threading.py?line=317'>318</a>\u001b[0m \u001b[39mtry\u001b[39;00m:    \u001b[39m# restore state no matter what (e.g., KeyboardInterrupt)\u001b[39;00m\n\u001b[1;32m    <a href='file:///Users/matsuzawakazuki/miniforge3/envs/tpgenv/lib/python3.10/threading.py?line=318'>319</a>\u001b[0m     \u001b[39mif\u001b[39;00m timeout \u001b[39mis\u001b[39;00m \u001b[39mNone\u001b[39;00m:\n\u001b[0;32m--> <a href='file:///Users/matsuzawakazuki/miniforge3/envs/tpgenv/lib/python3.10/threading.py?line=319'>320</a>\u001b[0m         waiter\u001b[39m.\u001b[39;49macquire()\n\u001b[1;32m    <a href='file:///Users/matsuzawakazuki/miniforge3/envs/tpgenv/lib/python3.10/threading.py?line=320'>321</a>\u001b[0m         gotit \u001b[39m=\u001b[39m \u001b[39mTrue\u001b[39;00m\n\u001b[1;32m    <a href='file:///Users/matsuzawakazuki/miniforge3/envs/tpgenv/lib/python3.10/threading.py?line=321'>322</a>\u001b[0m     \u001b[39melse\u001b[39;00m:\n",
      "\u001b[0;31mKeyboardInterrupt\u001b[0m: "
     ]
    }
   ],
   "source": [
    "import multiprocessing as mp\n",
    "import time\n",
    "from tqdm import tqdm\n",
    "\n",
    "\n",
    "envName = 'Boxing-v0'\n",
    "# get num actions\n",
    "env = gym.make(envName)\n",
    "acts = env.action_space.n\n",
    "del env\n",
    "\n",
    "trainer = Trainer(actions=acts, teamPopSize=360)\n",
    "\n",
    "processes = 2\n",
    "man = mp.Manager()\n",
    "pool = mp.Pool(processes=processes, maxtasksperchild=1)\n",
    "    \n",
    "allScores = [] # track all scores each generation\n",
    "\n",
    "tStart = time.time()\n",
    "for gen in tqdm(range(100)): # do 100 generations of training\n",
    "    scoreList = man.list()\n",
    "    \n",
    "    # get agents, noRef to not hold reference to trainer in each one\n",
    "    # don't need reference to trainer in multiprocessing\n",
    "    agents = trainer.getAgents() # swap out agents only at start of generation\n",
    "\n",
    "    process_seed = [[agent, envName, scoreList, 1, 18000] for agent in agents]\n",
    "\n",
    "    # run the agents\n",
    "    pool.map(runAgent, process_seed)\n",
    "    \n",
    "    # apply scores, must do this when multiprocessing\n",
    "    # because agents can't refer to trainer\n",
    "    teams = trainer.applyScores(scoreList)\n",
    "    # important to remember to set tasks right, unless not using task names\n",
    "    # task name set in runAgent()\n",
    "    trainer.evolve(tasks=[envName]) # go into next gen\n",
    "    \n",
    "    # an easier way to track stats than the above example\n",
    "    scoreStats = trainer.fitnessStats\n",
    "    allScores.append((scoreStats['min'], scoreStats['max'], scoreStats['average']))\n",
    "    \n",
    "    clear_output()\n",
    "    print('Time Taken (Hours): ' + str((time.time() - tStart)/3600))\n",
    "    print('Gen: ' + str(gen))\n",
    "    print('Results so far: ' + str(allScores))\n",
    "    \n",
    "clear_output()\n",
    "print('Time Taken (Hours): ' + str((time.time() - tStart)/3600))\n",
    "print('Results:\\nMin, Max, Avg')\n",
    "for score in allScores:\n",
    "    print(score[0],score[1],score[2])"
   ]
  },
  {
   "cell_type": "code",
   "execution_count": 21,
   "metadata": {},
   "outputs": [
    {
     "name": "stderr",
     "output_type": "stream",
     "text": [
      "100%|██████████| 100/100 [01:40<00:00,  1.00s/it]\n"
     ]
    }
   ],
   "source": [
    "# coding: utf-8\n",
    "from tqdm import tqdm\n",
    "import time\n",
    "\n",
    "for i in tqdm(range(100)):\n",
    "    time.sleep(1)\n",
    "#100%|██████████| 100/100 [01:40<00:00,  1.00s/it]"
   ]
  },
  {
   "cell_type": "code",
   "execution_count": 23,
   "metadata": {},
   "outputs": [
    {
     "name": "stdout",
     "output_type": "stream",
     "text": [
      "main line\n",
      "module name: __main__\n",
      "parent process: 1383\n",
      "process id: 13779\n"
     ]
    },
    {
     "name": "stderr",
     "output_type": "stream",
     "text": [
      "Traceback (most recent call last):\n",
      "  File \"<string>\", line 1, in <module>\n",
      "  File \"/Users/matsuzawakazuki/miniforge3/envs/tpgenv/lib/python3.10/multiprocessing/spawn.py\", line 116, in spawn_main\n",
      "    exitcode = _main(fd, parent_sentinel)\n",
      "  File \"/Users/matsuzawakazuki/miniforge3/envs/tpgenv/lib/python3.10/multiprocessing/spawn.py\", line 126, in _main\n",
      "    self = reduction.pickle.load(from_parent)\n",
      "AttributeError: Can't get attribute 'f' on <module '__main__' (built-in)>\n"
     ]
    }
   ],
   "source": [
    "from multiprocessing import Process\n",
    "import os\n",
    "\n",
    "def info(title):\n",
    "    print(title)\n",
    "    print('module name:', __name__)\n",
    "    print('parent process:', os.getppid())\n",
    "    print('process id:', os.getpid())\n",
    "\n",
    "def f(name):\n",
    "    info('function f')\n",
    "    print('hello', name)\n",
    "\n",
    "info('main line')\n",
    "p = Process(target=f, args=('bob',))\n",
    "p.start()\n",
    "p.join()"
   ]
  },
  {
   "cell_type": "code",
   "execution_count": null,
   "metadata": {},
   "outputs": [],
   "source": []
  }
 ],
 "metadata": {
  "interpreter": {
   "hash": "831f21ec50ae1f6d27fa91aba8f7d63375715576ea39f5c616c9e4ffd4df32aa"
  },
  "kernelspec": {
   "display_name": "Python 3 (ipykernel)",
   "language": "python",
   "name": "python3"
  },
  "language_info": {
   "codemirror_mode": {
    "name": "ipython",
    "version": 3
   },
   "file_extension": ".py",
   "mimetype": "text/x-python",
   "name": "python",
   "nbconvert_exporter": "python",
   "pygments_lexer": "ipython3",
   "version": "3.10.4"
  }
 },
 "nbformat": 4,
 "nbformat_minor": 2
}
