{
 "cells": [
  {
   "cell_type": "code",
   "execution_count": 4,
   "metadata": {},
   "outputs": [],
   "source": [
    "import gym"
   ]
  },
  {
   "cell_type": "code",
   "execution_count": 5,
   "metadata": {},
   "outputs": [],
   "source": [
    "env = gym.make('MountainCar-v0')"
   ]
  },
  {
   "cell_type": "code",
   "execution_count": 6,
   "metadata": {},
   "outputs": [
    {
     "name": "stdout",
     "output_type": "stream",
     "text": [
      "The observation space: Box([-1.2  -0.07], [0.6  0.07], (2,), float32)\n",
      "The action space: Discrete(3)\n"
     ]
    }
   ],
   "source": [
    "# Observation and action space \n",
    "obs_space = env.observation_space\n",
    "action_space = env.action_space\n",
    "print(\"The observation space: {}\".format(obs_space))\n",
    "print(\"The action space: {}\".format(action_space))"
   ]
  },
  {
   "cell_type": "code",
   "execution_count": 7,
   "metadata": {},
   "outputs": [
    {
     "name": "stdout",
     "output_type": "stream",
     "text": [
      "The initial observation is [-0.5305456  0.       ]\n",
      "The new observation is [-0.53149354 -0.0009479 ]\n"
     ]
    }
   ],
   "source": [
    "import matplotlib.pyplot as plt \n",
    "\n",
    "# reset the environment and see the initial observation\n",
    "obs = env.reset()\n",
    "print(\"The initial observation is {}\".format(obs))\n",
    "\n",
    "# Sample a random action from the entire action space\n",
    "random_action = env.action_space.sample()\n",
    "\n",
    "# # Take the action and get the new observation space\n",
    "new_obs, reward, done, info = env.step(random_action)\n",
    "print(\"The new observation is {}\".format(new_obs))"
   ]
  },
  {
   "cell_type": "code",
   "execution_count": 7,
   "metadata": {},
   "outputs": [],
   "source": [
    "env.render(mode = \"human\")\n",
    "env.close()"
   ]
  },
  {
   "cell_type": "code",
   "execution_count": 7,
   "metadata": {},
   "outputs": [],
   "source": []
  },
  {
   "cell_type": "code",
   "execution_count": 8,
   "metadata": {},
   "outputs": [
    {
     "data": {
      "text/plain": [
       "<matplotlib.image.AxesImage at 0x28a9b88b0>"
      ]
     },
     "execution_count": 8,
     "metadata": {},
     "output_type": "execute_result"
    },
    {
     "data": {
      "image/png": "[encoded data removed]",
      "text/plain": [
       "<Figure size 432x288 with 1 Axes>"
      ]
     },
     "metadata": {
      "needs_background": "light"
     },
     "output_type": "display_data"
    }
   ],
   "source": [
    "env_screen = env.render(mode = 'rgb_array')\n",
    "env.close()\n",
    "\n",
    "import matplotlib.pyplot as plt \n",
    "plt.imshow(env_screen)"
   ]
  },
  {
   "cell_type": "code",
   "execution_count": 14,
   "metadata": {},
   "outputs": [],
   "source": [
    "import time \n",
    "\n",
    "# Number of steps you run the agent for \n",
    "num_steps = 1500\n",
    "\n",
    "obs = env.reset()\n",
    "\n",
    "for step in range(num_steps):\n",
    "    # take random action, but you can also do something more intelligent\n",
    "    # action = my_intelligent_agent_fn(obs) \n",
    "    action = env.action_space.sample()\n",
    "    \n",
    "    # apply the action\n",
    "    obs, reward, done, info = env.step(action)\n",
    "    \n",
    "    # Render the env\n",
    "    env.render()\n",
    "\n",
    "    # Wait a bit before the next frame unless you want to see a crazy fast video\n",
    "    time.sleep(0.001)\n",
    "    \n",
    "    # If the epsiode is up, then start another one\n",
    "    if done:\n",
    "        env.reset()\n",
    "\n",
    "# Close the env\n",
    "env.close()"
   ]
  },
  {
   "cell_type": "code",
   "execution_count": 1,
   "metadata": {},
   "outputs": [],
   "source": [
    "G = {} # TPG:= {\"Teams\":, \"Edges\":}\n",
    "LE = {} # Learning environment twin: LE\n",
    "prng_master = []\n",
    "prng_worker = []\n",
    "JobQ = []\n",
    "ResultQ = []\n",
    "import sys\n",
    "from __future__ import division\n",
    "from IPython.display import clear_output\n",
    "import numpy as np\n",
    "import gym\n",
    "import matplotlib.pyplot as plt\n",
    "from IPython import display\n",
    "import random\n",
    "\n",
    "# how to render in Jupyter: \n",
    "# https://stackoverflow.com/questions/40195740/how-to-run-openai-gym-render-over-a-server\n",
    "# https://www.youtube.com/watch?v=O84KgRt6AJI\n",
    "def show_state(env, step=0, name='', info=''):\n",
    "    plt.figure(3)\n",
    "    plt.clf()\n",
    "    plt.imshow(env.render(mode='rgb_array'))\n",
    "    plt.title(\"%s | Step: %d %s\" % (name, step, info))\n",
    "    plt.axis('off')\n",
    "\n",
    "    display.clear_output(wait=True)\n",
    "    display.display(plt.gcf())\n",
    "    \n",
    "# To transform pixel matrix to a single vector.\n",
    "def getState(inState):\n",
    "    # each row is all 1 color\n",
    "    rgbRows = np.reshape(inState,(len(inState[0])*len(inState), 3)).T\n",
    "\n",
    "    # add each with appropriate shifting\n",
    "    # get RRRRRRRR GGGGGGGG BBBBBBBB\n",
    "    return np.add(np.left_shift(rgbRows[0], 16),\n",
    "        np.add(np.left_shift(rgbRows[1], 8), rgbRows[2]))"
   ]
  },
  {
   "cell_type": "code",
   "execution_count": 2,
   "metadata": {},
   "outputs": [
    {
     "name": "stderr",
     "output_type": "stream",
     "text": [
      "A.L.E: Arcade Learning Environment (version 0.7.5+db37282)\n",
      "[Powered by Stella]\n"
     ]
    }
   ],
   "source": [
    "env = gym.make('Assault-v0') # make the environment"
   ]
  },
  {
   "cell_type": "code",
   "execution_count": 3,
   "metadata": {},
   "outputs": [
    {
     "name": "stdout",
     "output_type": "stream",
     "text": [
      "Discrete(7)\n"
     ]
    }
   ],
   "source": [
    "print(env.action_space) # learn size of action space"
   ]
  },
  {
   "cell_type": "code",
   "execution_count": 2,
   "metadata": {},
   "outputs": [],
   "source": [
    "# import to do training\n",
    "from trainer import Trainer1\n",
    "# from trainer import Trainer\n",
    "# import to run an agent (always needed)\n",
    "from agent import Agent1"
   ]
  },
  {
   "cell_type": "code",
   "execution_count": null,
   "metadata": {},
   "outputs": [],
   "source": [
    "# %matplotlib inline\n",
    "import time # for tracking time\n",
    "\n",
    "tStart = time.time()\n",
    "\n",
    "# first create an instance of the TpgTrainer\n",
    "# this creates the whole population and everything\n",
    "# teamPopSize should realistically be at-least 100\n",
    "trainer = Trainer(actions=env.action_space.n, teamPopSize=20) \n",
    "\n",
    "\n",
    "# 5 generations isn't much (not even close), but some improvements\n",
    "# should be seen.\n",
    "def learning(_trainer, _generation:int):\n",
    "    # curScores = [] # hold scores in a generation\n",
    "    summaryScores = [] # record score summaries for each gen (min, max, avg)\n",
    "\n",
    "    for gen in range(_generation): # generation loop\n",
    "        curScores = [] # new list per gen\n",
    "        \n",
    "        agents = trainer.getAgents()\n",
    "        \n",
    "        while True: # loop to go through agents\n",
    "            teamNum = len(agents)\n",
    "            agent = agents.pop()\n",
    "            if agent is None: break # no more agents, so proceed to next gen\n",
    "            \n",
    "            state = env.reset() # get initial state and prep environment\n",
    "            score = 0\n",
    "            for i in range(500): # run episodes that last 500 frames\n",
    "                # show_state(env, i, 'Assault', 'Gen #' + str(gen) + \n",
    "                #         ', Team #' + str(teamNum) +\n",
    "                #         ', Score: ' + str(score)) # render env\n",
    "                env.render()\n",
    "                # get action from agent\n",
    "                # must transform to at-least int-32 (for my getState to bitshift correctly)\n",
    "                act = agent.act(getState(np.array(state, dtype=np.int32))) \n",
    "\n",
    "                # feedback from env\n",
    "                state, reward, isDone, debug = env.step(act)\n",
    "                score += reward # accumulate reward in score\n",
    "\n",
    "                if isDone: break # end early if losing state\n",
    "\n",
    "            agent.reward(score) # must reward agent (if didn't already score)\n",
    "                \n",
    "            curScores.append(score) # store score\n",
    "            \n",
    "            if len(agents) == 0: break\n",
    "                \n",
    "        # at end of generation, make summary of scores\n",
    "        summaryScores.append((min(curScores), max(curScores),\n",
    "                        sum(curScores)/len(curScores))) # min, max, avg\n",
    "        trainer.evolve()\n",
    "\n",
    "    return summaryScores\n",
    "\n",
    "#clear_output(wait=True)\n",
    "# print('Time Taken (Hours): ' + str((time.time() - tStart)/3600))\n",
    "# print('Results:\\nMin, Max, Avg')\n",
    "# for result in summaryScores:\n",
    "#     print(result[0],result[1],result[2])"
   ]
  },
  {
   "cell_type": "code",
   "execution_count": 2,
   "metadata": {},
   "outputs": [],
   "source": [
    "def evaluate_all_policies(Num_PE:int):\n",
    "    # Preper jobs\n",
    "    idx = 0\n",
    "    for root in G.Teams:\n",
    "        seed = prng_master.getNumber()\n",
    "        job = {idx, seed, root}\n",
    "        JobQ.append(job)\n",
    "        idx += 1\n",
    "    \n",
    "    # Start parallel threads\n",
    "    for i in range(1,Num_PE):\n",
    "        # Spawn thread: Worker(G, JobQ, ResultQ)\n",
    "        print(i)\n",
    "    \n",
    "    # Call Worker(G, JobQ, ResultQ)\n",
    "    # Join all threads\n",
    "    # Post-Propocess Results and Trace\n",
    "    # Sort ResultQ in result.jobId order\n",
    "    for result in ResultQ:\n",
    "        # Post-process result.trace // Archiving [10]\n",
    "        print(result)\n",
    "\n",
    "def worker():\n",
    "    # Poll for job\n",
    "    while JobQ.getNextJob():\n",
    "        # setup for policy evaluation\n",
    "        job = JobQ.getNextJob()\n",
    "        root = job.root\n",
    "        prng_master.reset(job.seed)\n",
    "        LE.reset(prng_master.getNumber())\n",
    "        # Evaluate policy fitness\n",
    "        trace = evaluate_all_policies(G, root, LE, prng_master)\n",
    "        result = {}\n",
    "        result.jobId = job.id\n",
    "        result.trace = trace\n",
    "        ResultQ.append(result)\n",
    "\n",
    "def execute_program(_p, _data):\n",
    "    for line in _p:\n",
    "        instruction = line.instruction\n",
    "        operands = {}\n",
    "        nbOperands = instruction.operandTypes.size()\n",
    "        for i in range(nbOperands):\n",
    "            _type = instruction.dataTypes[i]\n",
    "            _address = line.operandAdress[i]\n",
    "            if _data.canProvide(_type, _address):\n",
    "                operand = _data.getData(_type, _address)\n",
    "                operands.insert(operand)\n",
    "            else :\n",
    "                sys.exit()\n",
    "            \n",
    "            result = instruction.execute(operands)\n",
    "            _data.set(line.register, result)"
   ]
  },
  {
   "cell_type": "code",
   "execution_count": 2,
   "metadata": {},
   "outputs": [],
   "source": [
    "import numpy as np"
   ]
  },
  {
   "cell_type": "code",
   "execution_count": 3,
   "metadata": {},
   "outputs": [
    {
     "data": {
      "text/plain": [
       "array([1, 2, 3, 4, 5])"
      ]
     },
     "execution_count": 3,
     "metadata": {},
     "output_type": "execute_result"
    }
   ],
   "source": [
    "a = np.array([1,2,3,4,5])\n",
    "a"
   ]
  },
  {
   "cell_type": "code",
   "execution_count": 4,
   "metadata": {},
   "outputs": [
    {
     "name": "stdout",
     "output_type": "stream",
     "text": [
      "[1 2 3 4 5]\n"
     ]
    }
   ],
   "source": [
    "print(a)"
   ]
  },
  {
   "cell_type": "code",
   "execution_count": null,
   "metadata": {},
   "outputs": [],
   "source": []
  }
 ],
 "metadata": {
  "interpreter": {
   "hash": "831f21ec50ae1f6d27fa91aba8f7d63375715576ea39f5c616c9e4ffd4df32aa"
  },
  "kernelspec": {
   "display_name": "Python 3.10.4 ('tpgenv')",
   "language": "python",
   "name": "python3"
  },
  "language_info": {
   "codemirror_mode": {
    "name": "ipython",
    "version": 3
   },
   "file_extension": ".py",
   "mimetype": "text/x-python",
   "name": "python",
   "nbconvert_exporter": "python",
   "pygments_lexer": "ipython3",
   "version": "3.10.4"
  },
  "orig_nbformat": 4
 },
 "nbformat": 4,
 "nbformat_minor": 2
}
